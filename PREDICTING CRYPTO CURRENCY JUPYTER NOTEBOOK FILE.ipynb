{
 "cells": [
  {
   "cell_type": "code",
   "execution_count": 4,
   "id": "6a41dd51-f8ff-4d04-8fc1-56f835ca8eb6",
   "metadata": {},
   "outputs": [],
   "source": [
    "#importing the libaries\n",
    "import pandas as pd\n",
    "import numpy as np"
   ]
  },
  {
   "cell_type": "code",
   "execution_count": 5,
   "id": "a282a01c-cef1-4948-9332-8392f0a77f13",
   "metadata": {},
   "outputs": [],
   "source": [
    "df = pd.read_csv('Bitcoin.csv')\n",
    "df2 = pd.read_csv('ethereum.csv')"
   ]
  },
  {
   "cell_type": "code",
   "execution_count": 6,
   "id": "e9d2a502-3e77-49e7-9541-37c9288f4b01",
   "metadata": {},
   "outputs": [
    {
     "data": {
      "text/html": [
       "<div>\n",
       "<style scoped>\n",
       "    .dataframe tbody tr th:only-of-type {\n",
       "        vertical-align: middle;\n",
       "    }\n",
       "\n",
       "    .dataframe tbody tr th {\n",
       "        vertical-align: top;\n",
       "    }\n",
       "\n",
       "    .dataframe thead th {\n",
       "        text-align: right;\n",
       "    }\n",
       "</style>\n",
       "<table border=\"1\" class=\"dataframe\">\n",
       "  <thead>\n",
       "    <tr style=\"text-align: right;\">\n",
       "      <th></th>\n",
       "      <th>Date</th>\n",
       "      <th>Open</th>\n",
       "      <th>High</th>\n",
       "      <th>Low</th>\n",
       "      <th>Close</th>\n",
       "      <th>Volume</th>\n",
       "      <th>Currency</th>\n",
       "    </tr>\n",
       "  </thead>\n",
       "  <tbody>\n",
       "    <tr>\n",
       "      <th>0</th>\n",
       "      <td>2019-06-18</td>\n",
       "      <td>9128.269531</td>\n",
       "      <td>9149.763672</td>\n",
       "      <td>8988.606445</td>\n",
       "      <td>9062.045898</td>\n",
       "      <td>952850.0</td>\n",
       "      <td>USD</td>\n",
       "    </tr>\n",
       "    <tr>\n",
       "      <th>1</th>\n",
       "      <td>2019-06-19</td>\n",
       "      <td>9068.174805</td>\n",
       "      <td>9277.677734</td>\n",
       "      <td>9051.094727</td>\n",
       "      <td>9271.459961</td>\n",
       "      <td>131077.0</td>\n",
       "      <td>USD</td>\n",
       "    </tr>\n",
       "    <tr>\n",
       "      <th>2</th>\n",
       "      <td>2019-06-20</td>\n",
       "      <td>9271.567383</td>\n",
       "      <td>9573.689453</td>\n",
       "      <td>9209.416992</td>\n",
       "      <td>9519.200195</td>\n",
       "      <td>83052.0</td>\n",
       "      <td>USD</td>\n",
       "    </tr>\n",
       "    <tr>\n",
       "      <th>3</th>\n",
       "      <td>2019-06-21</td>\n",
       "      <td>9526.833984</td>\n",
       "      <td>10130.935547</td>\n",
       "      <td>9526.833984</td>\n",
       "      <td>10127.998047</td>\n",
       "      <td>76227.0</td>\n",
       "      <td>USD</td>\n",
       "    </tr>\n",
       "    <tr>\n",
       "      <th>4</th>\n",
       "      <td>2019-06-22</td>\n",
       "      <td>10151.890625</td>\n",
       "      <td>11171.013672</td>\n",
       "      <td>10083.189453</td>\n",
       "      <td>10719.981445</td>\n",
       "      <td>84485.0</td>\n",
       "      <td>USD</td>\n",
       "    </tr>\n",
       "    <tr>\n",
       "      <th>...</th>\n",
       "      <td>...</td>\n",
       "      <td>...</td>\n",
       "      <td>...</td>\n",
       "      <td>...</td>\n",
       "      <td>...</td>\n",
       "      <td>...</td>\n",
       "      <td>...</td>\n",
       "    </tr>\n",
       "    <tr>\n",
       "      <th>1146</th>\n",
       "      <td>2022-08-18</td>\n",
       "      <td>23331.542969</td>\n",
       "      <td>23567.285156</td>\n",
       "      <td>23152.455078</td>\n",
       "      <td>23222.242188</td>\n",
       "      <td>4546110.0</td>\n",
       "      <td>USD</td>\n",
       "    </tr>\n",
       "    <tr>\n",
       "      <th>1147</th>\n",
       "      <td>2022-08-19</td>\n",
       "      <td>23219.097656</td>\n",
       "      <td>23219.097656</td>\n",
       "      <td>20898.304688</td>\n",
       "      <td>20902.404297</td>\n",
       "      <td>13856579.0</td>\n",
       "      <td>USD</td>\n",
       "    </tr>\n",
       "    <tr>\n",
       "      <th>1148</th>\n",
       "      <td>2022-08-20</td>\n",
       "      <td>20899.923828</td>\n",
       "      <td>21344.845703</td>\n",
       "      <td>20864.435547</td>\n",
       "      <td>21153.019531</td>\n",
       "      <td>7139073.0</td>\n",
       "      <td>USD</td>\n",
       "    </tr>\n",
       "    <tr>\n",
       "      <th>1149</th>\n",
       "      <td>2022-08-21</td>\n",
       "      <td>21153.412109</td>\n",
       "      <td>21695.794922</td>\n",
       "      <td>21125.320312</td>\n",
       "      <td>21561.177734</td>\n",
       "      <td>6657571.0</td>\n",
       "      <td>USD</td>\n",
       "    </tr>\n",
       "    <tr>\n",
       "      <th>1150</th>\n",
       "      <td>2022-08-23</td>\n",
       "      <td>21337.318359</td>\n",
       "      <td>21412.892578</td>\n",
       "      <td>21280.458984</td>\n",
       "      <td>21303.986328</td>\n",
       "      <td>6955056.0</td>\n",
       "      <td>USD</td>\n",
       "    </tr>\n",
       "  </tbody>\n",
       "</table>\n",
       "<p>1151 rows × 7 columns</p>\n",
       "</div>"
      ],
      "text/plain": [
       "            Date          Open          High           Low         Close  \\\n",
       "0     2019-06-18   9128.269531   9149.763672   8988.606445   9062.045898   \n",
       "1     2019-06-19   9068.174805   9277.677734   9051.094727   9271.459961   \n",
       "2     2019-06-20   9271.567383   9573.689453   9209.416992   9519.200195   \n",
       "3     2019-06-21   9526.833984  10130.935547   9526.833984  10127.998047   \n",
       "4     2019-06-22  10151.890625  11171.013672  10083.189453  10719.981445   \n",
       "...          ...           ...           ...           ...           ...   \n",
       "1146  2022-08-18  23331.542969  23567.285156  23152.455078  23222.242188   \n",
       "1147  2022-08-19  23219.097656  23219.097656  20898.304688  20902.404297   \n",
       "1148  2022-08-20  20899.923828  21344.845703  20864.435547  21153.019531   \n",
       "1149  2022-08-21  21153.412109  21695.794922  21125.320312  21561.177734   \n",
       "1150  2022-08-23  21337.318359  21412.892578  21280.458984  21303.986328   \n",
       "\n",
       "          Volume Currency  \n",
       "0       952850.0      USD  \n",
       "1       131077.0      USD  \n",
       "2        83052.0      USD  \n",
       "3        76227.0      USD  \n",
       "4        84485.0      USD  \n",
       "...          ...      ...  \n",
       "1146   4546110.0      USD  \n",
       "1147  13856579.0      USD  \n",
       "1148   7139073.0      USD  \n",
       "1149   6657571.0      USD  \n",
       "1150   6955056.0      USD  \n",
       "\n",
       "[1151 rows x 7 columns]"
      ]
     },
     "execution_count": 6,
     "metadata": {},
     "output_type": "execute_result"
    }
   ],
   "source": [
    "df"
   ]
  },
  {
   "cell_type": "code",
   "execution_count": 7,
   "id": "499d7576-8b11-47f3-a315-c6256ad91302",
   "metadata": {},
   "outputs": [
    {
     "data": {
      "text/html": [
       "<div>\n",
       "<style scoped>\n",
       "    .dataframe tbody tr th:only-of-type {\n",
       "        vertical-align: middle;\n",
       "    }\n",
       "\n",
       "    .dataframe tbody tr th {\n",
       "        vertical-align: top;\n",
       "    }\n",
       "\n",
       "    .dataframe thead th {\n",
       "        text-align: right;\n",
       "    }\n",
       "</style>\n",
       "<table border=\"1\" class=\"dataframe\">\n",
       "  <thead>\n",
       "    <tr style=\"text-align: right;\">\n",
       "      <th></th>\n",
       "      <th>date</th>\n",
       "      <th>Open</th>\n",
       "      <th>High</th>\n",
       "      <th>Low</th>\n",
       "      <th>Close</th>\n",
       "      <th>price</th>\n",
       "      <th>Currency</th>\n",
       "    </tr>\n",
       "  </thead>\n",
       "  <tbody>\n",
       "    <tr>\n",
       "      <th>0</th>\n",
       "      <td>3/10/2016</td>\n",
       "      <td>11.20</td>\n",
       "      <td>11.85</td>\n",
       "      <td>11.07</td>\n",
       "      <td>11.75</td>\n",
       "      <td>4</td>\n",
       "      <td>USD</td>\n",
       "    </tr>\n",
       "    <tr>\n",
       "      <th>1</th>\n",
       "      <td>3/11/2016</td>\n",
       "      <td>11.75</td>\n",
       "      <td>11.95</td>\n",
       "      <td>11.75</td>\n",
       "      <td>11.95</td>\n",
       "      <td>179</td>\n",
       "      <td>USD</td>\n",
       "    </tr>\n",
       "    <tr>\n",
       "      <th>2</th>\n",
       "      <td>3/12/2016</td>\n",
       "      <td>11.95</td>\n",
       "      <td>13.45</td>\n",
       "      <td>11.95</td>\n",
       "      <td>12.92</td>\n",
       "      <td>833</td>\n",
       "      <td>USD</td>\n",
       "    </tr>\n",
       "    <tr>\n",
       "      <th>3</th>\n",
       "      <td>3/13/2016</td>\n",
       "      <td>12.92</td>\n",
       "      <td>15.07</td>\n",
       "      <td>12.92</td>\n",
       "      <td>15.07</td>\n",
       "      <td>1295</td>\n",
       "      <td>USD</td>\n",
       "    </tr>\n",
       "    <tr>\n",
       "      <th>4</th>\n",
       "      <td>3/14/2016</td>\n",
       "      <td>15.07</td>\n",
       "      <td>15.07</td>\n",
       "      <td>11.40</td>\n",
       "      <td>12.50</td>\n",
       "      <td>92183</td>\n",
       "      <td>USD</td>\n",
       "    </tr>\n",
       "    <tr>\n",
       "      <th>...</th>\n",
       "      <td>...</td>\n",
       "      <td>...</td>\n",
       "      <td>...</td>\n",
       "      <td>...</td>\n",
       "      <td>...</td>\n",
       "      <td>...</td>\n",
       "      <td>...</td>\n",
       "    </tr>\n",
       "    <tr>\n",
       "      <th>2353</th>\n",
       "      <td>8/19/2022</td>\n",
       "      <td>1846.52</td>\n",
       "      <td>1846.97</td>\n",
       "      <td>1607.60</td>\n",
       "      <td>1609.48</td>\n",
       "      <td>1594321</td>\n",
       "      <td>USD</td>\n",
       "    </tr>\n",
       "    <tr>\n",
       "      <th>2354</th>\n",
       "      <td>8/20/2022</td>\n",
       "      <td>1609.01</td>\n",
       "      <td>1654.84</td>\n",
       "      <td>1525.51</td>\n",
       "      <td>1575.60</td>\n",
       "      <td>1007240</td>\n",
       "      <td>USD</td>\n",
       "    </tr>\n",
       "    <tr>\n",
       "      <th>2355</th>\n",
       "      <td>8/21/2022</td>\n",
       "      <td>1575.61</td>\n",
       "      <td>1644.88</td>\n",
       "      <td>1563.92</td>\n",
       "      <td>1618.25</td>\n",
       "      <td>852071</td>\n",
       "      <td>USD</td>\n",
       "    </tr>\n",
       "    <tr>\n",
       "      <th>2356</th>\n",
       "      <td>8/22/2022</td>\n",
       "      <td>1618.21</td>\n",
       "      <td>1627.13</td>\n",
       "      <td>1531.91</td>\n",
       "      <td>1626.75</td>\n",
       "      <td>1044290</td>\n",
       "      <td>USD</td>\n",
       "    </tr>\n",
       "    <tr>\n",
       "      <th>2357</th>\n",
       "      <td>8/23/2022</td>\n",
       "      <td>1626.70</td>\n",
       "      <td>1636.32</td>\n",
       "      <td>1615.55</td>\n",
       "      <td>1623.24</td>\n",
       "      <td>1053674</td>\n",
       "      <td>USD</td>\n",
       "    </tr>\n",
       "  </tbody>\n",
       "</table>\n",
       "<p>2358 rows × 7 columns</p>\n",
       "</div>"
      ],
      "text/plain": [
       "           date     Open     High      Low    Close    price Currency\n",
       "0     3/10/2016    11.20    11.85    11.07    11.75        4      USD\n",
       "1     3/11/2016    11.75    11.95    11.75    11.95      179      USD\n",
       "2     3/12/2016    11.95    13.45    11.95    12.92      833      USD\n",
       "3     3/13/2016    12.92    15.07    12.92    15.07     1295      USD\n",
       "4     3/14/2016    15.07    15.07    11.40    12.50    92183      USD\n",
       "...         ...      ...      ...      ...      ...      ...      ...\n",
       "2353  8/19/2022  1846.52  1846.97  1607.60  1609.48  1594321      USD\n",
       "2354  8/20/2022  1609.01  1654.84  1525.51  1575.60  1007240      USD\n",
       "2355  8/21/2022  1575.61  1644.88  1563.92  1618.25   852071      USD\n",
       "2356  8/22/2022  1618.21  1627.13  1531.91  1626.75  1044290      USD\n",
       "2357  8/23/2022  1626.70  1636.32  1615.55  1623.24  1053674      USD\n",
       "\n",
       "[2358 rows x 7 columns]"
      ]
     },
     "execution_count": 7,
     "metadata": {},
     "output_type": "execute_result"
    }
   ],
   "source": [
    "df2"
   ]
  },
  {
   "cell_type": "code",
   "execution_count": 8,
   "id": "c5593ac6-e3b7-4d27-8905-b396e0ec5f8f",
   "metadata": {},
   "outputs": [
    {
     "data": {
      "text/plain": [
       "Date        0\n",
       "Open        0\n",
       "High        0\n",
       "Low         0\n",
       "Close       0\n",
       "Volume      0\n",
       "Currency    0\n",
       "dtype: int64"
      ]
     },
     "execution_count": 8,
     "metadata": {},
     "output_type": "execute_result"
    }
   ],
   "source": [
    "#Check for missing values and implement appropriate strategies (e.g., imputation, removal) to handle them.\n",
    "df.isnull().sum()"
   ]
  },
  {
   "cell_type": "code",
   "execution_count": 9,
   "id": "33967aaf-920c-46d1-9357-c860c62d29b7",
   "metadata": {},
   "outputs": [
    {
     "data": {
      "text/plain": [
       "date        0\n",
       "Open        0\n",
       "High        0\n",
       "Low         0\n",
       "Close       0\n",
       "price       0\n",
       "Currency    0\n",
       "dtype: int64"
      ]
     },
     "execution_count": 9,
     "metadata": {},
     "output_type": "execute_result"
    }
   ],
   "source": [
    "df2.isnull().sum()"
   ]
  },
  {
   "cell_type": "code",
   "execution_count": 10,
   "id": "ff83577e-11f2-472a-8d17-a64d27968874",
   "metadata": {},
   "outputs": [
    {
     "data": {
      "text/plain": [
       "np.int64(0)"
      ]
     },
     "execution_count": 10,
     "metadata": {},
     "output_type": "execute_result"
    }
   ],
   "source": [
    "df.duplicated().sum()"
   ]
  },
  {
   "cell_type": "code",
   "execution_count": 11,
   "id": "bbb8f6b8-3b4a-4593-b50c-98a5804cc417",
   "metadata": {},
   "outputs": [
    {
     "data": {
      "text/plain": [
       "np.int64(0)"
      ]
     },
     "execution_count": 11,
     "metadata": {},
     "output_type": "execute_result"
    }
   ],
   "source": [
    "df2.duplicated().sum()"
   ]
  },
  {
   "cell_type": "code",
   "execution_count": 12,
   "id": "81a94e15-51d7-43b9-91ed-593b0243fd7c",
   "metadata": {},
   "outputs": [],
   "source": [
    "#using heatmap to check for missing values\n",
    "import seaborn as sns\n",
    "import matplotlib.pyplot as plt"
   ]
  },
  {
   "cell_type": "code",
   "execution_count": 13,
   "id": "eba3dd32-230f-4be7-8e35-07adfac1cb41",
   "metadata": {},
   "outputs": [
    {
     "data": {
      "image/png": "[encoded data removed]",
      "text/plain": [
       "<Figure size 640x480 with 1 Axes>"
      ]
     },
     "metadata": {},
     "output_type": "display_data"
    }
   ],
   "source": [
    "sns.heatmap(df.isnull(), cbar=False, cmap='viridis', yticklabels=False)\n",
    "plt.title(\"Heatmap of Missing Values In Bitcoin Dataset\", fontsize=16)\n",
    "plt.show()"
   ]
  },
  {
   "cell_type": "code",
   "execution_count": 14,
   "id": "a73ff408-3e24-485d-9c89-1c8761cc7db3",
   "metadata": {},
   "outputs": [
    {
     "data": {
      "image/png": "[encoded data removed]",
      "text/plain": [
       "<Figure size 640x480 with 1 Axes>"
      ]
     },
     "metadata": {},
     "output_type": "display_data"
    }
   ],
   "source": [
    "sns.heatmap(df2.isnull(), cbar=False, cmap='viridis', yticklabels=False)\n",
    "plt.title(\"Heatmap of Missing Values In Ethereum Dataset\", fontsize=16)\n",
    "plt.show()"
   ]
  },
  {
   "cell_type": "code",
   "execution_count": 15,
   "id": "2e37e6fe-6f2c-47dc-83e3-6290e1b30b6f",
   "metadata": {},
   "outputs": [
    {
     "name": "stdout",
     "output_type": "stream",
     "text": [
      "There are no missing values in the heat map, a missing value would have showed up as red or yellow, therefore the dataset is clean\n"
     ]
    }
   ],
   "source": [
    "print('There are no missing values in the heat map, a missing value would have showed up as red or yellow, therefore the dataset is clean')"
   ]
  },
  {
   "cell_type": "code",
   "execution_count": 16,
   "id": "18fcfcf9-530c-4fbc-ae58-edd69e8dcd46",
   "metadata": {},
   "outputs": [
    {
     "data": {
      "image/png": "[encoded data removed]",
      "text/plain": [
       "<Figure size 1000x400 with 1 Axes>"
      ]
     },
     "metadata": {},
     "output_type": "display_data"
    }
   ],
   "source": [
    "#Visualize the price data over time series to identify trends, seasonality, and potential outliers \n",
    "#graph of ethereum closing price over time \n",
    "plt.figure(figsize=(10,4))\n",
    "plt.plot(df2['date'], df2['price'], label='Price', color='blue', marker='o')\n",
    "plt.title(\"Ethereum Price Over Time\", fontsize=16)\n",
    "plt.xlabel(\"Date\", fontsize=12)\n",
    "plt.ylabel('Price (USD)', fontsize=12)\n",
    "plt.grid(True, linestyle='--', alpha=0.6)\n",
    "plt.legend()\n",
    "plt.show()"
   ]
  },
  {
   "cell_type": "code",
   "execution_count": 17,
   "id": "231096c0-ab4e-41ed-a0c4-225563ce382a",
   "metadata": {},
   "outputs": [],
   "source": [
    "from statsmodels.tsa.seasonal import seasonal_decompose"
   ]
  },
  {
   "cell_type": "code",
   "execution_count": 18,
   "id": "f1b77f48-6126-4e58-9211-2366a14c7f97",
   "metadata": {},
   "outputs": [
    {
     "data": {
      "image/png": "[encoded data removed]",
      "text/plain": [
       "<Figure size 640x480 with 4 Axes>"
      ]
     },
     "metadata": {},
     "output_type": "display_data"
    }
   ],
   "source": [
    "result = seasonal_decompose(df2['price'], model='additive', period=1) \n",
    "result.plot()\n",
    "plt.show()"
   ]
  },
  {
   "cell_type": "code",
   "execution_count": 19,
   "id": "d1a90460-8645-4417-8ba2-b38500cea2d9",
   "metadata": {},
   "outputs": [
    {
     "name": "stdout",
     "output_type": "stream",
     "text": [
      "From the above graph, we can see that the price of ethereum peak was at the end of 2022\n"
     ]
    }
   ],
   "source": [
    "print('From the above graph, we can see that the price of ethereum peak was at the end of 2022')"
   ]
  },
  {
   "cell_type": "code",
   "execution_count": 20,
   "id": "6af33827-5aef-4d4d-9fb1-d939e7fc51e2",
   "metadata": {},
   "outputs": [
    {
     "name": "stdout",
     "output_type": "stream",
     "text": [
      "The above seasonality shows that the decomposition did not detect any periodic or recurring pattern in your data.\n"
     ]
    }
   ],
   "source": [
    "print('The above seasonality shows that the decomposition did not detect any periodic or recurring pattern in your data.')"
   ]
  },
  {
   "cell_type": "code",
   "execution_count": 21,
   "id": "57eea23c-69de-45c4-acad-c3856ba956a8",
   "metadata": {},
   "outputs": [],
   "source": [
    "# Identify outliers using interquartile range (IQR)\n",
    "q1 = df2['price'].quantile(0.25)\n",
    "q3 = df2['price'].quantile(0.75)\n",
    "iqr = q3 - q1\n",
    "\n",
    "lower_bound = q1 - 1.5 * iqr\n",
    "upper_bound = q3 + 1.5 * iqr\n",
    "\n",
    "outliers = df2[(df2['price'] < lower_bound) | (df2['price'] > upper_bound)]"
   ]
  },
  {
   "cell_type": "code",
   "execution_count": 22,
   "id": "ccd463df-eb21-4cf4-abaf-0b2f59048dcc",
   "metadata": {},
   "outputs": [
    {
     "name": "stdout",
     "output_type": "stream",
     "text": [
      "            date     Open     High      Low    Close       price Currency\n",
      "949   10/15/2018   197.09   235.83   195.40   214.26    41350788      USD\n",
      "950   10/16/2018   214.27   218.71   211.37   215.06    20242852      USD\n",
      "953   10/19/2018   206.60   208.74   204.02   204.97    26320516      USD\n",
      "956   10/22/2018   207.38   209.39   205.50   206.77    27132436      USD\n",
      "957   10/23/2018   207.03   207.95   202.99   205.68    19711152      USD\n",
      "...          ...      ...      ...      ...      ...         ...      ...\n",
      "2195   3/14/2022  2516.75  2608.68  2500.12  2589.30   991817088      USD\n",
      "2196   3/15/2022  2589.54  2667.61  2510.75  2617.43  1189507584      USD\n",
      "2197   3/16/2022  2617.43  2787.12  2603.80  2773.94  1792560768      USD\n",
      "2198   3/17/2022  2773.80  2832.61  2747.06  2812.29  1058339968      USD\n",
      "2199   3/18/2022  2812.29  2983.11  2768.65  2939.76  1590928768      USD\n",
      "\n",
      "[142 rows x 7 columns]\n"
     ]
    }
   ],
   "source": [
    "print(outliers)"
   ]
  },
  {
   "cell_type": "code",
   "execution_count": 23,
   "id": "b5308030-c77c-4f10-823f-ea2ba27c8fc3",
   "metadata": {},
   "outputs": [
    {
     "data": {
      "image/png": "[encoded data removed]",
      "text/plain": [
       "<Figure size 1000x400 with 1 Axes>"
      ]
     },
     "metadata": {},
     "output_type": "display_data"
    }
   ],
   "source": [
    "# Plot data with outliers\n",
    "plt.figure(figsize=(10, 4))\n",
    "sns.lineplot(x=df2.index, y=df2['price'], label='price', marker='o')\n",
    "plt.scatter(outliers.index, outliers['price'], color='red', label='Outliers', s=100)\n",
    "\n",
    "plt.title(\"Ethereum Price with Outliers Highlighted\", fontsize=16)\n",
    "plt.xlabel(\"Date\", fontsize=12)\n",
    "plt.ylabel(\"Price (USD)\", fontsize=12)\n",
    "plt.legend()\n",
    "plt.grid(True, linestyle='--', alpha=0.6)\n",
    "plt.show()"
   ]
  },
  {
   "cell_type": "code",
   "execution_count": 24,
   "id": "a2bbee9c-e11e-4eb5-96bb-49ec4eafd29a",
   "metadata": {},
   "outputs": [
    {
     "name": "stdout",
     "output_type": "stream",
     "text": [
      "We have 142 rows in ethereum pice with outliers\n"
     ]
    }
   ],
   "source": [
    "print('We have 142 rows in ethereum pice with outliers')"
   ]
  },
  {
   "cell_type": "code",
   "execution_count": 25,
   "id": "79e8f726-bc13-42fa-84e1-d1b40b13287d",
   "metadata": {},
   "outputs": [
    {
     "name": "stdout",
     "output_type": "stream",
     "text": [
      "This outliers can be geniune observations that reflect real occurances in ethereum market, removing it may hinder our progress\n"
     ]
    }
   ],
   "source": [
    "print('This outliers can be geniune observations that reflect real occurances in ethereum market, removing it may hinder our progress')"
   ]
  },
  {
   "cell_type": "code",
   "execution_count": 26,
   "id": "365628e5-574d-4012-a122-f9cbb34b2846",
   "metadata": {},
   "outputs": [
    {
     "data": {
      "image/png": "[encoded data removed]",
      "text/plain": [
       "<Figure size 1000x400 with 1 Axes>"
      ]
     },
     "metadata": {},
     "output_type": "display_data"
    }
   ],
   "source": [
    "#Visualize the price data over time series to identify trends, seasonality, and potential outliers in bitcoin\n",
    "plt.figure(figsize=(10, 4))\n",
    "plt.plot(df['Date'], df['Close'], label='Close Price', color='blue', linewidth=1.5)\n",
    "plt.title('Bitcoin Close Price Over Time', fontsize=16)\n",
    "plt.xlabel('Date', fontsize=12)\n",
    "plt.ylabel('Close Price (Currency)', fontsize=12)\n",
    "plt.grid(alpha=0.5)\n",
    "plt.legend(fontsize=12)\n",
    "plt.show()"
   ]
  },
  {
   "cell_type": "code",
   "execution_count": 27,
   "id": "de3e4b6d-54fe-4d88-a38b-8ff9938a4282",
   "metadata": {},
   "outputs": [],
   "source": [
    "# Identify outliers using interquartile range (IQR)\n",
    "q1 = df['Close'].quantile(0.25)\n",
    "q3 = df['Close'].quantile(0.75)\n",
    "iqr = q3 - q1\n",
    "\n",
    "lower_bound = q1 - 1.5 * iqr\n",
    "upper_bound = q3 + 1.5 * iqr\n",
    "\n",
    "outliers = df[(df['Close'] < lower_bound) | (df['Close'] > upper_bound)]"
   ]
  },
  {
   "cell_type": "code",
   "execution_count": 28,
   "id": "32722a88-9c0c-44db-925d-09effc299a1b",
   "metadata": {},
   "outputs": [
    {
     "data": {
      "text/html": [
       "<div>\n",
       "<style scoped>\n",
       "    .dataframe tbody tr th:only-of-type {\n",
       "        vertical-align: middle;\n",
       "    }\n",
       "\n",
       "    .dataframe tbody tr th {\n",
       "        vertical-align: top;\n",
       "    }\n",
       "\n",
       "    .dataframe thead th {\n",
       "        text-align: right;\n",
       "    }\n",
       "</style>\n",
       "<table border=\"1\" class=\"dataframe\">\n",
       "  <thead>\n",
       "    <tr style=\"text-align: right;\">\n",
       "      <th></th>\n",
       "      <th>Date</th>\n",
       "      <th>Open</th>\n",
       "      <th>High</th>\n",
       "      <th>Low</th>\n",
       "      <th>Close</th>\n",
       "      <th>Volume</th>\n",
       "      <th>Currency</th>\n",
       "    </tr>\n",
       "  </thead>\n",
       "  <tbody>\n",
       "  </tbody>\n",
       "</table>\n",
       "</div>"
      ],
      "text/plain": [
       "Empty DataFrame\n",
       "Columns: [Date, Open, High, Low, Close, Volume, Currency]\n",
       "Index: []"
      ]
     },
     "execution_count": 28,
     "metadata": {},
     "output_type": "execute_result"
    }
   ],
   "source": [
    "outliers"
   ]
  },
  {
   "cell_type": "code",
   "execution_count": 29,
   "id": "7b36b23c-7e57-4c4b-8f00-91d5b20f98e0",
   "metadata": {},
   "outputs": [
    {
     "data": {
      "image/png": "[encoded data removed]",
      "text/plain": [
       "<Figure size 1000x400 with 1 Axes>"
      ]
     },
     "metadata": {},
     "output_type": "display_data"
    }
   ],
   "source": [
    "# Plot Close price over time\n",
    "plt.figure(figsize=(10, 4))\n",
    "plt.plot(df['Date'], df['Close'], label='Close Price', color='blue', linewidth=1.5)\n",
    "plt.scatter(outliers['Date'], outliers['Close'], color='red', label='Outliers', zorder=5)\n",
    "plt.title('Bitcoin Close Price with Outliers', fontsize=16)\n",
    "plt.xlabel('Date', fontsize=12)\n",
    "plt.ylabel('Close Price (Currency)', fontsize=12)\n",
    "plt.legend(fontsize=12)\n",
    "plt.grid(alpha=0.5)\n",
    "plt.show()"
   ]
  },
  {
   "cell_type": "code",
   "execution_count": 30,
   "id": "f856caee-0abe-462f-bb7a-d43c1487cd2f",
   "metadata": {},
   "outputs": [
    {
     "name": "stdout",
     "output_type": "stream",
     "text": [
      "There are no outliers present in the bitcoin close price column\n"
     ]
    }
   ],
   "source": [
    "print('There are no outliers present in the bitcoin close price column')"
   ]
  },
  {
   "cell_type": "code",
   "execution_count": 31,
   "id": "ccc26214-41fc-4c7e-a455-334b4bb992a5",
   "metadata": {},
   "outputs": [
    {
     "data": {
      "image/png": "[encoded data removed]",
      "text/plain": [
       "<Figure size 640x480 with 4 Axes>"
      ]
     },
     "metadata": {},
     "output_type": "display_data"
    }
   ],
   "source": [
    "#the seasonality in a 1 year period\n",
    "result = seasonal_decompose(df['Close'], model='additive', period=1) \n",
    "result.plot()\n",
    "plt.show()"
   ]
  },
  {
   "cell_type": "code",
   "execution_count": 32,
   "id": "491d6fae-3e41-49c3-9894-6c61862d5ec8",
   "metadata": {},
   "outputs": [],
   "source": [
    "#Identify relevant features for predicting Bitcoin prices.\n",
    "high_relevance_columns = ['Open', 'High', 'Low','Close','Volume']\n",
    "preview = df[high_relevance_columns]"
   ]
  },
  {
   "cell_type": "code",
   "execution_count": 33,
   "id": "09b7b82a-6572-41bb-9c21-b23312044f48",
   "metadata": {},
   "outputs": [
    {
     "data": {
      "text/html": [
       "<div>\n",
       "<style scoped>\n",
       "    .dataframe tbody tr th:only-of-type {\n",
       "        vertical-align: middle;\n",
       "    }\n",
       "\n",
       "    .dataframe tbody tr th {\n",
       "        vertical-align: top;\n",
       "    }\n",
       "\n",
       "    .dataframe thead th {\n",
       "        text-align: right;\n",
       "    }\n",
       "</style>\n",
       "<table border=\"1\" class=\"dataframe\">\n",
       "  <thead>\n",
       "    <tr style=\"text-align: right;\">\n",
       "      <th></th>\n",
       "      <th>Open</th>\n",
       "      <th>High</th>\n",
       "      <th>Low</th>\n",
       "      <th>Close</th>\n",
       "      <th>Volume</th>\n",
       "    </tr>\n",
       "  </thead>\n",
       "  <tbody>\n",
       "    <tr>\n",
       "      <th>0</th>\n",
       "      <td>9128.269531</td>\n",
       "      <td>9149.763672</td>\n",
       "      <td>8988.606445</td>\n",
       "      <td>9062.045898</td>\n",
       "      <td>952850.0</td>\n",
       "    </tr>\n",
       "    <tr>\n",
       "      <th>1</th>\n",
       "      <td>9068.174805</td>\n",
       "      <td>9277.677734</td>\n",
       "      <td>9051.094727</td>\n",
       "      <td>9271.459961</td>\n",
       "      <td>131077.0</td>\n",
       "    </tr>\n",
       "    <tr>\n",
       "      <th>2</th>\n",
       "      <td>9271.567383</td>\n",
       "      <td>9573.689453</td>\n",
       "      <td>9209.416992</td>\n",
       "      <td>9519.200195</td>\n",
       "      <td>83052.0</td>\n",
       "    </tr>\n",
       "    <tr>\n",
       "      <th>3</th>\n",
       "      <td>9526.833984</td>\n",
       "      <td>10130.935547</td>\n",
       "      <td>9526.833984</td>\n",
       "      <td>10127.998047</td>\n",
       "      <td>76227.0</td>\n",
       "    </tr>\n",
       "    <tr>\n",
       "      <th>4</th>\n",
       "      <td>10151.890625</td>\n",
       "      <td>11171.013672</td>\n",
       "      <td>10083.189453</td>\n",
       "      <td>10719.981445</td>\n",
       "      <td>84485.0</td>\n",
       "    </tr>\n",
       "    <tr>\n",
       "      <th>...</th>\n",
       "      <td>...</td>\n",
       "      <td>...</td>\n",
       "      <td>...</td>\n",
       "      <td>...</td>\n",
       "      <td>...</td>\n",
       "    </tr>\n",
       "    <tr>\n",
       "      <th>1146</th>\n",
       "      <td>23331.542969</td>\n",
       "      <td>23567.285156</td>\n",
       "      <td>23152.455078</td>\n",
       "      <td>23222.242188</td>\n",
       "      <td>4546110.0</td>\n",
       "    </tr>\n",
       "    <tr>\n",
       "      <th>1147</th>\n",
       "      <td>23219.097656</td>\n",
       "      <td>23219.097656</td>\n",
       "      <td>20898.304688</td>\n",
       "      <td>20902.404297</td>\n",
       "      <td>13856579.0</td>\n",
       "    </tr>\n",
       "    <tr>\n",
       "      <th>1148</th>\n",
       "      <td>20899.923828</td>\n",
       "      <td>21344.845703</td>\n",
       "      <td>20864.435547</td>\n",
       "      <td>21153.019531</td>\n",
       "      <td>7139073.0</td>\n",
       "    </tr>\n",
       "    <tr>\n",
       "      <th>1149</th>\n",
       "      <td>21153.412109</td>\n",
       "      <td>21695.794922</td>\n",
       "      <td>21125.320312</td>\n",
       "      <td>21561.177734</td>\n",
       "      <td>6657571.0</td>\n",
       "    </tr>\n",
       "    <tr>\n",
       "      <th>1150</th>\n",
       "      <td>21337.318359</td>\n",
       "      <td>21412.892578</td>\n",
       "      <td>21280.458984</td>\n",
       "      <td>21303.986328</td>\n",
       "      <td>6955056.0</td>\n",
       "    </tr>\n",
       "  </tbody>\n",
       "</table>\n",
       "<p>1151 rows × 5 columns</p>\n",
       "</div>"
      ],
      "text/plain": [
       "              Open          High           Low         Close      Volume\n",
       "0      9128.269531   9149.763672   8988.606445   9062.045898    952850.0\n",
       "1      9068.174805   9277.677734   9051.094727   9271.459961    131077.0\n",
       "2      9271.567383   9573.689453   9209.416992   9519.200195     83052.0\n",
       "3      9526.833984  10130.935547   9526.833984  10127.998047     76227.0\n",
       "4     10151.890625  11171.013672  10083.189453  10719.981445     84485.0\n",
       "...            ...           ...           ...           ...         ...\n",
       "1146  23331.542969  23567.285156  23152.455078  23222.242188   4546110.0\n",
       "1147  23219.097656  23219.097656  20898.304688  20902.404297  13856579.0\n",
       "1148  20899.923828  21344.845703  20864.435547  21153.019531   7139073.0\n",
       "1149  21153.412109  21695.794922  21125.320312  21561.177734   6657571.0\n",
       "1150  21337.318359  21412.892578  21280.458984  21303.986328   6955056.0\n",
       "\n",
       "[1151 rows x 5 columns]"
      ]
     },
     "execution_count": 33,
     "metadata": {},
     "output_type": "execute_result"
    }
   ],
   "source": [
    "preview"
   ]
  },
  {
   "cell_type": "code",
   "execution_count": 34,
   "id": "d5876fe9-6b00-4dde-8c3f-9c5c46334438",
   "metadata": {},
   "outputs": [
    {
     "data": {
      "text/html": [
       "<div>\n",
       "<style scoped>\n",
       "    .dataframe tbody tr th:only-of-type {\n",
       "        vertical-align: middle;\n",
       "    }\n",
       "\n",
       "    .dataframe tbody tr th {\n",
       "        vertical-align: top;\n",
       "    }\n",
       "\n",
       "    .dataframe thead th {\n",
       "        text-align: right;\n",
       "    }\n",
       "</style>\n",
       "<table border=\"1\" class=\"dataframe\">\n",
       "  <thead>\n",
       "    <tr style=\"text-align: right;\">\n",
       "      <th></th>\n",
       "      <th>Open</th>\n",
       "      <th>High</th>\n",
       "      <th>Low</th>\n",
       "      <th>Close</th>\n",
       "      <th>Volume</th>\n",
       "    </tr>\n",
       "  </thead>\n",
       "  <tbody>\n",
       "    <tr>\n",
       "      <th>count</th>\n",
       "      <td>1151.000000</td>\n",
       "      <td>1151.000000</td>\n",
       "      <td>1151.000000</td>\n",
       "      <td>1151.000000</td>\n",
       "      <td>1.151000e+03</td>\n",
       "    </tr>\n",
       "    <tr>\n",
       "      <th>mean</th>\n",
       "      <td>26488.652992</td>\n",
       "      <td>27528.416710</td>\n",
       "      <td>25416.606967</td>\n",
       "      <td>26496.733082</td>\n",
       "      <td>2.874051e+07</td>\n",
       "    </tr>\n",
       "    <tr>\n",
       "      <th>std</th>\n",
       "      <td>17963.101635</td>\n",
       "      <td>18432.925246</td>\n",
       "      <td>17484.604545</td>\n",
       "      <td>17952.113609</td>\n",
       "      <td>5.202999e+07</td>\n",
       "    </tr>\n",
       "    <tr>\n",
       "      <th>min</th>\n",
       "      <td>4943.832520</td>\n",
       "      <td>5338.512695</td>\n",
       "      <td>0.076853</td>\n",
       "      <td>4936.755371</td>\n",
       "      <td>0.000000e+00</td>\n",
       "    </tr>\n",
       "    <tr>\n",
       "      <th>25%</th>\n",
       "      <td>9706.758301</td>\n",
       "      <td>10090.012695</td>\n",
       "      <td>9360.636230</td>\n",
       "      <td>9712.636719</td>\n",
       "      <td>7.495500e+03</td>\n",
       "    </tr>\n",
       "    <tr>\n",
       "      <th>50%</th>\n",
       "      <td>20873.337891</td>\n",
       "      <td>21867.822266</td>\n",
       "      <td>20245.201172</td>\n",
       "      <td>20902.404297</td>\n",
       "      <td>1.864334e+06</td>\n",
       "    </tr>\n",
       "    <tr>\n",
       "      <th>75%</th>\n",
       "      <td>41782.333984</td>\n",
       "      <td>42749.439453</td>\n",
       "      <td>40890.394531</td>\n",
       "      <td>41782.333984</td>\n",
       "      <td>4.076471e+07</td>\n",
       "    </tr>\n",
       "    <tr>\n",
       "      <th>max</th>\n",
       "      <td>67470.437500</td>\n",
       "      <td>85563.984375</td>\n",
       "      <td>66072.343750</td>\n",
       "      <td>67502.421875</td>\n",
       "      <td>5.791706e+08</td>\n",
       "    </tr>\n",
       "  </tbody>\n",
       "</table>\n",
       "</div>"
      ],
      "text/plain": [
       "               Open          High           Low         Close        Volume\n",
       "count   1151.000000   1151.000000   1151.000000   1151.000000  1.151000e+03\n",
       "mean   26488.652992  27528.416710  25416.606967  26496.733082  2.874051e+07\n",
       "std    17963.101635  18432.925246  17484.604545  17952.113609  5.202999e+07\n",
       "min     4943.832520   5338.512695      0.076853   4936.755371  0.000000e+00\n",
       "25%     9706.758301  10090.012695   9360.636230   9712.636719  7.495500e+03\n",
       "50%    20873.337891  21867.822266  20245.201172  20902.404297  1.864334e+06\n",
       "75%    41782.333984  42749.439453  40890.394531  41782.333984  4.076471e+07\n",
       "max    67470.437500  85563.984375  66072.343750  67502.421875  5.791706e+08"
      ]
     },
     "execution_count": 34,
     "metadata": {},
     "output_type": "execute_result"
    }
   ],
   "source": [
    "#Calculate descriptive statistics for numerical features (mean, median, standard deviation) andanalyze categorical features (frequency distribution)\n",
    "df.describe()"
   ]
  },
  {
   "cell_type": "code",
   "execution_count": 35,
   "id": "ef4c0a1a-d80c-4b3c-ba40-16aefc1b8b08",
   "metadata": {},
   "outputs": [
    {
     "data": {
      "text/html": [
       "<div>\n",
       "<style scoped>\n",
       "    .dataframe tbody tr th:only-of-type {\n",
       "        vertical-align: middle;\n",
       "    }\n",
       "\n",
       "    .dataframe tbody tr th {\n",
       "        vertical-align: top;\n",
       "    }\n",
       "\n",
       "    .dataframe thead th {\n",
       "        text-align: right;\n",
       "    }\n",
       "</style>\n",
       "<table border=\"1\" class=\"dataframe\">\n",
       "  <thead>\n",
       "    <tr style=\"text-align: right;\">\n",
       "      <th></th>\n",
       "      <th>Open</th>\n",
       "      <th>High</th>\n",
       "      <th>Low</th>\n",
       "      <th>Close</th>\n",
       "      <th>price</th>\n",
       "    </tr>\n",
       "  </thead>\n",
       "  <tbody>\n",
       "    <tr>\n",
       "      <th>count</th>\n",
       "      <td>2358.000000</td>\n",
       "      <td>2358.000000</td>\n",
       "      <td>2358.000000</td>\n",
       "      <td>2358.000000</td>\n",
       "      <td>2.358000e+03</td>\n",
       "    </tr>\n",
       "    <tr>\n",
       "      <th>mean</th>\n",
       "      <td>847.608083</td>\n",
       "      <td>877.386828</td>\n",
       "      <td>813.515225</td>\n",
       "      <td>848.270513</td>\n",
       "      <td>1.269467e+07</td>\n",
       "    </tr>\n",
       "    <tr>\n",
       "      <th>std</th>\n",
       "      <td>1150.297624</td>\n",
       "      <td>1186.544788</td>\n",
       "      <td>1107.868923</td>\n",
       "      <td>1150.261834</td>\n",
       "      <td>1.014013e+08</td>\n",
       "    </tr>\n",
       "    <tr>\n",
       "      <th>min</th>\n",
       "      <td>6.680000</td>\n",
       "      <td>7.320000</td>\n",
       "      <td>5.860000</td>\n",
       "      <td>6.700000</td>\n",
       "      <td>0.000000e+00</td>\n",
       "    </tr>\n",
       "    <tr>\n",
       "      <th>25%</th>\n",
       "      <td>138.767500</td>\n",
       "      <td>144.417500</td>\n",
       "      <td>134.780000</td>\n",
       "      <td>138.990000</td>\n",
       "      <td>5.465530e+05</td>\n",
       "    </tr>\n",
       "    <tr>\n",
       "      <th>50%</th>\n",
       "      <td>279.165000</td>\n",
       "      <td>288.000000</td>\n",
       "      <td>266.885000</td>\n",
       "      <td>280.115000</td>\n",
       "      <td>1.429778e+06</td>\n",
       "    </tr>\n",
       "    <tr>\n",
       "      <th>75%</th>\n",
       "      <td>1124.007500</td>\n",
       "      <td>1170.885000</td>\n",
       "      <td>1045.820000</td>\n",
       "      <td>1127.730000</td>\n",
       "      <td>7.717627e+06</td>\n",
       "    </tr>\n",
       "    <tr>\n",
       "      <th>max</th>\n",
       "      <td>4808.340000</td>\n",
       "      <td>4864.060000</td>\n",
       "      <td>4715.430000</td>\n",
       "      <td>4808.380000</td>\n",
       "      <td>1.792561e+09</td>\n",
       "    </tr>\n",
       "  </tbody>\n",
       "</table>\n",
       "</div>"
      ],
      "text/plain": [
       "              Open         High          Low        Close         price\n",
       "count  2358.000000  2358.000000  2358.000000  2358.000000  2.358000e+03\n",
       "mean    847.608083   877.386828   813.515225   848.270513  1.269467e+07\n",
       "std    1150.297624  1186.544788  1107.868923  1150.261834  1.014013e+08\n",
       "min       6.680000     7.320000     5.860000     6.700000  0.000000e+00\n",
       "25%     138.767500   144.417500   134.780000   138.990000  5.465530e+05\n",
       "50%     279.165000   288.000000   266.885000   280.115000  1.429778e+06\n",
       "75%    1124.007500  1170.885000  1045.820000  1127.730000  7.717627e+06\n",
       "max    4808.340000  4864.060000  4715.430000  4808.380000  1.792561e+09"
      ]
     },
     "execution_count": 35,
     "metadata": {},
     "output_type": "execute_result"
    }
   ],
   "source": [
    "df2.describe()"
   ]
  },
  {
   "cell_type": "code",
   "execution_count": 36,
   "id": "12edf192-3abe-4a52-a60b-9b1324c40a93",
   "metadata": {},
   "outputs": [
    {
     "name": "stdout",
     "output_type": "stream",
     "text": [
      "Mean: Open      2.648865e+04\n",
      "High      2.752842e+04\n",
      "Low       2.541661e+04\n",
      "Close     2.649673e+04\n",
      "Volume    2.874051e+07\n",
      "dtype: float64\n",
      "Median: Open      2.087334e+04\n",
      "High      2.186782e+04\n",
      "Low       2.024520e+04\n",
      "Close     2.090240e+04\n",
      "Volume    1.864334e+06\n",
      "dtype: float64\n",
      "Standard deviation: Open      1.796310e+04\n",
      "High      1.843293e+04\n",
      "Low       1.748460e+04\n",
      "Close     1.795211e+04\n",
      "Volume    5.202999e+07\n",
      "dtype: float64\n"
     ]
    }
   ],
   "source": [
    "#mean, median, and standard deviation for bitcoin dataset\n",
    "features_for_mean_median_std = ['Open', 'High', 'Low','Close','Volume']\n",
    "relevant_mean_median_std = df[features_for_mean_median_std] \n",
    "mean = relevant_mean_median_std.mean()\n",
    "median = relevant_mean_median_std.median()\n",
    "std = relevant_mean_median_std.std()\n",
    "print('Mean:', mean)\n",
    "print('Median:', median)\n",
    "print('Standard deviation:', std)"
   ]
  },
  {
   "cell_type": "code",
   "execution_count": 37,
   "id": "9bbe7418-d804-47eb-8f78-bb010ce46714",
   "metadata": {},
   "outputs": [
    {
     "name": "stdout",
     "output_type": "stream",
     "text": [
      "Mean: Open     8.476081e+02\n",
      "High     8.773868e+02\n",
      "Low      8.135152e+02\n",
      "Close    8.482705e+02\n",
      "price    1.269467e+07\n",
      "dtype: float64\n",
      "Median: Open         279.165\n",
      "High         288.000\n",
      "Low          266.885\n",
      "Close        280.115\n",
      "price    1429778.500\n",
      "dtype: float64\n",
      "Standard deviation: Open     1.150298e+03\n",
      "High     1.186545e+03\n",
      "Low      1.107869e+03\n",
      "Close    1.150262e+03\n",
      "price    1.014013e+08\n",
      "dtype: float64\n"
     ]
    }
   ],
   "source": [
    "#mean, median, and standard deviation for ethereum dataset\n",
    "features_for_mean_median_std = ['Open','High','Low','Close','price']\n",
    "relevant_mean_median_std = df2[features_for_mean_median_std] \n",
    "mean = relevant_mean_median_std.mean()\n",
    "median = relevant_mean_median_std.median()\n",
    "std = relevant_mean_median_std.std()\n",
    "print('Mean:', mean)\n",
    "print('Median:', median)\n",
    "print('Standard deviation:', std)"
   ]
  },
  {
   "cell_type": "code",
   "execution_count": 38,
   "id": "52f9e36d-a401-4fe2-9511-305a5a1ab006",
   "metadata": {},
   "outputs": [
    {
     "name": "stdout",
     "output_type": "stream",
     "text": [
      "Currency\n",
      "USD         1151\n",
      "Name: count, dtype: int64\n"
     ]
    }
   ],
   "source": [
    "# Frequency distribution for categorical features e.g currency, for bitcoin dataset\n",
    "categorical_feature = ['Currency']\n",
    "frequency_distribution = df[categorical_feature].value_counts()\n",
    "print(frequency_distribution)"
   ]
  },
  {
   "cell_type": "code",
   "execution_count": 39,
   "id": "265234b0-9e9b-4f54-8585-d2eb405bb031",
   "metadata": {},
   "outputs": [
    {
     "name": "stdout",
     "output_type": "stream",
     "text": [
      "Currency\n",
      "USD         2358\n",
      "Name: count, dtype: int64\n"
     ]
    }
   ],
   "source": [
    "# Frequency distribution for categorical features e.g currency, for ethereum dataset\n",
    "categorical_feature = ['Currency']\n",
    "frequency_distribution = df2[categorical_feature].value_counts()\n",
    "print(frequency_distribution)"
   ]
  },
  {
   "cell_type": "code",
   "execution_count": 40,
   "id": "2426431a-78e9-45b8-ac50-18dd90cb4c3a",
   "metadata": {},
   "outputs": [],
   "source": [
    "#Define the target variable as the future Bitcoin and Ethereum prices (e.g., closing price in the next time window).\n",
    "#I can use shift() to create a new column with the future price for each row.\n",
    "df['Future_Close'] = df['Close'].shift(-1)\n",
    "df2['Future_Close'] = df2['Close'].shift(-1)\n"
   ]
  },
  {
   "cell_type": "code",
   "execution_count": 41,
   "id": "2baf0dc8-22b3-45ae-91ba-0d7715a4bd03",
   "metadata": {},
   "outputs": [
    {
     "data": {
      "text/html": [
       "<div>\n",
       "<style scoped>\n",
       "    .dataframe tbody tr th:only-of-type {\n",
       "        vertical-align: middle;\n",
       "    }\n",
       "\n",
       "    .dataframe tbody tr th {\n",
       "        vertical-align: top;\n",
       "    }\n",
       "\n",
       "    .dataframe thead th {\n",
       "        text-align: right;\n",
       "    }\n",
       "</style>\n",
       "<table border=\"1\" class=\"dataframe\">\n",
       "  <thead>\n",
       "    <tr style=\"text-align: right;\">\n",
       "      <th></th>\n",
       "      <th>Date</th>\n",
       "      <th>Open</th>\n",
       "      <th>High</th>\n",
       "      <th>Low</th>\n",
       "      <th>Close</th>\n",
       "      <th>Volume</th>\n",
       "      <th>Currency</th>\n",
       "      <th>Future_Close</th>\n",
       "    </tr>\n",
       "  </thead>\n",
       "  <tbody>\n",
       "    <tr>\n",
       "      <th>0</th>\n",
       "      <td>2019-06-18</td>\n",
       "      <td>9128.269531</td>\n",
       "      <td>9149.763672</td>\n",
       "      <td>8988.606445</td>\n",
       "      <td>9062.045898</td>\n",
       "      <td>952850.0</td>\n",
       "      <td>USD</td>\n",
       "      <td>9271.459961</td>\n",
       "    </tr>\n",
       "    <tr>\n",
       "      <th>1</th>\n",
       "      <td>2019-06-19</td>\n",
       "      <td>9068.174805</td>\n",
       "      <td>9277.677734</td>\n",
       "      <td>9051.094727</td>\n",
       "      <td>9271.459961</td>\n",
       "      <td>131077.0</td>\n",
       "      <td>USD</td>\n",
       "      <td>9519.200195</td>\n",
       "    </tr>\n",
       "    <tr>\n",
       "      <th>2</th>\n",
       "      <td>2019-06-20</td>\n",
       "      <td>9271.567383</td>\n",
       "      <td>9573.689453</td>\n",
       "      <td>9209.416992</td>\n",
       "      <td>9519.200195</td>\n",
       "      <td>83052.0</td>\n",
       "      <td>USD</td>\n",
       "      <td>10127.998047</td>\n",
       "    </tr>\n",
       "    <tr>\n",
       "      <th>3</th>\n",
       "      <td>2019-06-21</td>\n",
       "      <td>9526.833984</td>\n",
       "      <td>10130.935547</td>\n",
       "      <td>9526.833984</td>\n",
       "      <td>10127.998047</td>\n",
       "      <td>76227.0</td>\n",
       "      <td>USD</td>\n",
       "      <td>10719.981445</td>\n",
       "    </tr>\n",
       "    <tr>\n",
       "      <th>4</th>\n",
       "      <td>2019-06-22</td>\n",
       "      <td>10151.890625</td>\n",
       "      <td>11171.013672</td>\n",
       "      <td>10083.189453</td>\n",
       "      <td>10719.981445</td>\n",
       "      <td>84485.0</td>\n",
       "      <td>USD</td>\n",
       "      <td>11246.518555</td>\n",
       "    </tr>\n",
       "    <tr>\n",
       "      <th>...</th>\n",
       "      <td>...</td>\n",
       "      <td>...</td>\n",
       "      <td>...</td>\n",
       "      <td>...</td>\n",
       "      <td>...</td>\n",
       "      <td>...</td>\n",
       "      <td>...</td>\n",
       "      <td>...</td>\n",
       "    </tr>\n",
       "    <tr>\n",
       "      <th>1146</th>\n",
       "      <td>2022-08-18</td>\n",
       "      <td>23331.542969</td>\n",
       "      <td>23567.285156</td>\n",
       "      <td>23152.455078</td>\n",
       "      <td>23222.242188</td>\n",
       "      <td>4546110.0</td>\n",
       "      <td>USD</td>\n",
       "      <td>20902.404297</td>\n",
       "    </tr>\n",
       "    <tr>\n",
       "      <th>1147</th>\n",
       "      <td>2022-08-19</td>\n",
       "      <td>23219.097656</td>\n",
       "      <td>23219.097656</td>\n",
       "      <td>20898.304688</td>\n",
       "      <td>20902.404297</td>\n",
       "      <td>13856579.0</td>\n",
       "      <td>USD</td>\n",
       "      <td>21153.019531</td>\n",
       "    </tr>\n",
       "    <tr>\n",
       "      <th>1148</th>\n",
       "      <td>2022-08-20</td>\n",
       "      <td>20899.923828</td>\n",
       "      <td>21344.845703</td>\n",
       "      <td>20864.435547</td>\n",
       "      <td>21153.019531</td>\n",
       "      <td>7139073.0</td>\n",
       "      <td>USD</td>\n",
       "      <td>21561.177734</td>\n",
       "    </tr>\n",
       "    <tr>\n",
       "      <th>1149</th>\n",
       "      <td>2022-08-21</td>\n",
       "      <td>21153.412109</td>\n",
       "      <td>21695.794922</td>\n",
       "      <td>21125.320312</td>\n",
       "      <td>21561.177734</td>\n",
       "      <td>6657571.0</td>\n",
       "      <td>USD</td>\n",
       "      <td>21303.986328</td>\n",
       "    </tr>\n",
       "    <tr>\n",
       "      <th>1150</th>\n",
       "      <td>2022-08-23</td>\n",
       "      <td>21337.318359</td>\n",
       "      <td>21412.892578</td>\n",
       "      <td>21280.458984</td>\n",
       "      <td>21303.986328</td>\n",
       "      <td>6955056.0</td>\n",
       "      <td>USD</td>\n",
       "      <td>NaN</td>\n",
       "    </tr>\n",
       "  </tbody>\n",
       "</table>\n",
       "<p>1151 rows × 8 columns</p>\n",
       "</div>"
      ],
      "text/plain": [
       "            Date          Open          High           Low         Close  \\\n",
       "0     2019-06-18   9128.269531   9149.763672   8988.606445   9062.045898   \n",
       "1     2019-06-19   9068.174805   9277.677734   9051.094727   9271.459961   \n",
       "2     2019-06-20   9271.567383   9573.689453   9209.416992   9519.200195   \n",
       "3     2019-06-21   9526.833984  10130.935547   9526.833984  10127.998047   \n",
       "4     2019-06-22  10151.890625  11171.013672  10083.189453  10719.981445   \n",
       "...          ...           ...           ...           ...           ...   \n",
       "1146  2022-08-18  23331.542969  23567.285156  23152.455078  23222.242188   \n",
       "1147  2022-08-19  23219.097656  23219.097656  20898.304688  20902.404297   \n",
       "1148  2022-08-20  20899.923828  21344.845703  20864.435547  21153.019531   \n",
       "1149  2022-08-21  21153.412109  21695.794922  21125.320312  21561.177734   \n",
       "1150  2022-08-23  21337.318359  21412.892578  21280.458984  21303.986328   \n",
       "\n",
       "          Volume Currency  Future_Close  \n",
       "0       952850.0      USD   9271.459961  \n",
       "1       131077.0      USD   9519.200195  \n",
       "2        83052.0      USD  10127.998047  \n",
       "3        76227.0      USD  10719.981445  \n",
       "4        84485.0      USD  11246.518555  \n",
       "...          ...      ...           ...  \n",
       "1146   4546110.0      USD  20902.404297  \n",
       "1147  13856579.0      USD  21153.019531  \n",
       "1148   7139073.0      USD  21561.177734  \n",
       "1149   6657571.0      USD  21303.986328  \n",
       "1150   6955056.0      USD           NaN  \n",
       "\n",
       "[1151 rows x 8 columns]"
      ]
     },
     "execution_count": 41,
     "metadata": {},
     "output_type": "execute_result"
    }
   ],
   "source": [
    "df"
   ]
  },
  {
   "cell_type": "code",
   "execution_count": 42,
   "id": "0d6a3abc-bfb0-49af-a383-dc04bb9271f1",
   "metadata": {},
   "outputs": [
    {
     "data": {
      "text/html": [
       "<div>\n",
       "<style scoped>\n",
       "    .dataframe tbody tr th:only-of-type {\n",
       "        vertical-align: middle;\n",
       "    }\n",
       "\n",
       "    .dataframe tbody tr th {\n",
       "        vertical-align: top;\n",
       "    }\n",
       "\n",
       "    .dataframe thead th {\n",
       "        text-align: right;\n",
       "    }\n",
       "</style>\n",
       "<table border=\"1\" class=\"dataframe\">\n",
       "  <thead>\n",
       "    <tr style=\"text-align: right;\">\n",
       "      <th></th>\n",
       "      <th>date</th>\n",
       "      <th>Open</th>\n",
       "      <th>High</th>\n",
       "      <th>Low</th>\n",
       "      <th>Close</th>\n",
       "      <th>price</th>\n",
       "      <th>Currency</th>\n",
       "      <th>Future_Close</th>\n",
       "    </tr>\n",
       "  </thead>\n",
       "  <tbody>\n",
       "    <tr>\n",
       "      <th>0</th>\n",
       "      <td>3/10/2016</td>\n",
       "      <td>11.20</td>\n",
       "      <td>11.85</td>\n",
       "      <td>11.07</td>\n",
       "      <td>11.75</td>\n",
       "      <td>4</td>\n",
       "      <td>USD</td>\n",
       "      <td>11.95</td>\n",
       "    </tr>\n",
       "    <tr>\n",
       "      <th>1</th>\n",
       "      <td>3/11/2016</td>\n",
       "      <td>11.75</td>\n",
       "      <td>11.95</td>\n",
       "      <td>11.75</td>\n",
       "      <td>11.95</td>\n",
       "      <td>179</td>\n",
       "      <td>USD</td>\n",
       "      <td>12.92</td>\n",
       "    </tr>\n",
       "    <tr>\n",
       "      <th>2</th>\n",
       "      <td>3/12/2016</td>\n",
       "      <td>11.95</td>\n",
       "      <td>13.45</td>\n",
       "      <td>11.95</td>\n",
       "      <td>12.92</td>\n",
       "      <td>833</td>\n",
       "      <td>USD</td>\n",
       "      <td>15.07</td>\n",
       "    </tr>\n",
       "    <tr>\n",
       "      <th>3</th>\n",
       "      <td>3/13/2016</td>\n",
       "      <td>12.92</td>\n",
       "      <td>15.07</td>\n",
       "      <td>12.92</td>\n",
       "      <td>15.07</td>\n",
       "      <td>1295</td>\n",
       "      <td>USD</td>\n",
       "      <td>12.50</td>\n",
       "    </tr>\n",
       "    <tr>\n",
       "      <th>4</th>\n",
       "      <td>3/14/2016</td>\n",
       "      <td>15.07</td>\n",
       "      <td>15.07</td>\n",
       "      <td>11.40</td>\n",
       "      <td>12.50</td>\n",
       "      <td>92183</td>\n",
       "      <td>USD</td>\n",
       "      <td>13.06</td>\n",
       "    </tr>\n",
       "    <tr>\n",
       "      <th>...</th>\n",
       "      <td>...</td>\n",
       "      <td>...</td>\n",
       "      <td>...</td>\n",
       "      <td>...</td>\n",
       "      <td>...</td>\n",
       "      <td>...</td>\n",
       "      <td>...</td>\n",
       "      <td>...</td>\n",
       "    </tr>\n",
       "    <tr>\n",
       "      <th>2353</th>\n",
       "      <td>8/19/2022</td>\n",
       "      <td>1846.52</td>\n",
       "      <td>1846.97</td>\n",
       "      <td>1607.60</td>\n",
       "      <td>1609.48</td>\n",
       "      <td>1594321</td>\n",
       "      <td>USD</td>\n",
       "      <td>1575.60</td>\n",
       "    </tr>\n",
       "    <tr>\n",
       "      <th>2354</th>\n",
       "      <td>8/20/2022</td>\n",
       "      <td>1609.01</td>\n",
       "      <td>1654.84</td>\n",
       "      <td>1525.51</td>\n",
       "      <td>1575.60</td>\n",
       "      <td>1007240</td>\n",
       "      <td>USD</td>\n",
       "      <td>1618.25</td>\n",
       "    </tr>\n",
       "    <tr>\n",
       "      <th>2355</th>\n",
       "      <td>8/21/2022</td>\n",
       "      <td>1575.61</td>\n",
       "      <td>1644.88</td>\n",
       "      <td>1563.92</td>\n",
       "      <td>1618.25</td>\n",
       "      <td>852071</td>\n",
       "      <td>USD</td>\n",
       "      <td>1626.75</td>\n",
       "    </tr>\n",
       "    <tr>\n",
       "      <th>2356</th>\n",
       "      <td>8/22/2022</td>\n",
       "      <td>1618.21</td>\n",
       "      <td>1627.13</td>\n",
       "      <td>1531.91</td>\n",
       "      <td>1626.75</td>\n",
       "      <td>1044290</td>\n",
       "      <td>USD</td>\n",
       "      <td>1623.24</td>\n",
       "    </tr>\n",
       "    <tr>\n",
       "      <th>2357</th>\n",
       "      <td>8/23/2022</td>\n",
       "      <td>1626.70</td>\n",
       "      <td>1636.32</td>\n",
       "      <td>1615.55</td>\n",
       "      <td>1623.24</td>\n",
       "      <td>1053674</td>\n",
       "      <td>USD</td>\n",
       "      <td>NaN</td>\n",
       "    </tr>\n",
       "  </tbody>\n",
       "</table>\n",
       "<p>2358 rows × 8 columns</p>\n",
       "</div>"
      ],
      "text/plain": [
       "           date     Open     High      Low    Close    price Currency  \\\n",
       "0     3/10/2016    11.20    11.85    11.07    11.75        4      USD   \n",
       "1     3/11/2016    11.75    11.95    11.75    11.95      179      USD   \n",
       "2     3/12/2016    11.95    13.45    11.95    12.92      833      USD   \n",
       "3     3/13/2016    12.92    15.07    12.92    15.07     1295      USD   \n",
       "4     3/14/2016    15.07    15.07    11.40    12.50    92183      USD   \n",
       "...         ...      ...      ...      ...      ...      ...      ...   \n",
       "2353  8/19/2022  1846.52  1846.97  1607.60  1609.48  1594321      USD   \n",
       "2354  8/20/2022  1609.01  1654.84  1525.51  1575.60  1007240      USD   \n",
       "2355  8/21/2022  1575.61  1644.88  1563.92  1618.25   852071      USD   \n",
       "2356  8/22/2022  1618.21  1627.13  1531.91  1626.75  1044290      USD   \n",
       "2357  8/23/2022  1626.70  1636.32  1615.55  1623.24  1053674      USD   \n",
       "\n",
       "      Future_Close  \n",
       "0            11.95  \n",
       "1            12.92  \n",
       "2            15.07  \n",
       "3            12.50  \n",
       "4            13.06  \n",
       "...            ...  \n",
       "2353       1575.60  \n",
       "2354       1618.25  \n",
       "2355       1626.75  \n",
       "2356       1623.24  \n",
       "2357           NaN  \n",
       "\n",
       "[2358 rows x 8 columns]"
      ]
     },
     "execution_count": 42,
     "metadata": {},
     "output_type": "execute_result"
    }
   ],
   "source": [
    "df2"
   ]
  },
  {
   "cell_type": "code",
   "execution_count": 43,
   "id": "47a0834a-0505-47a4-a71e-bb51a3539cc6",
   "metadata": {},
   "outputs": [
    {
     "data": {
      "text/plain": [
       "Date            0\n",
       "Open            0\n",
       "High            0\n",
       "Low             0\n",
       "Close           0\n",
       "Volume          0\n",
       "Currency        0\n",
       "Future_Close    1\n",
       "dtype: int64"
      ]
     },
     "execution_count": 43,
     "metadata": {},
     "output_type": "execute_result"
    }
   ],
   "source": [
    "#we have a empty row value. we need to clean it\n",
    "df.isnull().sum()"
   ]
  },
  {
   "cell_type": "code",
   "execution_count": 44,
   "id": "4a307029-83e2-4d36-b9e0-b4db0ba38eb7",
   "metadata": {},
   "outputs": [
    {
     "data": {
      "text/plain": [
       "date            0\n",
       "Open            0\n",
       "High            0\n",
       "Low             0\n",
       "Close           0\n",
       "price           0\n",
       "Currency        0\n",
       "Future_Close    1\n",
       "dtype: int64"
      ]
     },
     "execution_count": 44,
     "metadata": {},
     "output_type": "execute_result"
    }
   ],
   "source": [
    "df2.isnull().sum()"
   ]
  },
  {
   "cell_type": "code",
   "execution_count": 45,
   "id": "8b9cdf52-9098-4acf-b98a-6d90f55a9f23",
   "metadata": {},
   "outputs": [],
   "source": [
    "#we will add the diffrence of the original close price into the last future close price\n",
    "#e.g close[row 1150] - close[row 1149] = 258. future_close[row 1150]=21303.986328 + 258\n",
    "df['Future_Close'] = df['Future_Close'].fillna(21561.986328)"
   ]
  },
  {
   "cell_type": "code",
   "execution_count": 46,
   "id": "ce8ab971-a4ce-471b-a788-865ed1112447",
   "metadata": {},
   "outputs": [
    {
     "name": "stdout",
     "output_type": "stream",
     "text": [
      "            Date Currency         Close  Future_Close\n",
      "1146  2022-08-18      USD  23222.242188  20902.404297\n",
      "1147  2022-08-19      USD  20902.404297  21153.019531\n",
      "1148  2022-08-20      USD  21153.019531  21561.177734\n",
      "1149  2022-08-21      USD  21561.177734  21303.986328\n",
      "1150  2022-08-23      USD  21303.986328  21561.986328\n"
     ]
    }
   ],
   "source": [
    "print(df[['Date', 'Currency', 'Close', 'Future_Close']].tail())"
   ]
  },
  {
   "cell_type": "code",
   "execution_count": 47,
   "id": "38546e94-19dc-4ce7-8537-df5755ee3e2e",
   "metadata": {},
   "outputs": [
    {
     "data": {
      "text/plain": [
       "Date            0\n",
       "Open            0\n",
       "High            0\n",
       "Low             0\n",
       "Close           0\n",
       "Volume          0\n",
       "Currency        0\n",
       "Future_Close    0\n",
       "dtype: int64"
      ]
     },
     "execution_count": 47,
     "metadata": {},
     "output_type": "execute_result"
    }
   ],
   "source": [
    "df.isnull().sum()"
   ]
  },
  {
   "cell_type": "code",
   "execution_count": 48,
   "id": "adc12e8b-9bbd-481d-a1fc-90ce7a8251d8",
   "metadata": {},
   "outputs": [],
   "source": [
    "df2['Future_Close'] = df2['Future_Close'].fillna(1626.75)"
   ]
  },
  {
   "cell_type": "code",
   "execution_count": 49,
   "id": "9a8c9c0f-dfaa-4daa-a80a-9163926c225a",
   "metadata": {},
   "outputs": [
    {
     "data": {
      "text/plain": [
       "date            0\n",
       "Open            0\n",
       "High            0\n",
       "Low             0\n",
       "Close           0\n",
       "price           0\n",
       "Currency        0\n",
       "Future_Close    0\n",
       "dtype: int64"
      ]
     },
     "execution_count": 49,
     "metadata": {},
     "output_type": "execute_result"
    }
   ],
   "source": [
    "df2.isnull().sum()"
   ]
  },
  {
   "cell_type": "code",
   "execution_count": 50,
   "id": "f15e1e99-cd2f-4cf8-b0ea-4184f439dd31",
   "metadata": {},
   "outputs": [],
   "source": [
    "#Select relevant features based on the exploration phase. e.g  (price change, price spread).\n",
    "df['Price_Change'] = df['Close'] - df['Open']\n",
    "df2['Price_Change'] = df2['Close'] - df2['Open']"
   ]
  },
  {
   "cell_type": "code",
   "execution_count": 51,
   "id": "4cc8c6de-7b44-4d5d-b083-e07c54f337db",
   "metadata": {},
   "outputs": [],
   "source": [
    "df['Price_Spread'] = df['High'] - df['Low']\n",
    "df2['Price_Spread'] = df2['High'] - df2['Low']"
   ]
  },
  {
   "cell_type": "code",
   "execution_count": 52,
   "id": "939c0b98-3d42-4857-aad1-24a98639a510",
   "metadata": {},
   "outputs": [],
   "source": [
    "#The percentage change between the Close price of one period and the previous period\n",
    "df['Price_Return'] = df['Close'].pct_change()\n",
    "df2['Price_Return'] = df2['Close'].pct_change()"
   ]
  },
  {
   "cell_type": "code",
   "execution_count": 53,
   "id": "5a62266c-92d4-4202-b3ca-fb3a5e999998",
   "metadata": {},
   "outputs": [],
   "source": [
    "#Scale the features to a common range to improve model performance\n",
    "from sklearn.preprocessing import StandardScaler\n",
    "from sklearn.preprocessing import MinMaxScaler\n"
   ]
  },
  {
   "cell_type": "code",
   "execution_count": 54,
   "id": "13d0a9e3-fec0-45a7-b6e8-487d90d7238a",
   "metadata": {},
   "outputs": [],
   "source": [
    "scaler = StandardScaler()"
   ]
  },
  {
   "cell_type": "code",
   "execution_count": 55,
   "id": "b961f905-ba37-42be-836a-0f2640f16fe0",
   "metadata": {},
   "outputs": [
    {
     "name": "stdout",
     "output_type": "stream",
     "text": [
      "   Price_Change  Price_Spread  Price_Return\n",
      "0     -0.054713     -0.522275           NaN\n",
      "1      0.143737     -0.504758      0.380870\n",
      "2      0.176392     -0.467892      0.446709\n",
      "3      0.436710     -0.403679      1.125438\n",
      "4      0.412357     -0.274166      1.025097\n"
     ]
    }
   ],
   "source": [
    "feature_columns = ['Price_Change', 'Price_Spread', 'Price_Return']\n",
    "df[feature_columns] = scaler.fit_transform(df[feature_columns])\n",
    "print(df[feature_columns].head())"
   ]
  },
  {
   "cell_type": "code",
   "execution_count": 56,
   "id": "a988aced-0463-4e22-9b8e-2c97c64bd619",
   "metadata": {},
   "outputs": [
    {
     "name": "stdout",
     "output_type": "stream",
     "text": [
      "   Price_Change  Price_Spread  Price_Return\n",
      "0     -0.001603     -0.621299           NaN\n",
      "1     -0.006592     -0.627010      0.238023\n",
      "2      0.004384     -0.614208      1.381951\n",
      "3      0.021204     -0.607808      2.901899\n",
      "4     -0.046076     -0.592839     -3.106524\n"
     ]
    }
   ],
   "source": [
    "#scaling features in the ethereum dataset\n",
    "feature_columns = ['Price_Change', 'Price_Spread', 'Price_Return']\n",
    "df2[feature_columns] = scaler.fit_transform(df2[feature_columns])\n",
    "print(df2[feature_columns].head())"
   ]
  },
  {
   "cell_type": "code",
   "execution_count": 57,
   "id": "4c0439dc-20b1-4c6b-8f63-ae183e0c6e4c",
   "metadata": {},
   "outputs": [
    {
     "data": {
      "text/html": [
       "<div>\n",
       "<style scoped>\n",
       "    .dataframe tbody tr th:only-of-type {\n",
       "        vertical-align: middle;\n",
       "    }\n",
       "\n",
       "    .dataframe tbody tr th {\n",
       "        vertical-align: top;\n",
       "    }\n",
       "\n",
       "    .dataframe thead th {\n",
       "        text-align: right;\n",
       "    }\n",
       "</style>\n",
       "<table border=\"1\" class=\"dataframe\">\n",
       "  <thead>\n",
       "    <tr style=\"text-align: right;\">\n",
       "      <th></th>\n",
       "      <th>Date</th>\n",
       "      <th>Open</th>\n",
       "      <th>High</th>\n",
       "      <th>Low</th>\n",
       "      <th>Close</th>\n",
       "      <th>Volume</th>\n",
       "      <th>Currency</th>\n",
       "      <th>Future_Close</th>\n",
       "      <th>Price_Change</th>\n",
       "      <th>Price_Spread</th>\n",
       "      <th>Price_Return</th>\n",
       "    </tr>\n",
       "  </thead>\n",
       "  <tbody>\n",
       "    <tr>\n",
       "      <th>0</th>\n",
       "      <td>2019-06-18</td>\n",
       "      <td>9128.269531</td>\n",
       "      <td>9149.763672</td>\n",
       "      <td>8988.606445</td>\n",
       "      <td>9062.045898</td>\n",
       "      <td>952850.0</td>\n",
       "      <td>USD</td>\n",
       "      <td>9271.459961</td>\n",
       "      <td>-0.054713</td>\n",
       "      <td>-0.522275</td>\n",
       "      <td>NaN</td>\n",
       "    </tr>\n",
       "    <tr>\n",
       "      <th>1</th>\n",
       "      <td>2019-06-19</td>\n",
       "      <td>9068.174805</td>\n",
       "      <td>9277.677734</td>\n",
       "      <td>9051.094727</td>\n",
       "      <td>9271.459961</td>\n",
       "      <td>131077.0</td>\n",
       "      <td>USD</td>\n",
       "      <td>9519.200195</td>\n",
       "      <td>0.143737</td>\n",
       "      <td>-0.504758</td>\n",
       "      <td>0.380870</td>\n",
       "    </tr>\n",
       "    <tr>\n",
       "      <th>2</th>\n",
       "      <td>2019-06-20</td>\n",
       "      <td>9271.567383</td>\n",
       "      <td>9573.689453</td>\n",
       "      <td>9209.416992</td>\n",
       "      <td>9519.200195</td>\n",
       "      <td>83052.0</td>\n",
       "      <td>USD</td>\n",
       "      <td>10127.998047</td>\n",
       "      <td>0.176392</td>\n",
       "      <td>-0.467892</td>\n",
       "      <td>0.446709</td>\n",
       "    </tr>\n",
       "    <tr>\n",
       "      <th>3</th>\n",
       "      <td>2019-06-21</td>\n",
       "      <td>9526.833984</td>\n",
       "      <td>10130.935547</td>\n",
       "      <td>9526.833984</td>\n",
       "      <td>10127.998047</td>\n",
       "      <td>76227.0</td>\n",
       "      <td>USD</td>\n",
       "      <td>10719.981445</td>\n",
       "      <td>0.436710</td>\n",
       "      <td>-0.403679</td>\n",
       "      <td>1.125438</td>\n",
       "    </tr>\n",
       "    <tr>\n",
       "      <th>4</th>\n",
       "      <td>2019-06-22</td>\n",
       "      <td>10151.890625</td>\n",
       "      <td>11171.013672</td>\n",
       "      <td>10083.189453</td>\n",
       "      <td>10719.981445</td>\n",
       "      <td>84485.0</td>\n",
       "      <td>USD</td>\n",
       "      <td>11246.518555</td>\n",
       "      <td>0.412357</td>\n",
       "      <td>-0.274166</td>\n",
       "      <td>1.025097</td>\n",
       "    </tr>\n",
       "    <tr>\n",
       "      <th>...</th>\n",
       "      <td>...</td>\n",
       "      <td>...</td>\n",
       "      <td>...</td>\n",
       "      <td>...</td>\n",
       "      <td>...</td>\n",
       "      <td>...</td>\n",
       "      <td>...</td>\n",
       "      <td>...</td>\n",
       "      <td>...</td>\n",
       "      <td>...</td>\n",
       "      <td>...</td>\n",
       "    </tr>\n",
       "    <tr>\n",
       "      <th>1146</th>\n",
       "      <td>2022-08-18</td>\n",
       "      <td>23331.542969</td>\n",
       "      <td>23567.285156</td>\n",
       "      <td>23152.455078</td>\n",
       "      <td>23222.242188</td>\n",
       "      <td>4546110.0</td>\n",
       "      <td>USD</td>\n",
       "      <td>20902.404297</td>\n",
       "      <td>-0.086432</td>\n",
       "      <td>-0.454356</td>\n",
       "      <td>-0.122132</td>\n",
       "    </tr>\n",
       "    <tr>\n",
       "      <th>1147</th>\n",
       "      <td>2022-08-19</td>\n",
       "      <td>23219.097656</td>\n",
       "      <td>23219.097656</td>\n",
       "      <td>20898.304688</td>\n",
       "      <td>20902.404297</td>\n",
       "      <td>13856579.0</td>\n",
       "      <td>USD</td>\n",
       "      <td>21153.019531</td>\n",
       "      <td>-1.711820</td>\n",
       "      <td>0.055954</td>\n",
       "      <td>-1.861376</td>\n",
       "    </tr>\n",
       "    <tr>\n",
       "      <th>1148</th>\n",
       "      <td>2022-08-20</td>\n",
       "      <td>20899.923828</td>\n",
       "      <td>21344.845703</td>\n",
       "      <td>20864.435547</td>\n",
       "      <td>21153.019531</td>\n",
       "      <td>7139073.0</td>\n",
       "      <td>USD</td>\n",
       "      <td>21561.177734</td>\n",
       "      <td>0.180414</td>\n",
       "      <td>-0.436797</td>\n",
       "      <td>0.178183</td>\n",
       "    </tr>\n",
       "    <tr>\n",
       "      <th>1149</th>\n",
       "      <td>2022-08-21</td>\n",
       "      <td>21153.412109</td>\n",
       "      <td>21695.794922</td>\n",
       "      <td>21125.320312</td>\n",
       "      <td>21561.177734</td>\n",
       "      <td>6657571.0</td>\n",
       "      <td>USD</td>\n",
       "      <td>21303.986328</td>\n",
       "      <td>0.294304</td>\n",
       "      <td>-0.412683</td>\n",
       "      <td>0.311357</td>\n",
       "    </tr>\n",
       "    <tr>\n",
       "      <th>1150</th>\n",
       "      <td>2022-08-23</td>\n",
       "      <td>21337.318359</td>\n",
       "      <td>21412.892578</td>\n",
       "      <td>21280.458984</td>\n",
       "      <td>21303.986328</td>\n",
       "      <td>6955056.0</td>\n",
       "      <td>USD</td>\n",
       "      <td>21561.986328</td>\n",
       "      <td>-0.030493</td>\n",
       "      <td>-0.529966</td>\n",
       "      <td>-0.257817</td>\n",
       "    </tr>\n",
       "  </tbody>\n",
       "</table>\n",
       "<p>1151 rows × 11 columns</p>\n",
       "</div>"
      ],
      "text/plain": [
       "            Date          Open          High           Low         Close  \\\n",
       "0     2019-06-18   9128.269531   9149.763672   8988.606445   9062.045898   \n",
       "1     2019-06-19   9068.174805   9277.677734   9051.094727   9271.459961   \n",
       "2     2019-06-20   9271.567383   9573.689453   9209.416992   9519.200195   \n",
       "3     2019-06-21   9526.833984  10130.935547   9526.833984  10127.998047   \n",
       "4     2019-06-22  10151.890625  11171.013672  10083.189453  10719.981445   \n",
       "...          ...           ...           ...           ...           ...   \n",
       "1146  2022-08-18  23331.542969  23567.285156  23152.455078  23222.242188   \n",
       "1147  2022-08-19  23219.097656  23219.097656  20898.304688  20902.404297   \n",
       "1148  2022-08-20  20899.923828  21344.845703  20864.435547  21153.019531   \n",
       "1149  2022-08-21  21153.412109  21695.794922  21125.320312  21561.177734   \n",
       "1150  2022-08-23  21337.318359  21412.892578  21280.458984  21303.986328   \n",
       "\n",
       "          Volume Currency  Future_Close  Price_Change  Price_Spread  \\\n",
       "0       952850.0      USD   9271.459961     -0.054713     -0.522275   \n",
       "1       131077.0      USD   9519.200195      0.143737     -0.504758   \n",
       "2        83052.0      USD  10127.998047      0.176392     -0.467892   \n",
       "3        76227.0      USD  10719.981445      0.436710     -0.403679   \n",
       "4        84485.0      USD  11246.518555      0.412357     -0.274166   \n",
       "...          ...      ...           ...           ...           ...   \n",
       "1146   4546110.0      USD  20902.404297     -0.086432     -0.454356   \n",
       "1147  13856579.0      USD  21153.019531     -1.711820      0.055954   \n",
       "1148   7139073.0      USD  21561.177734      0.180414     -0.436797   \n",
       "1149   6657571.0      USD  21303.986328      0.294304     -0.412683   \n",
       "1150   6955056.0      USD  21561.986328     -0.030493     -0.529966   \n",
       "\n",
       "      Price_Return  \n",
       "0              NaN  \n",
       "1         0.380870  \n",
       "2         0.446709  \n",
       "3         1.125438  \n",
       "4         1.025097  \n",
       "...            ...  \n",
       "1146     -0.122132  \n",
       "1147     -1.861376  \n",
       "1148      0.178183  \n",
       "1149      0.311357  \n",
       "1150     -0.257817  \n",
       "\n",
       "[1151 rows x 11 columns]"
      ]
     },
     "execution_count": 57,
     "metadata": {},
     "output_type": "execute_result"
    }
   ],
   "source": [
    "df"
   ]
  },
  {
   "cell_type": "code",
   "execution_count": 58,
   "id": "b4f1ecd7-bef8-4786-9dbf-7321061c1466",
   "metadata": {},
   "outputs": [
    {
     "data": {
      "text/html": [
       "<div>\n",
       "<style scoped>\n",
       "    .dataframe tbody tr th:only-of-type {\n",
       "        vertical-align: middle;\n",
       "    }\n",
       "\n",
       "    .dataframe tbody tr th {\n",
       "        vertical-align: top;\n",
       "    }\n",
       "\n",
       "    .dataframe thead th {\n",
       "        text-align: right;\n",
       "    }\n",
       "</style>\n",
       "<table border=\"1\" class=\"dataframe\">\n",
       "  <thead>\n",
       "    <tr style=\"text-align: right;\">\n",
       "      <th></th>\n",
       "      <th>date</th>\n",
       "      <th>Open</th>\n",
       "      <th>High</th>\n",
       "      <th>Low</th>\n",
       "      <th>Close</th>\n",
       "      <th>price</th>\n",
       "      <th>Currency</th>\n",
       "      <th>Future_Close</th>\n",
       "      <th>Price_Change</th>\n",
       "      <th>Price_Spread</th>\n",
       "      <th>Price_Return</th>\n",
       "    </tr>\n",
       "  </thead>\n",
       "  <tbody>\n",
       "    <tr>\n",
       "      <th>0</th>\n",
       "      <td>3/10/2016</td>\n",
       "      <td>11.20</td>\n",
       "      <td>11.85</td>\n",
       "      <td>11.07</td>\n",
       "      <td>11.75</td>\n",
       "      <td>4</td>\n",
       "      <td>USD</td>\n",
       "      <td>11.95</td>\n",
       "      <td>-0.001603</td>\n",
       "      <td>-0.621299</td>\n",
       "      <td>NaN</td>\n",
       "    </tr>\n",
       "    <tr>\n",
       "      <th>1</th>\n",
       "      <td>3/11/2016</td>\n",
       "      <td>11.75</td>\n",
       "      <td>11.95</td>\n",
       "      <td>11.75</td>\n",
       "      <td>11.95</td>\n",
       "      <td>179</td>\n",
       "      <td>USD</td>\n",
       "      <td>12.92</td>\n",
       "      <td>-0.006592</td>\n",
       "      <td>-0.627010</td>\n",
       "      <td>0.238023</td>\n",
       "    </tr>\n",
       "    <tr>\n",
       "      <th>2</th>\n",
       "      <td>3/12/2016</td>\n",
       "      <td>11.95</td>\n",
       "      <td>13.45</td>\n",
       "      <td>11.95</td>\n",
       "      <td>12.92</td>\n",
       "      <td>833</td>\n",
       "      <td>USD</td>\n",
       "      <td>15.07</td>\n",
       "      <td>0.004384</td>\n",
       "      <td>-0.614208</td>\n",
       "      <td>1.381951</td>\n",
       "    </tr>\n",
       "    <tr>\n",
       "      <th>3</th>\n",
       "      <td>3/13/2016</td>\n",
       "      <td>12.92</td>\n",
       "      <td>15.07</td>\n",
       "      <td>12.92</td>\n",
       "      <td>15.07</td>\n",
       "      <td>1295</td>\n",
       "      <td>USD</td>\n",
       "      <td>12.50</td>\n",
       "      <td>0.021204</td>\n",
       "      <td>-0.607808</td>\n",
       "      <td>2.901899</td>\n",
       "    </tr>\n",
       "    <tr>\n",
       "      <th>4</th>\n",
       "      <td>3/14/2016</td>\n",
       "      <td>15.07</td>\n",
       "      <td>15.07</td>\n",
       "      <td>11.40</td>\n",
       "      <td>12.50</td>\n",
       "      <td>92183</td>\n",
       "      <td>USD</td>\n",
       "      <td>13.06</td>\n",
       "      <td>-0.046076</td>\n",
       "      <td>-0.592839</td>\n",
       "      <td>-3.106524</td>\n",
       "    </tr>\n",
       "    <tr>\n",
       "      <th>...</th>\n",
       "      <td>...</td>\n",
       "      <td>...</td>\n",
       "      <td>...</td>\n",
       "      <td>...</td>\n",
       "      <td>...</td>\n",
       "      <td>...</td>\n",
       "      <td>...</td>\n",
       "      <td>...</td>\n",
       "      <td>...</td>\n",
       "      <td>...</td>\n",
       "      <td>...</td>\n",
       "    </tr>\n",
       "    <tr>\n",
       "      <th>2353</th>\n",
       "      <td>8/19/2022</td>\n",
       "      <td>1846.52</td>\n",
       "      <td>1846.97</td>\n",
       "      <td>1607.60</td>\n",
       "      <td>1609.48</td>\n",
       "      <td>1594321</td>\n",
       "      <td>USD</td>\n",
       "      <td>1575.60</td>\n",
       "      <td>-3.388294</td>\n",
       "      <td>1.728232</td>\n",
       "      <td>-2.354531</td>\n",
       "    </tr>\n",
       "    <tr>\n",
       "      <th>2354</th>\n",
       "      <td>8/20/2022</td>\n",
       "      <td>1609.01</td>\n",
       "      <td>1654.84</td>\n",
       "      <td>1525.51</td>\n",
       "      <td>1575.60</td>\n",
       "      <td>1007240</td>\n",
       "      <td>USD</td>\n",
       "      <td>1618.25</td>\n",
       "      <td>-0.485680</td>\n",
       "      <td>0.644606</td>\n",
       "      <td>-0.440869</td>\n",
       "    </tr>\n",
       "    <tr>\n",
       "      <th>2355</th>\n",
       "      <td>8/21/2022</td>\n",
       "      <td>1575.61</td>\n",
       "      <td>1644.88</td>\n",
       "      <td>1563.92</td>\n",
       "      <td>1618.25</td>\n",
       "      <td>852071</td>\n",
       "      <td>USD</td>\n",
       "      <td>1626.75</td>\n",
       "      <td>0.598363</td>\n",
       "      <td>0.168279</td>\n",
       "      <td>0.417195</td>\n",
       "    </tr>\n",
       "    <tr>\n",
       "      <th>2356</th>\n",
       "      <td>8/22/2022</td>\n",
       "      <td>1618.21</td>\n",
       "      <td>1627.13</td>\n",
       "      <td>1531.91</td>\n",
       "      <td>1626.75</td>\n",
       "      <td>1044290</td>\n",
       "      <td>USD</td>\n",
       "      <td>1623.24</td>\n",
       "      <td>0.112290</td>\n",
       "      <td>0.308705</td>\n",
       "      <td>0.028164</td>\n",
       "    </tr>\n",
       "    <tr>\n",
       "      <th>2357</th>\n",
       "      <td>8/23/2022</td>\n",
       "      <td>1626.70</td>\n",
       "      <td>1636.32</td>\n",
       "      <td>1615.55</td>\n",
       "      <td>1623.24</td>\n",
       "      <td>1053674</td>\n",
       "      <td>USD</td>\n",
       "      <td>1626.75</td>\n",
       "      <td>-0.058763</td>\n",
       "      <td>-0.424446</td>\n",
       "      <td>-0.103976</td>\n",
       "    </tr>\n",
       "  </tbody>\n",
       "</table>\n",
       "<p>2358 rows × 11 columns</p>\n",
       "</div>"
      ],
      "text/plain": [
       "           date     Open     High      Low    Close    price Currency  \\\n",
       "0     3/10/2016    11.20    11.85    11.07    11.75        4      USD   \n",
       "1     3/11/2016    11.75    11.95    11.75    11.95      179      USD   \n",
       "2     3/12/2016    11.95    13.45    11.95    12.92      833      USD   \n",
       "3     3/13/2016    12.92    15.07    12.92    15.07     1295      USD   \n",
       "4     3/14/2016    15.07    15.07    11.40    12.50    92183      USD   \n",
       "...         ...      ...      ...      ...      ...      ...      ...   \n",
       "2353  8/19/2022  1846.52  1846.97  1607.60  1609.48  1594321      USD   \n",
       "2354  8/20/2022  1609.01  1654.84  1525.51  1575.60  1007240      USD   \n",
       "2355  8/21/2022  1575.61  1644.88  1563.92  1618.25   852071      USD   \n",
       "2356  8/22/2022  1618.21  1627.13  1531.91  1626.75  1044290      USD   \n",
       "2357  8/23/2022  1626.70  1636.32  1615.55  1623.24  1053674      USD   \n",
       "\n",
       "      Future_Close  Price_Change  Price_Spread  Price_Return  \n",
       "0            11.95     -0.001603     -0.621299           NaN  \n",
       "1            12.92     -0.006592     -0.627010      0.238023  \n",
       "2            15.07      0.004384     -0.614208      1.381951  \n",
       "3            12.50      0.021204     -0.607808      2.901899  \n",
       "4            13.06     -0.046076     -0.592839     -3.106524  \n",
       "...            ...           ...           ...           ...  \n",
       "2353       1575.60     -3.388294      1.728232     -2.354531  \n",
       "2354       1618.25     -0.485680      0.644606     -0.440869  \n",
       "2355       1626.75      0.598363      0.168279      0.417195  \n",
       "2356       1623.24      0.112290      0.308705      0.028164  \n",
       "2357       1626.75     -0.058763     -0.424446     -0.103976  \n",
       "\n",
       "[2358 rows x 11 columns]"
      ]
     },
     "execution_count": 58,
     "metadata": {},
     "output_type": "execute_result"
    }
   ],
   "source": [
    "df2"
   ]
  },
  {
   "cell_type": "code",
   "execution_count": 59,
   "id": "7c8336de-286c-416a-aae1-9bf29dbbe976",
   "metadata": {},
   "outputs": [],
   "source": [
    "scaler = MinMaxScaler()"
   ]
  },
  {
   "cell_type": "code",
   "execution_count": 60,
   "id": "6f9cb71c-e376-43f7-acd9-50e6253c09e3",
   "metadata": {},
   "outputs": [],
   "source": [
    "df[feature_columns] = scaler.fit_transform(df[feature_columns])"
   ]
  },
  {
   "cell_type": "code",
   "execution_count": 61,
   "id": "2adbbc50-32ca-4008-8caf-592f9c72f502",
   "metadata": {},
   "outputs": [
    {
     "name": "stdout",
     "output_type": "stream",
     "text": [
      "   Price_Change  Price_Spread  Price_Return\n",
      "0      0.476445      0.001094           NaN\n",
      "1      0.495890      0.001873      0.425304\n",
      "2      0.499090      0.003515      0.429079\n",
      "3      0.524597      0.006373      0.467995\n",
      "4      0.522211      0.012140      0.462242\n"
     ]
    }
   ],
   "source": [
    "print(df[feature_columns].head())"
   ]
  },
  {
   "cell_type": "code",
   "execution_count": 62,
   "id": "6eca646a-38fc-4ebb-a15b-c8aa5b38cca4",
   "metadata": {},
   "outputs": [],
   "source": [
    "df2[feature_columns] = scaler.fit_transform(df2[feature_columns])"
   ]
  },
  {
   "cell_type": "code",
   "execution_count": 63,
   "id": "d7c04be3-57eb-4fac-98bd-c9337ae774b3",
   "metadata": {},
   "outputs": [
    {
     "name": "stdout",
     "output_type": "stream",
     "text": [
      "   Price_Change  Price_Spread  Price_Return\n",
      "0      0.633289      0.000516           NaN\n",
      "1      0.633053      0.000132      0.624496\n",
      "2      0.633572      0.000992      0.711117\n",
      "3      0.634366      0.001422      0.826211\n",
      "4      0.631189      0.002428      0.371239\n"
     ]
    }
   ],
   "source": [
    "print(df2[feature_columns].head())"
   ]
  },
  {
   "cell_type": "code",
   "execution_count": 64,
   "id": "c6f261d2-6b39-4d23-96a5-279c67aee467",
   "metadata": {},
   "outputs": [],
   "source": [
    "#implementent feature selection method. 1. Filter methods:\n",
    "#correlation matrix\n",
    "high_relevance_columns = ['Open','High','Low','Close','Volume','Future_Close']\n",
    "preview = df[high_relevance_columns]\n",
    "correlation_matrix = preview.corr()"
   ]
  },
  {
   "cell_type": "code",
   "execution_count": 65,
   "id": "90109403-28cd-46a6-ae58-5742a4747f59",
   "metadata": {},
   "outputs": [
    {
     "name": "stdout",
     "output_type": "stream",
     "text": [
      "Feature correlations with the target variable (Future_Close):\n",
      "Future_Close    1.000000\n",
      "Close           0.997154\n",
      "Open            0.994890\n",
      "Low             0.990721\n",
      "High            0.985112\n",
      "Volume          0.595051\n",
      "Name: Future_Close, dtype: float64\n"
     ]
    }
   ],
   "source": [
    "target_correlation = correlation_matrix['Future_Close'].sort_values(ascending=False)\n",
    "print(\"Feature correlations with the target variable (Future_Close):\")\n",
    "print(target_correlation)"
   ]
  },
  {
   "cell_type": "code",
   "execution_count": 66,
   "id": "c648de8e-7886-4708-9007-a703b8a642e7",
   "metadata": {},
   "outputs": [
    {
     "data": {
      "image/png": "[encoded data removed]",
      "text/plain": [
       "<Figure size 1000x400 with 1 Axes>"
      ]
     },
     "metadata": {},
     "output_type": "display_data"
    }
   ],
   "source": [
    "#Visualize of correlation of features\n",
    "plt.figure(figsize=(10, 4))\n",
    "sns.barplot(x=target_correlation.index, y=target_correlation.values)\n",
    "plt.title(\"Correlation of Features with Target variable (Future_Close)\")\n",
    "plt.xticks(rotation=45)\n",
    "plt.show()\n"
   ]
  },
  {
   "cell_type": "code",
   "execution_count": 67,
   "id": "8f309692-081a-40c8-ae98-b444643adfc5",
   "metadata": {},
   "outputs": [],
   "source": [
    "high_relevance_columns = ['Open', 'High', 'Low','Close','price','Future_Close']\n",
    "preview = df2[high_relevance_columns]\n",
    "correlation_matrix = preview.corr()"
   ]
  },
  {
   "cell_type": "code",
   "execution_count": 68,
   "id": "f37049ed-578c-4ce0-a5e0-da03045d893d",
   "metadata": {},
   "outputs": [
    {
     "name": "stdout",
     "output_type": "stream",
     "text": [
      "Feature correlations with the target variable (Future_Close):\n",
      "Future_Close    1.000000\n",
      "Close           0.998139\n",
      "High            0.997408\n",
      "Low             0.997164\n",
      "Open            0.996575\n",
      "price           0.102441\n",
      "Name: Future_Close, dtype: float64\n"
     ]
    }
   ],
   "source": [
    "target_correlation = correlation_matrix['Future_Close'].sort_values(ascending=False)\n",
    "print(\"Feature correlations with the target variable (Future_Close):\")\n",
    "print(target_correlation)"
   ]
  },
  {
   "cell_type": "code",
   "execution_count": 69,
   "id": "51f61800-585b-4098-acf0-0599c499a142",
   "metadata": {},
   "outputs": [
    {
     "data": {
      "image/png": "[encoded data removed]",
      "text/plain": [
       "<Figure size 1000x400 with 1 Axes>"
      ]
     },
     "metadata": {},
     "output_type": "display_data"
    }
   ],
   "source": [
    "plt.figure(figsize=(10, 4))\n",
    "sns.barplot(x=target_correlation.index, y=target_correlation.values)\n",
    "plt.title(\"Correlation of Features with Target variable (Future_Close)\")\n",
    "plt.xticks(rotation=45)\n",
    "plt.show()"
   ]
  },
  {
   "cell_type": "code",
   "execution_count": 70,
   "id": "5fb6c85b-776d-4cba-be06-fb2b0d129b01",
   "metadata": {},
   "outputs": [],
   "source": [
    "#mutual info can be used for continuous variables to measure the dependence between features and the target variable.\n",
    "from sklearn.feature_selection import mutual_info_regression\n",
    "# X is the features and y is the target variable\n",
    "high_relevance_columns = ['Open','High','Low','Close','Volume','Future_Close']\n",
    "preview = df[high_relevance_columns]\n",
    "X = preview.drop('Future_Close', axis=1)\n",
    "y = preview['Future_Close']\n"
   ]
  },
  {
   "cell_type": "code",
   "execution_count": 71,
   "id": "32e5b821-f2ac-45f1-9834-a08f49fdbc9a",
   "metadata": {},
   "outputs": [
    {
     "name": "stdout",
     "output_type": "stream",
     "text": [
      "Open      2.178671\n",
      "High      2.243375\n",
      "Low       2.256409\n",
      "Close     2.464932\n",
      "Volume    0.806202\n",
      "dtype: float64\n"
     ]
    }
   ],
   "source": [
    "mi = mutual_info_regression(X, y)\n",
    "mi_series = pd.Series(mi, index=X.columns)\n",
    "print(mi_series)"
   ]
  },
  {
   "cell_type": "code",
   "execution_count": 72,
   "id": "e77c548b-63cc-4ea1-9df1-ba328005eb52",
   "metadata": {},
   "outputs": [
    {
     "name": "stdout",
     "output_type": "stream",
     "text": [
      "Features with higher mutual information are more relevant for prediction.\n"
     ]
    }
   ],
   "source": [
    "print('Features with higher mutual information are more relevant for prediction.')"
   ]
  },
  {
   "cell_type": "code",
   "execution_count": 73,
   "id": "8511cc70-0f9d-43e2-b32b-e8cfc1dab4b8",
   "metadata": {},
   "outputs": [],
   "source": [
    "high_relevance_columns = ['Open', 'High', 'Low','Close','price','Future_Close']\n",
    "preview = df2[high_relevance_columns]\n",
    "X = preview.drop('Future_Close', axis=1)\n",
    "y = preview['Future_Close']\n"
   ]
  },
  {
   "cell_type": "code",
   "execution_count": 74,
   "id": "9456f888-a640-4da7-bc40-c67be39768a3",
   "metadata": {},
   "outputs": [
    {
     "name": "stdout",
     "output_type": "stream",
     "text": [
      "Open     2.834978\n",
      "High     3.030271\n",
      "Low      2.986342\n",
      "Close    3.172113\n",
      "price    0.810193\n",
      "dtype: float64\n"
     ]
    }
   ],
   "source": [
    "mi = mutual_info_regression(X, y)\n",
    "mi_series = pd.Series(mi, index=X.columns)\n",
    "print(mi_series)"
   ]
  },
  {
   "cell_type": "code",
   "execution_count": 75,
   "id": "46483853-8b11-433e-93a8-96455d8656f2",
   "metadata": {},
   "outputs": [],
   "source": [
    "#implementent feature selection method. 2. Wrapper methods:\n",
    "#i will use RFE to remove the least important features one by one based on model performance.\n",
    "from sklearn.feature_selection import RFE\n",
    "from sklearn.linear_model import LinearRegression\n",
    "from sklearn.model_selection import train_test_split\n",
    "from sklearn.metrics import mean_squared_error\n",
    "from sklearn.metrics import r2_score"
   ]
  },
  {
   "cell_type": "code",
   "execution_count": 76,
   "id": "3dcacc61-e20f-4539-ac8c-be933cec38b8",
   "metadata": {},
   "outputs": [],
   "source": [
    "high_relevance_columns = ['Open','High','Low','Close','Volume','Future_Close']\n",
    "preview = df[high_relevance_columns]\n",
    "X = preview.drop('Future_Close', axis=1) \n",
    "y = preview['Future_Close']  \n"
   ]
  },
  {
   "cell_type": "code",
   "execution_count": 77,
   "id": "2a6c3255-5789-4af8-a046-f39c06e1f16c",
   "metadata": {},
   "outputs": [],
   "source": [
    "X_train, X_test, y_train, y_test = train_test_split(X, y, test_size=0.2, random_state=42)"
   ]
  },
  {
   "cell_type": "code",
   "execution_count": 78,
   "id": "3f945862-09c5-450b-8e8d-ad8c11bc833b",
   "metadata": {},
   "outputs": [],
   "source": [
    "model = LinearRegression()"
   ]
  },
  {
   "cell_type": "code",
   "execution_count": 79,
   "id": "613fa974-eb74-40c8-90ae-28c94d1178c2",
   "metadata": {},
   "outputs": [],
   "source": [
    "selector = RFE(estimator=model, n_features_to_select=5)  # i choose 5 features \n",
    "selector = selector.fit(X_train, y_train)"
   ]
  },
  {
   "cell_type": "code",
   "execution_count": 80,
   "id": "d1f37ad4-f4a4-4ea6-bfeb-ab564dc32d69",
   "metadata": {},
   "outputs": [
    {
     "name": "stdout",
     "output_type": "stream",
     "text": [
      "Selected features: Index(['Open', 'High', 'Low', 'Close', 'Volume'], dtype='object')\n"
     ]
    }
   ],
   "source": [
    "selected_features = X.columns[selector.support_]\n",
    "print(f\"Selected features: {selected_features}\")"
   ]
  },
  {
   "cell_type": "code",
   "execution_count": 81,
   "id": "4f344ec8-1efe-47d6-9954-c1ea6f7b6672",
   "metadata": {},
   "outputs": [
    {
     "data": {
      "text/html": [
       "<style>#sk-container-id-1 {\n",
       "  /* Definition of color scheme common for light and dark mode */\n",
       "  --sklearn-color-text: black;\n",
       "  --sklearn-color-line: gray;\n",
       "  /* Definition of color scheme for unfitted estimators */\n",
       "  --sklearn-color-unfitted-level-0: #fff5e6;\n",
       "  --sklearn-color-unfitted-level-1: #f6e4d2;\n",
       "  --sklearn-color-unfitted-level-2: #ffe0b3;\n",
       "  --sklearn-color-unfitted-level-3: chocolate;\n",
       "  /* Definition of color scheme for fitted estimators */\n",
       "  --sklearn-color-fitted-level-0: #f0f8ff;\n",
       "  --sklearn-color-fitted-level-1: #d4ebff;\n",
       "  --sklearn-color-fitted-level-2: #b3dbfd;\n",
       "  --sklearn-color-fitted-level-3: cornflowerblue;\n",
       "\n",
       "  /* Specific color for light theme */\n",
       "  --sklearn-color-text-on-default-background: var(--sg-text-color, var(--theme-code-foreground, var(--jp-content-font-color1, black)));\n",
       "  --sklearn-color-background: var(--sg-background-color, var(--theme-background, var(--jp-layout-color0, white)));\n",
       "  --sklearn-color-border-box: var(--sg-text-color, var(--theme-code-foreground, var(--jp-content-font-color1, black)));\n",
       "  --sklearn-color-icon: #696969;\n",
       "\n",
       "  @media (prefers-color-scheme: dark) {\n",
       "    /* Redefinition of color scheme for dark theme */\n",
       "    --sklearn-color-text-on-default-background: var(--sg-text-color, var(--theme-code-foreground, var(--jp-content-font-color1, white)));\n",
       "    --sklearn-color-background: var(--sg-background-color, var(--theme-background, var(--jp-layout-color0, #111)));\n",
       "    --sklearn-color-border-box: var(--sg-text-color, var(--theme-code-foreground, var(--jp-content-font-color1, white)));\n",
       "    --sklearn-color-icon: #878787;\n",
       "  }\n",
       "}\n",
       "\n",
       "#sk-container-id-1 {\n",
       "  color: var(--sklearn-color-text);\n",
       "}\n",
       "\n",
       "#sk-container-id-1 pre {\n",
       "  padding: 0;\n",
       "}\n",
       "\n",
       "#sk-container-id-1 input.sk-hidden--visually {\n",
       "  border: 0;\n",
       "  clip: rect(1px 1px 1px 1px);\n",
       "  clip: rect(1px, 1px, 1px, 1px);\n",
       "  height: 1px;\n",
       "  margin: -1px;\n",
       "  overflow: hidden;\n",
       "  padding: 0;\n",
       "  position: absolute;\n",
       "  width: 1px;\n",
       "}\n",
       "\n",
       "#sk-container-id-1 div.sk-dashed-wrapped {\n",
       "  border: 1px dashed var(--sklearn-color-line);\n",
       "  margin: 0 0.4em 0.5em 0.4em;\n",
       "  box-sizing: border-box;\n",
       "  padding-bottom: 0.4em;\n",
       "  background-color: var(--sklearn-color-background);\n",
       "}\n",
       "\n",
       "#sk-container-id-1 div.sk-container {\n",
       "  /* jupyter's `normalize.less` sets `[hidden] { display: none; }`\n",
       "     but bootstrap.min.css set `[hidden] { display: none !important; }`\n",
       "     so we also need the `!important` here to be able to override the\n",
       "     default hidden behavior on the sphinx rendered scikit-learn.org.\n",
       "     See: https://github.com/scikit-learn/scikit-learn/issues/21755 */\n",
       "  display: inline-block !important;\n",
       "  position: relative;\n",
       "}\n",
       "\n",
       "#sk-container-id-1 div.sk-text-repr-fallback {\n",
       "  display: none;\n",
       "}\n",
       "\n",
       "div.sk-parallel-item,\n",
       "div.sk-serial,\n",
       "div.sk-item {\n",
       "  /* draw centered vertical line to link estimators */\n",
       "  background-image: linear-gradient(var(--sklearn-color-text-on-default-background), var(--sklearn-color-text-on-default-background));\n",
       "  background-size: 2px 100%;\n",
       "  background-repeat: no-repeat;\n",
       "  background-position: center center;\n",
       "}\n",
       "\n",
       "/* Parallel-specific style estimator block */\n",
       "\n",
       "#sk-container-id-1 div.sk-parallel-item::after {\n",
       "  content: \"\";\n",
       "  width: 100%;\n",
       "  border-bottom: 2px solid var(--sklearn-color-text-on-default-background);\n",
       "  flex-grow: 1;\n",
       "}\n",
       "\n",
       "#sk-container-id-1 div.sk-parallel {\n",
       "  display: flex;\n",
       "  align-items: stretch;\n",
       "  justify-content: center;\n",
       "  background-color: var(--sklearn-color-background);\n",
       "  position: relative;\n",
       "}\n",
       "\n",
       "#sk-container-id-1 div.sk-parallel-item {\n",
       "  display: flex;\n",
       "  flex-direction: column;\n",
       "}\n",
       "\n",
       "#sk-container-id-1 div.sk-parallel-item:first-child::after {\n",
       "  align-self: flex-end;\n",
       "  width: 50%;\n",
       "}\n",
       "\n",
       "#sk-container-id-1 div.sk-parallel-item:last-child::after {\n",
       "  align-self: flex-start;\n",
       "  width: 50%;\n",
       "}\n",
       "\n",
       "#sk-container-id-1 div.sk-parallel-item:only-child::after {\n",
       "  width: 0;\n",
       "}\n",
       "\n",
       "/* Serial-specific style estimator block */\n",
       "\n",
       "#sk-container-id-1 div.sk-serial {\n",
       "  display: flex;\n",
       "  flex-direction: column;\n",
       "  align-items: center;\n",
       "  background-color: var(--sklearn-color-background);\n",
       "  padding-right: 1em;\n",
       "  padding-left: 1em;\n",
       "}\n",
       "\n",
       "\n",
       "/* Toggleable style: style used for estimator/Pipeline/ColumnTransformer box that is\n",
       "clickable and can be expanded/collapsed.\n",
       "- Pipeline and ColumnTransformer use this feature and define the default style\n",
       "- Estimators will overwrite some part of the style using the `sk-estimator` class\n",
       "*/\n",
       "\n",
       "/* Pipeline and ColumnTransformer style (default) */\n",
       "\n",
       "#sk-container-id-1 div.sk-toggleable {\n",
       "  /* Default theme specific background. It is overwritten whether we have a\n",
       "  specific estimator or a Pipeline/ColumnTransformer */\n",
       "  background-color: var(--sklearn-color-background);\n",
       "}\n",
       "\n",
       "/* Toggleable label */\n",
       "#sk-container-id-1 label.sk-toggleable__label {\n",
       "  cursor: pointer;\n",
       "  display: block;\n",
       "  width: 100%;\n",
       "  margin-bottom: 0;\n",
       "  padding: 0.5em;\n",
       "  box-sizing: border-box;\n",
       "  text-align: center;\n",
       "}\n",
       "\n",
       "#sk-container-id-1 label.sk-toggleable__label-arrow:before {\n",
       "  /* Arrow on the left of the label */\n",
       "  content: \"▸\";\n",
       "  float: left;\n",
       "  margin-right: 0.25em;\n",
       "  color: var(--sklearn-color-icon);\n",
       "}\n",
       "\n",
       "#sk-container-id-1 label.sk-toggleable__label-arrow:hover:before {\n",
       "  color: var(--sklearn-color-text);\n",
       "}\n",
       "\n",
       "/* Toggleable content - dropdown */\n",
       "\n",
       "#sk-container-id-1 div.sk-toggleable__content {\n",
       "  max-height: 0;\n",
       "  max-width: 0;\n",
       "  overflow: hidden;\n",
       "  text-align: left;\n",
       "  /* unfitted */\n",
       "  background-color: var(--sklearn-color-unfitted-level-0);\n",
       "}\n",
       "\n",
       "#sk-container-id-1 div.sk-toggleable__content.fitted {\n",
       "  /* fitted */\n",
       "  background-color: var(--sklearn-color-fitted-level-0);\n",
       "}\n",
       "\n",
       "#sk-container-id-1 div.sk-toggleable__content pre {\n",
       "  margin: 0.2em;\n",
       "  border-radius: 0.25em;\n",
       "  color: var(--sklearn-color-text);\n",
       "  /* unfitted */\n",
       "  background-color: var(--sklearn-color-unfitted-level-0);\n",
       "}\n",
       "\n",
       "#sk-container-id-1 div.sk-toggleable__content.fitted pre {\n",
       "  /* unfitted */\n",
       "  background-color: var(--sklearn-color-fitted-level-0);\n",
       "}\n",
       "\n",
       "#sk-container-id-1 input.sk-toggleable__control:checked~div.sk-toggleable__content {\n",
       "  /* Expand drop-down */\n",
       "  max-height: 200px;\n",
       "  max-width: 100%;\n",
       "  overflow: auto;\n",
       "}\n",
       "\n",
       "#sk-container-id-1 input.sk-toggleable__control:checked~label.sk-toggleable__label-arrow:before {\n",
       "  content: \"▾\";\n",
       "}\n",
       "\n",
       "/* Pipeline/ColumnTransformer-specific style */\n",
       "\n",
       "#sk-container-id-1 div.sk-label input.sk-toggleable__control:checked~label.sk-toggleable__label {\n",
       "  color: var(--sklearn-color-text);\n",
       "  background-color: var(--sklearn-color-unfitted-level-2);\n",
       "}\n",
       "\n",
       "#sk-container-id-1 div.sk-label.fitted input.sk-toggleable__control:checked~label.sk-toggleable__label {\n",
       "  background-color: var(--sklearn-color-fitted-level-2);\n",
       "}\n",
       "\n",
       "/* Estimator-specific style */\n",
       "\n",
       "/* Colorize estimator box */\n",
       "#sk-container-id-1 div.sk-estimator input.sk-toggleable__control:checked~label.sk-toggleable__label {\n",
       "  /* unfitted */\n",
       "  background-color: var(--sklearn-color-unfitted-level-2);\n",
       "}\n",
       "\n",
       "#sk-container-id-1 div.sk-estimator.fitted input.sk-toggleable__control:checked~label.sk-toggleable__label {\n",
       "  /* fitted */\n",
       "  background-color: var(--sklearn-color-fitted-level-2);\n",
       "}\n",
       "\n",
       "#sk-container-id-1 div.sk-label label.sk-toggleable__label,\n",
       "#sk-container-id-1 div.sk-label label {\n",
       "  /* The background is the default theme color */\n",
       "  color: var(--sklearn-color-text-on-default-background);\n",
       "}\n",
       "\n",
       "/* On hover, darken the color of the background */\n",
       "#sk-container-id-1 div.sk-label:hover label.sk-toggleable__label {\n",
       "  color: var(--sklearn-color-text);\n",
       "  background-color: var(--sklearn-color-unfitted-level-2);\n",
       "}\n",
       "\n",
       "/* Label box, darken color on hover, fitted */\n",
       "#sk-container-id-1 div.sk-label.fitted:hover label.sk-toggleable__label.fitted {\n",
       "  color: var(--sklearn-color-text);\n",
       "  background-color: var(--sklearn-color-fitted-level-2);\n",
       "}\n",
       "\n",
       "/* Estimator label */\n",
       "\n",
       "#sk-container-id-1 div.sk-label label {\n",
       "  font-family: monospace;\n",
       "  font-weight: bold;\n",
       "  display: inline-block;\n",
       "  line-height: 1.2em;\n",
       "}\n",
       "\n",
       "#sk-container-id-1 div.sk-label-container {\n",
       "  text-align: center;\n",
       "}\n",
       "\n",
       "/* Estimator-specific */\n",
       "#sk-container-id-1 div.sk-estimator {\n",
       "  font-family: monospace;\n",
       "  border: 1px dotted var(--sklearn-color-border-box);\n",
       "  border-radius: 0.25em;\n",
       "  box-sizing: border-box;\n",
       "  margin-bottom: 0.5em;\n",
       "  /* unfitted */\n",
       "  background-color: var(--sklearn-color-unfitted-level-0);\n",
       "}\n",
       "\n",
       "#sk-container-id-1 div.sk-estimator.fitted {\n",
       "  /* fitted */\n",
       "  background-color: var(--sklearn-color-fitted-level-0);\n",
       "}\n",
       "\n",
       "/* on hover */\n",
       "#sk-container-id-1 div.sk-estimator:hover {\n",
       "  /* unfitted */\n",
       "  background-color: var(--sklearn-color-unfitted-level-2);\n",
       "}\n",
       "\n",
       "#sk-container-id-1 div.sk-estimator.fitted:hover {\n",
       "  /* fitted */\n",
       "  background-color: var(--sklearn-color-fitted-level-2);\n",
       "}\n",
       "\n",
       "/* Specification for estimator info (e.g. \"i\" and \"?\") */\n",
       "\n",
       "/* Common style for \"i\" and \"?\" */\n",
       "\n",
       ".sk-estimator-doc-link,\n",
       "a:link.sk-estimator-doc-link,\n",
       "a:visited.sk-estimator-doc-link {\n",
       "  float: right;\n",
       "  font-size: smaller;\n",
       "  line-height: 1em;\n",
       "  font-family: monospace;\n",
       "  background-color: var(--sklearn-color-background);\n",
       "  border-radius: 1em;\n",
       "  height: 1em;\n",
       "  width: 1em;\n",
       "  text-decoration: none !important;\n",
       "  margin-left: 1ex;\n",
       "  /* unfitted */\n",
       "  border: var(--sklearn-color-unfitted-level-1) 1pt solid;\n",
       "  color: var(--sklearn-color-unfitted-level-1);\n",
       "}\n",
       "\n",
       ".sk-estimator-doc-link.fitted,\n",
       "a:link.sk-estimator-doc-link.fitted,\n",
       "a:visited.sk-estimator-doc-link.fitted {\n",
       "  /* fitted */\n",
       "  border: var(--sklearn-color-fitted-level-1) 1pt solid;\n",
       "  color: var(--sklearn-color-fitted-level-1);\n",
       "}\n",
       "\n",
       "/* On hover */\n",
       "div.sk-estimator:hover .sk-estimator-doc-link:hover,\n",
       ".sk-estimator-doc-link:hover,\n",
       "div.sk-label-container:hover .sk-estimator-doc-link:hover,\n",
       ".sk-estimator-doc-link:hover {\n",
       "  /* unfitted */\n",
       "  background-color: var(--sklearn-color-unfitted-level-3);\n",
       "  color: var(--sklearn-color-background);\n",
       "  text-decoration: none;\n",
       "}\n",
       "\n",
       "div.sk-estimator.fitted:hover .sk-estimator-doc-link.fitted:hover,\n",
       ".sk-estimator-doc-link.fitted:hover,\n",
       "div.sk-label-container:hover .sk-estimator-doc-link.fitted:hover,\n",
       ".sk-estimator-doc-link.fitted:hover {\n",
       "  /* fitted */\n",
       "  background-color: var(--sklearn-color-fitted-level-3);\n",
       "  color: var(--sklearn-color-background);\n",
       "  text-decoration: none;\n",
       "}\n",
       "\n",
       "/* Span, style for the box shown on hovering the info icon */\n",
       ".sk-estimator-doc-link span {\n",
       "  display: none;\n",
       "  z-index: 9999;\n",
       "  position: relative;\n",
       "  font-weight: normal;\n",
       "  right: .2ex;\n",
       "  padding: .5ex;\n",
       "  margin: .5ex;\n",
       "  width: min-content;\n",
       "  min-width: 20ex;\n",
       "  max-width: 50ex;\n",
       "  color: var(--sklearn-color-text);\n",
       "  box-shadow: 2pt 2pt 4pt #999;\n",
       "  /* unfitted */\n",
       "  background: var(--sklearn-color-unfitted-level-0);\n",
       "  border: .5pt solid var(--sklearn-color-unfitted-level-3);\n",
       "}\n",
       "\n",
       ".sk-estimator-doc-link.fitted span {\n",
       "  /* fitted */\n",
       "  background: var(--sklearn-color-fitted-level-0);\n",
       "  border: var(--sklearn-color-fitted-level-3);\n",
       "}\n",
       "\n",
       ".sk-estimator-doc-link:hover span {\n",
       "  display: block;\n",
       "}\n",
       "\n",
       "/* \"?\"-specific style due to the `<a>` HTML tag */\n",
       "\n",
       "#sk-container-id-1 a.estimator_doc_link {\n",
       "  float: right;\n",
       "  font-size: 1rem;\n",
       "  line-height: 1em;\n",
       "  font-family: monospace;\n",
       "  background-color: var(--sklearn-color-background);\n",
       "  border-radius: 1rem;\n",
       "  height: 1rem;\n",
       "  width: 1rem;\n",
       "  text-decoration: none;\n",
       "  /* unfitted */\n",
       "  color: var(--sklearn-color-unfitted-level-1);\n",
       "  border: var(--sklearn-color-unfitted-level-1) 1pt solid;\n",
       "}\n",
       "\n",
       "#sk-container-id-1 a.estimator_doc_link.fitted {\n",
       "  /* fitted */\n",
       "  border: var(--sklearn-color-fitted-level-1) 1pt solid;\n",
       "  color: var(--sklearn-color-fitted-level-1);\n",
       "}\n",
       "\n",
       "/* On hover */\n",
       "#sk-container-id-1 a.estimator_doc_link:hover {\n",
       "  /* unfitted */\n",
       "  background-color: var(--sklearn-color-unfitted-level-3);\n",
       "  color: var(--sklearn-color-background);\n",
       "  text-decoration: none;\n",
       "}\n",
       "\n",
       "#sk-container-id-1 a.estimator_doc_link.fitted:hover {\n",
       "  /* fitted */\n",
       "  background-color: var(--sklearn-color-fitted-level-3);\n",
       "}\n",
       "</style><div id=\"sk-container-id-1\" class=\"sk-top-container\"><div class=\"sk-text-repr-fallback\"><pre>LinearRegression()</pre><b>In a Jupyter environment, please rerun this cell to show the HTML representation or trust the notebook. <br />On GitHub, the HTML representation is unable to render, please try loading this page with nbviewer.org.</b></div><div class=\"sk-container\" hidden><div class=\"sk-item\"><div class=\"sk-estimator fitted sk-toggleable\"><input class=\"sk-toggleable__control sk-hidden--visually\" id=\"sk-estimator-id-1\" type=\"checkbox\" checked><label for=\"sk-estimator-id-1\" class=\"sk-toggleable__label fitted sk-toggleable__label-arrow fitted\">&nbsp;&nbsp;LinearRegression<a class=\"sk-estimator-doc-link fitted\" rel=\"noreferrer\" target=\"_blank\" href=\"https://scikit-learn.org/1.5/modules/generated/sklearn.linear_model.LinearRegression.html\">?<span>Documentation for LinearRegression</span></a><span class=\"sk-estimator-doc-link fitted\">i<span>Fitted</span></span></label><div class=\"sk-toggleable__content fitted\"><pre>LinearRegression()</pre></div> </div></div></div></div>"
      ],
      "text/plain": [
       "LinearRegression()"
      ]
     },
     "execution_count": 81,
     "metadata": {},
     "output_type": "execute_result"
    }
   ],
   "source": [
    "X_train_selected = X_train[selected_features]\n",
    "X_test_selected = X_test[selected_features]\n",
    "model.fit(X_train_selected, y_train)"
   ]
  },
  {
   "cell_type": "code",
   "execution_count": 82,
   "id": "38634cad-b3da-4a25-97d7-5d8f144e6ac6",
   "metadata": {},
   "outputs": [
    {
     "name": "stdout",
     "output_type": "stream",
     "text": [
      "R2: 0.9951049665076825\n",
      "Mean Squared Error: 1525909.0250748675\n"
     ]
    }
   ],
   "source": [
    "y_pred = model.predict(X_test_selected)\n",
    "mse = mean_squared_error(y_test, y_pred)\n",
    "r2 = r2_score(y_test, y_pred)\n",
    "print(f\"R2: {r2}\")\n",
    "print(f\"Mean Squared Error: {mse}\")"
   ]
  },
  {
   "cell_type": "code",
   "execution_count": 83,
   "id": "ecc66ec9-db28-4fd1-bf8d-a2cb41c7ef4b",
   "metadata": {},
   "outputs": [
    {
     "name": "stdout",
     "output_type": "stream",
     "text": [
      "I have a mse of 1.5 million when selecting 5 features, i will redo it to 4 features excluding volume column\n"
     ]
    }
   ],
   "source": [
    "print('I have a mse of 1.5 million when selecting 5 features, i will redo it to 4 features excluding volume column')"
   ]
  },
  {
   "cell_type": "code",
   "execution_count": 84,
   "id": "08021531-24ec-48d2-aa4e-1613c520f03a",
   "metadata": {},
   "outputs": [],
   "source": [
    "high_relevance_columns = ['Open','High','Low','Close','Future_Close']\n",
    "preview = df[high_relevance_columns]\n",
    "X = preview.drop('Future_Close', axis=1) \n",
    "y = preview['Future_Close']  \n",
    "X_train, X_test, y_train, y_test = train_test_split(X, y, test_size=0.2, random_state=42)"
   ]
  },
  {
   "cell_type": "code",
   "execution_count": 85,
   "id": "4f295c6e-80bd-44d2-98e6-e938f3591843",
   "metadata": {},
   "outputs": [],
   "source": [
    "model = LinearRegression()"
   ]
  },
  {
   "cell_type": "code",
   "execution_count": 86,
   "id": "f6ecdd8c-9cd3-42c1-b113-484a6b061568",
   "metadata": {},
   "outputs": [],
   "source": [
    "selector = RFE(estimator=model, n_features_to_select=4) \n",
    "selector = selector.fit(X_train, y_train)"
   ]
  },
  {
   "cell_type": "code",
   "execution_count": 87,
   "id": "278c5981-6a5b-4111-bf58-68a204217c3c",
   "metadata": {},
   "outputs": [
    {
     "name": "stdout",
     "output_type": "stream",
     "text": [
      "Selected features: Index(['Open', 'High', 'Low', 'Close'], dtype='object')\n"
     ]
    }
   ],
   "source": [
    "selected_features = X.columns[selector.support_]\n",
    "print(f\"Selected features: {selected_features}\")"
   ]
  },
  {
   "cell_type": "code",
   "execution_count": 88,
   "id": "5b2ac632-7f2d-4f52-8627-3748e8b68e31",
   "metadata": {},
   "outputs": [
    {
     "data": {
      "text/html": [
       "<style>#sk-container-id-2 {\n",
       "  /* Definition of color scheme common for light and dark mode */\n",
       "  --sklearn-color-text: black;\n",
       "  --sklearn-color-line: gray;\n",
       "  /* Definition of color scheme for unfitted estimators */\n",
       "  --sklearn-color-unfitted-level-0: #fff5e6;\n",
       "  --sklearn-color-unfitted-level-1: #f6e4d2;\n",
       "  --sklearn-color-unfitted-level-2: #ffe0b3;\n",
       "  --sklearn-color-unfitted-level-3: chocolate;\n",
       "  /* Definition of color scheme for fitted estimators */\n",
       "  --sklearn-color-fitted-level-0: #f0f8ff;\n",
       "  --sklearn-color-fitted-level-1: #d4ebff;\n",
       "  --sklearn-color-fitted-level-2: #b3dbfd;\n",
       "  --sklearn-color-fitted-level-3: cornflowerblue;\n",
       "\n",
       "  /* Specific color for light theme */\n",
       "  --sklearn-color-text-on-default-background: var(--sg-text-color, var(--theme-code-foreground, var(--jp-content-font-color1, black)));\n",
       "  --sklearn-color-background: var(--sg-background-color, var(--theme-background, var(--jp-layout-color0, white)));\n",
       "  --sklearn-color-border-box: var(--sg-text-color, var(--theme-code-foreground, var(--jp-content-font-color1, black)));\n",
       "  --sklearn-color-icon: #696969;\n",
       "\n",
       "  @media (prefers-color-scheme: dark) {\n",
       "    /* Redefinition of color scheme for dark theme */\n",
       "    --sklearn-color-text-on-default-background: var(--sg-text-color, var(--theme-code-foreground, var(--jp-content-font-color1, white)));\n",
       "    --sklearn-color-background: var(--sg-background-color, var(--theme-background, var(--jp-layout-color0, #111)));\n",
       "    --sklearn-color-border-box: var(--sg-text-color, var(--theme-code-foreground, var(--jp-content-font-color1, white)));\n",
       "    --sklearn-color-icon: #878787;\n",
       "  }\n",
       "}\n",
       "\n",
       "#sk-container-id-2 {\n",
       "  color: var(--sklearn-color-text);\n",
       "}\n",
       "\n",
       "#sk-container-id-2 pre {\n",
       "  padding: 0;\n",
       "}\n",
       "\n",
       "#sk-container-id-2 input.sk-hidden--visually {\n",
       "  border: 0;\n",
       "  clip: rect(1px 1px 1px 1px);\n",
       "  clip: rect(1px, 1px, 1px, 1px);\n",
       "  height: 1px;\n",
       "  margin: -1px;\n",
       "  overflow: hidden;\n",
       "  padding: 0;\n",
       "  position: absolute;\n",
       "  width: 1px;\n",
       "}\n",
       "\n",
       "#sk-container-id-2 div.sk-dashed-wrapped {\n",
       "  border: 1px dashed var(--sklearn-color-line);\n",
       "  margin: 0 0.4em 0.5em 0.4em;\n",
       "  box-sizing: border-box;\n",
       "  padding-bottom: 0.4em;\n",
       "  background-color: var(--sklearn-color-background);\n",
       "}\n",
       "\n",
       "#sk-container-id-2 div.sk-container {\n",
       "  /* jupyter's `normalize.less` sets `[hidden] { display: none; }`\n",
       "     but bootstrap.min.css set `[hidden] { display: none !important; }`\n",
       "     so we also need the `!important` here to be able to override the\n",
       "     default hidden behavior on the sphinx rendered scikit-learn.org.\n",
       "     See: https://github.com/scikit-learn/scikit-learn/issues/21755 */\n",
       "  display: inline-block !important;\n",
       "  position: relative;\n",
       "}\n",
       "\n",
       "#sk-container-id-2 div.sk-text-repr-fallback {\n",
       "  display: none;\n",
       "}\n",
       "\n",
       "div.sk-parallel-item,\n",
       "div.sk-serial,\n",
       "div.sk-item {\n",
       "  /* draw centered vertical line to link estimators */\n",
       "  background-image: linear-gradient(var(--sklearn-color-text-on-default-background), var(--sklearn-color-text-on-default-background));\n",
       "  background-size: 2px 100%;\n",
       "  background-repeat: no-repeat;\n",
       "  background-position: center center;\n",
       "}\n",
       "\n",
       "/* Parallel-specific style estimator block */\n",
       "\n",
       "#sk-container-id-2 div.sk-parallel-item::after {\n",
       "  content: \"\";\n",
       "  width: 100%;\n",
       "  border-bottom: 2px solid var(--sklearn-color-text-on-default-background);\n",
       "  flex-grow: 1;\n",
       "}\n",
       "\n",
       "#sk-container-id-2 div.sk-parallel {\n",
       "  display: flex;\n",
       "  align-items: stretch;\n",
       "  justify-content: center;\n",
       "  background-color: var(--sklearn-color-background);\n",
       "  position: relative;\n",
       "}\n",
       "\n",
       "#sk-container-id-2 div.sk-parallel-item {\n",
       "  display: flex;\n",
       "  flex-direction: column;\n",
       "}\n",
       "\n",
       "#sk-container-id-2 div.sk-parallel-item:first-child::after {\n",
       "  align-self: flex-end;\n",
       "  width: 50%;\n",
       "}\n",
       "\n",
       "#sk-container-id-2 div.sk-parallel-item:last-child::after {\n",
       "  align-self: flex-start;\n",
       "  width: 50%;\n",
       "}\n",
       "\n",
       "#sk-container-id-2 div.sk-parallel-item:only-child::after {\n",
       "  width: 0;\n",
       "}\n",
       "\n",
       "/* Serial-specific style estimator block */\n",
       "\n",
       "#sk-container-id-2 div.sk-serial {\n",
       "  display: flex;\n",
       "  flex-direction: column;\n",
       "  align-items: center;\n",
       "  background-color: var(--sklearn-color-background);\n",
       "  padding-right: 1em;\n",
       "  padding-left: 1em;\n",
       "}\n",
       "\n",
       "\n",
       "/* Toggleable style: style used for estimator/Pipeline/ColumnTransformer box that is\n",
       "clickable and can be expanded/collapsed.\n",
       "- Pipeline and ColumnTransformer use this feature and define the default style\n",
       "- Estimators will overwrite some part of the style using the `sk-estimator` class\n",
       "*/\n",
       "\n",
       "/* Pipeline and ColumnTransformer style (default) */\n",
       "\n",
       "#sk-container-id-2 div.sk-toggleable {\n",
       "  /* Default theme specific background. It is overwritten whether we have a\n",
       "  specific estimator or a Pipeline/ColumnTransformer */\n",
       "  background-color: var(--sklearn-color-background);\n",
       "}\n",
       "\n",
       "/* Toggleable label */\n",
       "#sk-container-id-2 label.sk-toggleable__label {\n",
       "  cursor: pointer;\n",
       "  display: block;\n",
       "  width: 100%;\n",
       "  margin-bottom: 0;\n",
       "  padding: 0.5em;\n",
       "  box-sizing: border-box;\n",
       "  text-align: center;\n",
       "}\n",
       "\n",
       "#sk-container-id-2 label.sk-toggleable__label-arrow:before {\n",
       "  /* Arrow on the left of the label */\n",
       "  content: \"▸\";\n",
       "  float: left;\n",
       "  margin-right: 0.25em;\n",
       "  color: var(--sklearn-color-icon);\n",
       "}\n",
       "\n",
       "#sk-container-id-2 label.sk-toggleable__label-arrow:hover:before {\n",
       "  color: var(--sklearn-color-text);\n",
       "}\n",
       "\n",
       "/* Toggleable content - dropdown */\n",
       "\n",
       "#sk-container-id-2 div.sk-toggleable__content {\n",
       "  max-height: 0;\n",
       "  max-width: 0;\n",
       "  overflow: hidden;\n",
       "  text-align: left;\n",
       "  /* unfitted */\n",
       "  background-color: var(--sklearn-color-unfitted-level-0);\n",
       "}\n",
       "\n",
       "#sk-container-id-2 div.sk-toggleable__content.fitted {\n",
       "  /* fitted */\n",
       "  background-color: var(--sklearn-color-fitted-level-0);\n",
       "}\n",
       "\n",
       "#sk-container-id-2 div.sk-toggleable__content pre {\n",
       "  margin: 0.2em;\n",
       "  border-radius: 0.25em;\n",
       "  color: var(--sklearn-color-text);\n",
       "  /* unfitted */\n",
       "  background-color: var(--sklearn-color-unfitted-level-0);\n",
       "}\n",
       "\n",
       "#sk-container-id-2 div.sk-toggleable__content.fitted pre {\n",
       "  /* unfitted */\n",
       "  background-color: var(--sklearn-color-fitted-level-0);\n",
       "}\n",
       "\n",
       "#sk-container-id-2 input.sk-toggleable__control:checked~div.sk-toggleable__content {\n",
       "  /* Expand drop-down */\n",
       "  max-height: 200px;\n",
       "  max-width: 100%;\n",
       "  overflow: auto;\n",
       "}\n",
       "\n",
       "#sk-container-id-2 input.sk-toggleable__control:checked~label.sk-toggleable__label-arrow:before {\n",
       "  content: \"▾\";\n",
       "}\n",
       "\n",
       "/* Pipeline/ColumnTransformer-specific style */\n",
       "\n",
       "#sk-container-id-2 div.sk-label input.sk-toggleable__control:checked~label.sk-toggleable__label {\n",
       "  color: var(--sklearn-color-text);\n",
       "  background-color: var(--sklearn-color-unfitted-level-2);\n",
       "}\n",
       "\n",
       "#sk-container-id-2 div.sk-label.fitted input.sk-toggleable__control:checked~label.sk-toggleable__label {\n",
       "  background-color: var(--sklearn-color-fitted-level-2);\n",
       "}\n",
       "\n",
       "/* Estimator-specific style */\n",
       "\n",
       "/* Colorize estimator box */\n",
       "#sk-container-id-2 div.sk-estimator input.sk-toggleable__control:checked~label.sk-toggleable__label {\n",
       "  /* unfitted */\n",
       "  background-color: var(--sklearn-color-unfitted-level-2);\n",
       "}\n",
       "\n",
       "#sk-container-id-2 div.sk-estimator.fitted input.sk-toggleable__control:checked~label.sk-toggleable__label {\n",
       "  /* fitted */\n",
       "  background-color: var(--sklearn-color-fitted-level-2);\n",
       "}\n",
       "\n",
       "#sk-container-id-2 div.sk-label label.sk-toggleable__label,\n",
       "#sk-container-id-2 div.sk-label label {\n",
       "  /* The background is the default theme color */\n",
       "  color: var(--sklearn-color-text-on-default-background);\n",
       "}\n",
       "\n",
       "/* On hover, darken the color of the background */\n",
       "#sk-container-id-2 div.sk-label:hover label.sk-toggleable__label {\n",
       "  color: var(--sklearn-color-text);\n",
       "  background-color: var(--sklearn-color-unfitted-level-2);\n",
       "}\n",
       "\n",
       "/* Label box, darken color on hover, fitted */\n",
       "#sk-container-id-2 div.sk-label.fitted:hover label.sk-toggleable__label.fitted {\n",
       "  color: var(--sklearn-color-text);\n",
       "  background-color: var(--sklearn-color-fitted-level-2);\n",
       "}\n",
       "\n",
       "/* Estimator label */\n",
       "\n",
       "#sk-container-id-2 div.sk-label label {\n",
       "  font-family: monospace;\n",
       "  font-weight: bold;\n",
       "  display: inline-block;\n",
       "  line-height: 1.2em;\n",
       "}\n",
       "\n",
       "#sk-container-id-2 div.sk-label-container {\n",
       "  text-align: center;\n",
       "}\n",
       "\n",
       "/* Estimator-specific */\n",
       "#sk-container-id-2 div.sk-estimator {\n",
       "  font-family: monospace;\n",
       "  border: 1px dotted var(--sklearn-color-border-box);\n",
       "  border-radius: 0.25em;\n",
       "  box-sizing: border-box;\n",
       "  margin-bottom: 0.5em;\n",
       "  /* unfitted */\n",
       "  background-color: var(--sklearn-color-unfitted-level-0);\n",
       "}\n",
       "\n",
       "#sk-container-id-2 div.sk-estimator.fitted {\n",
       "  /* fitted */\n",
       "  background-color: var(--sklearn-color-fitted-level-0);\n",
       "}\n",
       "\n",
       "/* on hover */\n",
       "#sk-container-id-2 div.sk-estimator:hover {\n",
       "  /* unfitted */\n",
       "  background-color: var(--sklearn-color-unfitted-level-2);\n",
       "}\n",
       "\n",
       "#sk-container-id-2 div.sk-estimator.fitted:hover {\n",
       "  /* fitted */\n",
       "  background-color: var(--sklearn-color-fitted-level-2);\n",
       "}\n",
       "\n",
       "/* Specification for estimator info (e.g. \"i\" and \"?\") */\n",
       "\n",
       "/* Common style for \"i\" and \"?\" */\n",
       "\n",
       ".sk-estimator-doc-link,\n",
       "a:link.sk-estimator-doc-link,\n",
       "a:visited.sk-estimator-doc-link {\n",
       "  float: right;\n",
       "  font-size: smaller;\n",
       "  line-height: 1em;\n",
       "  font-family: monospace;\n",
       "  background-color: var(--sklearn-color-background);\n",
       "  border-radius: 1em;\n",
       "  height: 1em;\n",
       "  width: 1em;\n",
       "  text-decoration: none !important;\n",
       "  margin-left: 1ex;\n",
       "  /* unfitted */\n",
       "  border: var(--sklearn-color-unfitted-level-1) 1pt solid;\n",
       "  color: var(--sklearn-color-unfitted-level-1);\n",
       "}\n",
       "\n",
       ".sk-estimator-doc-link.fitted,\n",
       "a:link.sk-estimator-doc-link.fitted,\n",
       "a:visited.sk-estimator-doc-link.fitted {\n",
       "  /* fitted */\n",
       "  border: var(--sklearn-color-fitted-level-1) 1pt solid;\n",
       "  color: var(--sklearn-color-fitted-level-1);\n",
       "}\n",
       "\n",
       "/* On hover */\n",
       "div.sk-estimator:hover .sk-estimator-doc-link:hover,\n",
       ".sk-estimator-doc-link:hover,\n",
       "div.sk-label-container:hover .sk-estimator-doc-link:hover,\n",
       ".sk-estimator-doc-link:hover {\n",
       "  /* unfitted */\n",
       "  background-color: var(--sklearn-color-unfitted-level-3);\n",
       "  color: var(--sklearn-color-background);\n",
       "  text-decoration: none;\n",
       "}\n",
       "\n",
       "div.sk-estimator.fitted:hover .sk-estimator-doc-link.fitted:hover,\n",
       ".sk-estimator-doc-link.fitted:hover,\n",
       "div.sk-label-container:hover .sk-estimator-doc-link.fitted:hover,\n",
       ".sk-estimator-doc-link.fitted:hover {\n",
       "  /* fitted */\n",
       "  background-color: var(--sklearn-color-fitted-level-3);\n",
       "  color: var(--sklearn-color-background);\n",
       "  text-decoration: none;\n",
       "}\n",
       "\n",
       "/* Span, style for the box shown on hovering the info icon */\n",
       ".sk-estimator-doc-link span {\n",
       "  display: none;\n",
       "  z-index: 9999;\n",
       "  position: relative;\n",
       "  font-weight: normal;\n",
       "  right: .2ex;\n",
       "  padding: .5ex;\n",
       "  margin: .5ex;\n",
       "  width: min-content;\n",
       "  min-width: 20ex;\n",
       "  max-width: 50ex;\n",
       "  color: var(--sklearn-color-text);\n",
       "  box-shadow: 2pt 2pt 4pt #999;\n",
       "  /* unfitted */\n",
       "  background: var(--sklearn-color-unfitted-level-0);\n",
       "  border: .5pt solid var(--sklearn-color-unfitted-level-3);\n",
       "}\n",
       "\n",
       ".sk-estimator-doc-link.fitted span {\n",
       "  /* fitted */\n",
       "  background: var(--sklearn-color-fitted-level-0);\n",
       "  border: var(--sklearn-color-fitted-level-3);\n",
       "}\n",
       "\n",
       ".sk-estimator-doc-link:hover span {\n",
       "  display: block;\n",
       "}\n",
       "\n",
       "/* \"?\"-specific style due to the `<a>` HTML tag */\n",
       "\n",
       "#sk-container-id-2 a.estimator_doc_link {\n",
       "  float: right;\n",
       "  font-size: 1rem;\n",
       "  line-height: 1em;\n",
       "  font-family: monospace;\n",
       "  background-color: var(--sklearn-color-background);\n",
       "  border-radius: 1rem;\n",
       "  height: 1rem;\n",
       "  width: 1rem;\n",
       "  text-decoration: none;\n",
       "  /* unfitted */\n",
       "  color: var(--sklearn-color-unfitted-level-1);\n",
       "  border: var(--sklearn-color-unfitted-level-1) 1pt solid;\n",
       "}\n",
       "\n",
       "#sk-container-id-2 a.estimator_doc_link.fitted {\n",
       "  /* fitted */\n",
       "  border: var(--sklearn-color-fitted-level-1) 1pt solid;\n",
       "  color: var(--sklearn-color-fitted-level-1);\n",
       "}\n",
       "\n",
       "/* On hover */\n",
       "#sk-container-id-2 a.estimator_doc_link:hover {\n",
       "  /* unfitted */\n",
       "  background-color: var(--sklearn-color-unfitted-level-3);\n",
       "  color: var(--sklearn-color-background);\n",
       "  text-decoration: none;\n",
       "}\n",
       "\n",
       "#sk-container-id-2 a.estimator_doc_link.fitted:hover {\n",
       "  /* fitted */\n",
       "  background-color: var(--sklearn-color-fitted-level-3);\n",
       "}\n",
       "</style><div id=\"sk-container-id-2\" class=\"sk-top-container\"><div class=\"sk-text-repr-fallback\"><pre>LinearRegression()</pre><b>In a Jupyter environment, please rerun this cell to show the HTML representation or trust the notebook. <br />On GitHub, the HTML representation is unable to render, please try loading this page with nbviewer.org.</b></div><div class=\"sk-container\" hidden><div class=\"sk-item\"><div class=\"sk-estimator fitted sk-toggleable\"><input class=\"sk-toggleable__control sk-hidden--visually\" id=\"sk-estimator-id-2\" type=\"checkbox\" checked><label for=\"sk-estimator-id-2\" class=\"sk-toggleable__label fitted sk-toggleable__label-arrow fitted\">&nbsp;&nbsp;LinearRegression<a class=\"sk-estimator-doc-link fitted\" rel=\"noreferrer\" target=\"_blank\" href=\"https://scikit-learn.org/1.5/modules/generated/sklearn.linear_model.LinearRegression.html\">?<span>Documentation for LinearRegression</span></a><span class=\"sk-estimator-doc-link fitted\">i<span>Fitted</span></span></label><div class=\"sk-toggleable__content fitted\"><pre>LinearRegression()</pre></div> </div></div></div></div>"
      ],
      "text/plain": [
       "LinearRegression()"
      ]
     },
     "execution_count": 88,
     "metadata": {},
     "output_type": "execute_result"
    }
   ],
   "source": [
    "X_train_selected = X_train[selected_features]\n",
    "X_test_selected = X_test[selected_features]\n",
    "model.fit(X_train_selected, y_train)"
   ]
  },
  {
   "cell_type": "code",
   "execution_count": 89,
   "id": "0926ed21-c27f-444b-aa3a-b6c84a217363",
   "metadata": {},
   "outputs": [
    {
     "name": "stdout",
     "output_type": "stream",
     "text": [
      "R2: 0.9951015876848832\n",
      "Mean Squared Error: 1526962.2918628803\n"
     ]
    }
   ],
   "source": [
    "y_pred = model.predict(X_test_selected)\n",
    "mse = mean_squared_error(y_test, y_pred)\n",
    "r2 = r2_score(y_test, y_pred)\n",
    "print(f\"R2: {r2}\")\n",
    "print(f\"Mean Squared Error: {mse}\")"
   ]
  },
  {
   "cell_type": "code",
   "execution_count": 90,
   "id": "e62384d8-d558-4731-8595-7f22dfe76629",
   "metadata": {},
   "outputs": [
    {
     "name": "stdout",
     "output_type": "stream",
     "text": [
      "Not much difference after removing volume. For the prediction of bitcoin prices. open, high low, close are already high relevance features\n"
     ]
    }
   ],
   "source": [
    "print('Not much difference after removing volume. For the prediction of bitcoin prices. open, high low, close are already high relevance features')"
   ]
  },
  {
   "cell_type": "code",
   "execution_count": 91,
   "id": "72098764-25a4-4ae6-8154-083f42d901c1",
   "metadata": {},
   "outputs": [],
   "source": [
    "#I will use RFECV to automate the process of selecting the optimal number of features\n",
    "from sklearn.feature_selection import RFECV\n"
   ]
  },
  {
   "cell_type": "code",
   "execution_count": 92,
   "id": "b41ac90e-bcde-4250-bfbb-3b26b3b6d12d",
   "metadata": {},
   "outputs": [
    {
     "name": "stdout",
     "output_type": "stream",
     "text": [
      "Selected features: Index(['Open', 'High', 'Low', 'Close', 'Volume'], dtype='object')\n",
      "R2: 0.9951049665076825\n",
      "Mean Squared Error: 1525909.0250748675\n"
     ]
    }
   ],
   "source": [
    "high_relevance_columns = ['Open','High','Low','Close','Volume','Future_Close']\n",
    "preview = df[high_relevance_columns]\n",
    "X = preview.drop('Future_Close', axis=1) \n",
    "y = preview['Future_Close']  \n",
    "X_train, X_test, y_train, y_test = train_test_split(X, y, test_size=0.2, random_state=42)\n",
    "model = LinearRegression()\n",
    "selector = RFE(estimator=model, n_features_to_select=5)  \n",
    "selector = selector.fit(X_train, y_train)\n",
    "selected_features = X.columns[selector.support_]\n",
    "print(f\"Selected features: {selected_features}\")\n",
    "X_train_selected = X_train[selected_features]\n",
    "X_test_selected = X_test[selected_features]\n",
    "model.fit(X_train_selected, y_train)\n",
    "y_pred = model.predict(X_test_selected)\n",
    "mse = mean_squared_error(y_test, y_pred)\n",
    "r2 = r2_score(y_test, y_pred)\n",
    "print(f\"R2: {r2}\")\n",
    "print(f\"Mean Squared Error: {mse}\")"
   ]
  },
  {
   "cell_type": "code",
   "execution_count": 93,
   "id": "be0bdcd8-8577-4dee-868a-698870895c7f",
   "metadata": {},
   "outputs": [
    {
     "name": "stdout",
     "output_type": "stream",
     "text": [
      "Selected features: Index(['Open', 'Close'], dtype='object')\n"
     ]
    }
   ],
   "source": [
    "#Using RFECV Now\n",
    "rfecv = RFECV(estimator=model, step=1, cv=5, scoring='neg_mean_squared_error')\n",
    "rfecv = rfecv.fit(X_train, y_train)\n",
    "\n",
    "\n",
    "selected_features = X.columns[rfecv.support_]\n",
    "print(f\"Selected features: {selected_features}\")\n"
   ]
  },
  {
   "cell_type": "code",
   "execution_count": 94,
   "id": "5e34a36c-e159-409a-82f5-c6047be82487",
   "metadata": {},
   "outputs": [
    {
     "name": "stdout",
     "output_type": "stream",
     "text": [
      "R2: 0.9950806874786295\n",
      "Mean Squared Error: 1533477.428766134\n"
     ]
    }
   ],
   "source": [
    "# Training the model with the selected features\n",
    "X_train_selected = X_train[selected_features]\n",
    "X_test_selected = X_test[selected_features]\n",
    "model.fit(X_train_selected, y_train)\n",
    "\n",
    "y_pred = model.predict(X_test_selected)\n",
    "mse = mean_squared_error(y_test, y_pred)\n",
    "r2 = r2_score(y_test, y_pred)\n",
    "print(f\"R2: {r2}\")\n",
    "print(f\"Mean Squared Error: {mse}\")\n"
   ]
  },
  {
   "cell_type": "code",
   "execution_count": 95,
   "id": "3c637a31-d8fd-4ced-ad84-f26ab7251d84",
   "metadata": {},
   "outputs": [
    {
     "name": "stdout",
     "output_type": "stream",
     "text": [
      "Open and Close columns are the subset columns that minimizes the model error \n"
     ]
    }
   ],
   "source": [
    "print('Open and Close columns are the subset columns that minimizes the model error ')"
   ]
  },
  {
   "cell_type": "code",
   "execution_count": 96,
   "id": "51c664a8-2e3a-4ef3-93cf-c20769f0be5b",
   "metadata": {},
   "outputs": [],
   "source": [
    "#i will redo RFE to compare the mse and r2 score of RFECV using RFE open and close column"
   ]
  },
  {
   "cell_type": "code",
   "execution_count": 97,
   "id": "b0da5393-90c9-499b-a97e-d71693c707a0",
   "metadata": {},
   "outputs": [],
   "source": [
    "high_relevance_columns = ['Open','Close','Future_Close']\n",
    "preview = df[high_relevance_columns]\n",
    "X = preview.drop('Future_Close', axis=1) \n",
    "y = preview['Future_Close']  "
   ]
  },
  {
   "cell_type": "code",
   "execution_count": 98,
   "id": "802a1eca-ecb8-4590-9660-8303360aef7e",
   "metadata": {},
   "outputs": [],
   "source": [
    "X_train, X_test, y_train, y_test = train_test_split(X, y, test_size=0.2, random_state=42)"
   ]
  },
  {
   "cell_type": "code",
   "execution_count": 99,
   "id": "85fb55dd-cf5d-4368-a2b0-0eadcaae23f1",
   "metadata": {},
   "outputs": [],
   "source": [
    "model = LinearRegression()"
   ]
  },
  {
   "cell_type": "code",
   "execution_count": 100,
   "id": "2d3aa067-5eeb-49a3-9506-929140a33f18",
   "metadata": {},
   "outputs": [],
   "source": [
    "selector = RFE(estimator=model, n_features_to_select=2)  # i choose 2 features \n",
    "selector = selector.fit(X_train, y_train)"
   ]
  },
  {
   "cell_type": "code",
   "execution_count": 101,
   "id": "49de29bd-acb0-4e29-b47d-613ea35b4a14",
   "metadata": {},
   "outputs": [
    {
     "name": "stdout",
     "output_type": "stream",
     "text": [
      "Selected features: Index(['Open', 'Close'], dtype='object')\n"
     ]
    }
   ],
   "source": [
    "selected_features = X.columns[selector.support_]\n",
    "print(f\"Selected features: {selected_features}\")"
   ]
  },
  {
   "cell_type": "code",
   "execution_count": 102,
   "id": "8b2ffea5-9998-4b07-8d47-f05e0248de5b",
   "metadata": {},
   "outputs": [
    {
     "name": "stdout",
     "output_type": "stream",
     "text": [
      "R2: 0.9950806874786295\n",
      "Mean Squared Error: 1533477.428766134\n"
     ]
    }
   ],
   "source": [
    "X_train_selected = X_train[selected_features]\n",
    "X_test_selected = X_test[selected_features]\n",
    "model.fit(X_train_selected, y_train)\n",
    "y_pred = model.predict(X_test_selected)\n",
    "mse = mean_squared_error(y_test, y_pred)\n",
    "r2 = r2_score(y_test, y_pred)\n",
    "print(f\"R2: {r2}\")\n",
    "print(f\"Mean Squared Error: {mse}\")\n"
   ]
  },
  {
   "cell_type": "code",
   "execution_count": 103,
   "id": "4321cfd8-551c-4dd5-8393-aa37b1a372f2",
   "metadata": {},
   "outputs": [
    {
     "name": "stdout",
     "output_type": "stream",
     "text": [
      "Using RFE and RFECV open and close is the subset of the relevant feature for prediction\n"
     ]
    }
   ],
   "source": [
    "print('Using RFE and RFECV open and close is the subset of the relevant feature for prediction')"
   ]
  },
  {
   "cell_type": "code",
   "execution_count": 104,
   "id": "ccbf2e08-a9ac-42d4-a94f-264e6c87bf97",
   "metadata": {},
   "outputs": [],
   "source": [
    "#implementent feature selection method. 3. Embedded methods:\n",
    "#using Lasso regression in creating simpler, more interpretable models by selecting only the most important features.\n",
    "from sklearn.linear_model import Lasso"
   ]
  },
  {
   "cell_type": "code",
   "execution_count": 105,
   "id": "c9cbb4b1-337c-41fe-8247-b20e7fad0894",
   "metadata": {},
   "outputs": [],
   "source": [
    "high_relevance_columns = ['Open','High','Low','Close','Volume','Future_Close']\n",
    "preview = df[high_relevance_columns]\n",
    "X = preview.drop('Future_Close', axis=1) \n",
    "y = preview['Future_Close']  "
   ]
  },
  {
   "cell_type": "code",
   "execution_count": 106,
   "id": "73a93c22-5a79-43ae-b9ec-d8d5b55e3779",
   "metadata": {},
   "outputs": [],
   "source": [
    "X_train, X_test, y_train, y_test = train_test_split(X, y, test_size=0.2, random_state=42)\n"
   ]
  },
  {
   "cell_type": "code",
   "execution_count": 107,
   "id": "d9d810fb-f42f-418d-9b55-92da42699aac",
   "metadata": {},
   "outputs": [],
   "source": [
    "lasso = Lasso(alpha=0.1)  "
   ]
  },
  {
   "cell_type": "code",
   "execution_count": 108,
   "id": "23914cc0-bc8e-4df3-9962-b1cbd6c8370e",
   "metadata": {},
   "outputs": [
    {
     "name": "stderr",
     "output_type": "stream",
     "text": [
      "C:\\Users\\ACER\\AppData\\Local\\Lib\\site-packages\\sklearn\\linear_model\\_coordinate_descent.py:697: ConvergenceWarning: Objective did not converge. You might want to increase the number of iterations, check the scale of the features or consider increasing regularisation. Duality gap: 8.648e+08, tolerance: 2.981e+07\n",
      "  model = cd_fast.enet_coordinate_descent(\n"
     ]
    },
    {
     "data": {
      "text/html": [
       "<style>#sk-container-id-3 {\n",
       "  /* Definition of color scheme common for light and dark mode */\n",
       "  --sklearn-color-text: black;\n",
       "  --sklearn-color-line: gray;\n",
       "  /* Definition of color scheme for unfitted estimators */\n",
       "  --sklearn-color-unfitted-level-0: #fff5e6;\n",
       "  --sklearn-color-unfitted-level-1: #f6e4d2;\n",
       "  --sklearn-color-unfitted-level-2: #ffe0b3;\n",
       "  --sklearn-color-unfitted-level-3: chocolate;\n",
       "  /* Definition of color scheme for fitted estimators */\n",
       "  --sklearn-color-fitted-level-0: #f0f8ff;\n",
       "  --sklearn-color-fitted-level-1: #d4ebff;\n",
       "  --sklearn-color-fitted-level-2: #b3dbfd;\n",
       "  --sklearn-color-fitted-level-3: cornflowerblue;\n",
       "\n",
       "  /* Specific color for light theme */\n",
       "  --sklearn-color-text-on-default-background: var(--sg-text-color, var(--theme-code-foreground, var(--jp-content-font-color1, black)));\n",
       "  --sklearn-color-background: var(--sg-background-color, var(--theme-background, var(--jp-layout-color0, white)));\n",
       "  --sklearn-color-border-box: var(--sg-text-color, var(--theme-code-foreground, var(--jp-content-font-color1, black)));\n",
       "  --sklearn-color-icon: #696969;\n",
       "\n",
       "  @media (prefers-color-scheme: dark) {\n",
       "    /* Redefinition of color scheme for dark theme */\n",
       "    --sklearn-color-text-on-default-background: var(--sg-text-color, var(--theme-code-foreground, var(--jp-content-font-color1, white)));\n",
       "    --sklearn-color-background: var(--sg-background-color, var(--theme-background, var(--jp-layout-color0, #111)));\n",
       "    --sklearn-color-border-box: var(--sg-text-color, var(--theme-code-foreground, var(--jp-content-font-color1, white)));\n",
       "    --sklearn-color-icon: #878787;\n",
       "  }\n",
       "}\n",
       "\n",
       "#sk-container-id-3 {\n",
       "  color: var(--sklearn-color-text);\n",
       "}\n",
       "\n",
       "#sk-container-id-3 pre {\n",
       "  padding: 0;\n",
       "}\n",
       "\n",
       "#sk-container-id-3 input.sk-hidden--visually {\n",
       "  border: 0;\n",
       "  clip: rect(1px 1px 1px 1px);\n",
       "  clip: rect(1px, 1px, 1px, 1px);\n",
       "  height: 1px;\n",
       "  margin: -1px;\n",
       "  overflow: hidden;\n",
       "  padding: 0;\n",
       "  position: absolute;\n",
       "  width: 1px;\n",
       "}\n",
       "\n",
       "#sk-container-id-3 div.sk-dashed-wrapped {\n",
       "  border: 1px dashed var(--sklearn-color-line);\n",
       "  margin: 0 0.4em 0.5em 0.4em;\n",
       "  box-sizing: border-box;\n",
       "  padding-bottom: 0.4em;\n",
       "  background-color: var(--sklearn-color-background);\n",
       "}\n",
       "\n",
       "#sk-container-id-3 div.sk-container {\n",
       "  /* jupyter's `normalize.less` sets `[hidden] { display: none; }`\n",
       "     but bootstrap.min.css set `[hidden] { display: none !important; }`\n",
       "     so we also need the `!important` here to be able to override the\n",
       "     default hidden behavior on the sphinx rendered scikit-learn.org.\n",
       "     See: https://github.com/scikit-learn/scikit-learn/issues/21755 */\n",
       "  display: inline-block !important;\n",
       "  position: relative;\n",
       "}\n",
       "\n",
       "#sk-container-id-3 div.sk-text-repr-fallback {\n",
       "  display: none;\n",
       "}\n",
       "\n",
       "div.sk-parallel-item,\n",
       "div.sk-serial,\n",
       "div.sk-item {\n",
       "  /* draw centered vertical line to link estimators */\n",
       "  background-image: linear-gradient(var(--sklearn-color-text-on-default-background), var(--sklearn-color-text-on-default-background));\n",
       "  background-size: 2px 100%;\n",
       "  background-repeat: no-repeat;\n",
       "  background-position: center center;\n",
       "}\n",
       "\n",
       "/* Parallel-specific style estimator block */\n",
       "\n",
       "#sk-container-id-3 div.sk-parallel-item::after {\n",
       "  content: \"\";\n",
       "  width: 100%;\n",
       "  border-bottom: 2px solid var(--sklearn-color-text-on-default-background);\n",
       "  flex-grow: 1;\n",
       "}\n",
       "\n",
       "#sk-container-id-3 div.sk-parallel {\n",
       "  display: flex;\n",
       "  align-items: stretch;\n",
       "  justify-content: center;\n",
       "  background-color: var(--sklearn-color-background);\n",
       "  position: relative;\n",
       "}\n",
       "\n",
       "#sk-container-id-3 div.sk-parallel-item {\n",
       "  display: flex;\n",
       "  flex-direction: column;\n",
       "}\n",
       "\n",
       "#sk-container-id-3 div.sk-parallel-item:first-child::after {\n",
       "  align-self: flex-end;\n",
       "  width: 50%;\n",
       "}\n",
       "\n",
       "#sk-container-id-3 div.sk-parallel-item:last-child::after {\n",
       "  align-self: flex-start;\n",
       "  width: 50%;\n",
       "}\n",
       "\n",
       "#sk-container-id-3 div.sk-parallel-item:only-child::after {\n",
       "  width: 0;\n",
       "}\n",
       "\n",
       "/* Serial-specific style estimator block */\n",
       "\n",
       "#sk-container-id-3 div.sk-serial {\n",
       "  display: flex;\n",
       "  flex-direction: column;\n",
       "  align-items: center;\n",
       "  background-color: var(--sklearn-color-background);\n",
       "  padding-right: 1em;\n",
       "  padding-left: 1em;\n",
       "}\n",
       "\n",
       "\n",
       "/* Toggleable style: style used for estimator/Pipeline/ColumnTransformer box that is\n",
       "clickable and can be expanded/collapsed.\n",
       "- Pipeline and ColumnTransformer use this feature and define the default style\n",
       "- Estimators will overwrite some part of the style using the `sk-estimator` class\n",
       "*/\n",
       "\n",
       "/* Pipeline and ColumnTransformer style (default) */\n",
       "\n",
       "#sk-container-id-3 div.sk-toggleable {\n",
       "  /* Default theme specific background. It is overwritten whether we have a\n",
       "  specific estimator or a Pipeline/ColumnTransformer */\n",
       "  background-color: var(--sklearn-color-background);\n",
       "}\n",
       "\n",
       "/* Toggleable label */\n",
       "#sk-container-id-3 label.sk-toggleable__label {\n",
       "  cursor: pointer;\n",
       "  display: block;\n",
       "  width: 100%;\n",
       "  margin-bottom: 0;\n",
       "  padding: 0.5em;\n",
       "  box-sizing: border-box;\n",
       "  text-align: center;\n",
       "}\n",
       "\n",
       "#sk-container-id-3 label.sk-toggleable__label-arrow:before {\n",
       "  /* Arrow on the left of the label */\n",
       "  content: \"▸\";\n",
       "  float: left;\n",
       "  margin-right: 0.25em;\n",
       "  color: var(--sklearn-color-icon);\n",
       "}\n",
       "\n",
       "#sk-container-id-3 label.sk-toggleable__label-arrow:hover:before {\n",
       "  color: var(--sklearn-color-text);\n",
       "}\n",
       "\n",
       "/* Toggleable content - dropdown */\n",
       "\n",
       "#sk-container-id-3 div.sk-toggleable__content {\n",
       "  max-height: 0;\n",
       "  max-width: 0;\n",
       "  overflow: hidden;\n",
       "  text-align: left;\n",
       "  /* unfitted */\n",
       "  background-color: var(--sklearn-color-unfitted-level-0);\n",
       "}\n",
       "\n",
       "#sk-container-id-3 div.sk-toggleable__content.fitted {\n",
       "  /* fitted */\n",
       "  background-color: var(--sklearn-color-fitted-level-0);\n",
       "}\n",
       "\n",
       "#sk-container-id-3 div.sk-toggleable__content pre {\n",
       "  margin: 0.2em;\n",
       "  border-radius: 0.25em;\n",
       "  color: var(--sklearn-color-text);\n",
       "  /* unfitted */\n",
       "  background-color: var(--sklearn-color-unfitted-level-0);\n",
       "}\n",
       "\n",
       "#sk-container-id-3 div.sk-toggleable__content.fitted pre {\n",
       "  /* unfitted */\n",
       "  background-color: var(--sklearn-color-fitted-level-0);\n",
       "}\n",
       "\n",
       "#sk-container-id-3 input.sk-toggleable__control:checked~div.sk-toggleable__content {\n",
       "  /* Expand drop-down */\n",
       "  max-height: 200px;\n",
       "  max-width: 100%;\n",
       "  overflow: auto;\n",
       "}\n",
       "\n",
       "#sk-container-id-3 input.sk-toggleable__control:checked~label.sk-toggleable__label-arrow:before {\n",
       "  content: \"▾\";\n",
       "}\n",
       "\n",
       "/* Pipeline/ColumnTransformer-specific style */\n",
       "\n",
       "#sk-container-id-3 div.sk-label input.sk-toggleable__control:checked~label.sk-toggleable__label {\n",
       "  color: var(--sklearn-color-text);\n",
       "  background-color: var(--sklearn-color-unfitted-level-2);\n",
       "}\n",
       "\n",
       "#sk-container-id-3 div.sk-label.fitted input.sk-toggleable__control:checked~label.sk-toggleable__label {\n",
       "  background-color: var(--sklearn-color-fitted-level-2);\n",
       "}\n",
       "\n",
       "/* Estimator-specific style */\n",
       "\n",
       "/* Colorize estimator box */\n",
       "#sk-container-id-3 div.sk-estimator input.sk-toggleable__control:checked~label.sk-toggleable__label {\n",
       "  /* unfitted */\n",
       "  background-color: var(--sklearn-color-unfitted-level-2);\n",
       "}\n",
       "\n",
       "#sk-container-id-3 div.sk-estimator.fitted input.sk-toggleable__control:checked~label.sk-toggleable__label {\n",
       "  /* fitted */\n",
       "  background-color: var(--sklearn-color-fitted-level-2);\n",
       "}\n",
       "\n",
       "#sk-container-id-3 div.sk-label label.sk-toggleable__label,\n",
       "#sk-container-id-3 div.sk-label label {\n",
       "  /* The background is the default theme color */\n",
       "  color: var(--sklearn-color-text-on-default-background);\n",
       "}\n",
       "\n",
       "/* On hover, darken the color of the background */\n",
       "#sk-container-id-3 div.sk-label:hover label.sk-toggleable__label {\n",
       "  color: var(--sklearn-color-text);\n",
       "  background-color: var(--sklearn-color-unfitted-level-2);\n",
       "}\n",
       "\n",
       "/* Label box, darken color on hover, fitted */\n",
       "#sk-container-id-3 div.sk-label.fitted:hover label.sk-toggleable__label.fitted {\n",
       "  color: var(--sklearn-color-text);\n",
       "  background-color: var(--sklearn-color-fitted-level-2);\n",
       "}\n",
       "\n",
       "/* Estimator label */\n",
       "\n",
       "#sk-container-id-3 div.sk-label label {\n",
       "  font-family: monospace;\n",
       "  font-weight: bold;\n",
       "  display: inline-block;\n",
       "  line-height: 1.2em;\n",
       "}\n",
       "\n",
       "#sk-container-id-3 div.sk-label-container {\n",
       "  text-align: center;\n",
       "}\n",
       "\n",
       "/* Estimator-specific */\n",
       "#sk-container-id-3 div.sk-estimator {\n",
       "  font-family: monospace;\n",
       "  border: 1px dotted var(--sklearn-color-border-box);\n",
       "  border-radius: 0.25em;\n",
       "  box-sizing: border-box;\n",
       "  margin-bottom: 0.5em;\n",
       "  /* unfitted */\n",
       "  background-color: var(--sklearn-color-unfitted-level-0);\n",
       "}\n",
       "\n",
       "#sk-container-id-3 div.sk-estimator.fitted {\n",
       "  /* fitted */\n",
       "  background-color: var(--sklearn-color-fitted-level-0);\n",
       "}\n",
       "\n",
       "/* on hover */\n",
       "#sk-container-id-3 div.sk-estimator:hover {\n",
       "  /* unfitted */\n",
       "  background-color: var(--sklearn-color-unfitted-level-2);\n",
       "}\n",
       "\n",
       "#sk-container-id-3 div.sk-estimator.fitted:hover {\n",
       "  /* fitted */\n",
       "  background-color: var(--sklearn-color-fitted-level-2);\n",
       "}\n",
       "\n",
       "/* Specification for estimator info (e.g. \"i\" and \"?\") */\n",
       "\n",
       "/* Common style for \"i\" and \"?\" */\n",
       "\n",
       ".sk-estimator-doc-link,\n",
       "a:link.sk-estimator-doc-link,\n",
       "a:visited.sk-estimator-doc-link {\n",
       "  float: right;\n",
       "  font-size: smaller;\n",
       "  line-height: 1em;\n",
       "  font-family: monospace;\n",
       "  background-color: var(--sklearn-color-background);\n",
       "  border-radius: 1em;\n",
       "  height: 1em;\n",
       "  width: 1em;\n",
       "  text-decoration: none !important;\n",
       "  margin-left: 1ex;\n",
       "  /* unfitted */\n",
       "  border: var(--sklearn-color-unfitted-level-1) 1pt solid;\n",
       "  color: var(--sklearn-color-unfitted-level-1);\n",
       "}\n",
       "\n",
       ".sk-estimator-doc-link.fitted,\n",
       "a:link.sk-estimator-doc-link.fitted,\n",
       "a:visited.sk-estimator-doc-link.fitted {\n",
       "  /* fitted */\n",
       "  border: var(--sklearn-color-fitted-level-1) 1pt solid;\n",
       "  color: var(--sklearn-color-fitted-level-1);\n",
       "}\n",
       "\n",
       "/* On hover */\n",
       "div.sk-estimator:hover .sk-estimator-doc-link:hover,\n",
       ".sk-estimator-doc-link:hover,\n",
       "div.sk-label-container:hover .sk-estimator-doc-link:hover,\n",
       ".sk-estimator-doc-link:hover {\n",
       "  /* unfitted */\n",
       "  background-color: var(--sklearn-color-unfitted-level-3);\n",
       "  color: var(--sklearn-color-background);\n",
       "  text-decoration: none;\n",
       "}\n",
       "\n",
       "div.sk-estimator.fitted:hover .sk-estimator-doc-link.fitted:hover,\n",
       ".sk-estimator-doc-link.fitted:hover,\n",
       "div.sk-label-container:hover .sk-estimator-doc-link.fitted:hover,\n",
       ".sk-estimator-doc-link.fitted:hover {\n",
       "  /* fitted */\n",
       "  background-color: var(--sklearn-color-fitted-level-3);\n",
       "  color: var(--sklearn-color-background);\n",
       "  text-decoration: none;\n",
       "}\n",
       "\n",
       "/* Span, style for the box shown on hovering the info icon */\n",
       ".sk-estimator-doc-link span {\n",
       "  display: none;\n",
       "  z-index: 9999;\n",
       "  position: relative;\n",
       "  font-weight: normal;\n",
       "  right: .2ex;\n",
       "  padding: .5ex;\n",
       "  margin: .5ex;\n",
       "  width: min-content;\n",
       "  min-width: 20ex;\n",
       "  max-width: 50ex;\n",
       "  color: var(--sklearn-color-text);\n",
       "  box-shadow: 2pt 2pt 4pt #999;\n",
       "  /* unfitted */\n",
       "  background: var(--sklearn-color-unfitted-level-0);\n",
       "  border: .5pt solid var(--sklearn-color-unfitted-level-3);\n",
       "}\n",
       "\n",
       ".sk-estimator-doc-link.fitted span {\n",
       "  /* fitted */\n",
       "  background: var(--sklearn-color-fitted-level-0);\n",
       "  border: var(--sklearn-color-fitted-level-3);\n",
       "}\n",
       "\n",
       ".sk-estimator-doc-link:hover span {\n",
       "  display: block;\n",
       "}\n",
       "\n",
       "/* \"?\"-specific style due to the `<a>` HTML tag */\n",
       "\n",
       "#sk-container-id-3 a.estimator_doc_link {\n",
       "  float: right;\n",
       "  font-size: 1rem;\n",
       "  line-height: 1em;\n",
       "  font-family: monospace;\n",
       "  background-color: var(--sklearn-color-background);\n",
       "  border-radius: 1rem;\n",
       "  height: 1rem;\n",
       "  width: 1rem;\n",
       "  text-decoration: none;\n",
       "  /* unfitted */\n",
       "  color: var(--sklearn-color-unfitted-level-1);\n",
       "  border: var(--sklearn-color-unfitted-level-1) 1pt solid;\n",
       "}\n",
       "\n",
       "#sk-container-id-3 a.estimator_doc_link.fitted {\n",
       "  /* fitted */\n",
       "  border: var(--sklearn-color-fitted-level-1) 1pt solid;\n",
       "  color: var(--sklearn-color-fitted-level-1);\n",
       "}\n",
       "\n",
       "/* On hover */\n",
       "#sk-container-id-3 a.estimator_doc_link:hover {\n",
       "  /* unfitted */\n",
       "  background-color: var(--sklearn-color-unfitted-level-3);\n",
       "  color: var(--sklearn-color-background);\n",
       "  text-decoration: none;\n",
       "}\n",
       "\n",
       "#sk-container-id-3 a.estimator_doc_link.fitted:hover {\n",
       "  /* fitted */\n",
       "  background-color: var(--sklearn-color-fitted-level-3);\n",
       "}\n",
       "</style><div id=\"sk-container-id-3\" class=\"sk-top-container\"><div class=\"sk-text-repr-fallback\"><pre>Lasso(alpha=0.1)</pre><b>In a Jupyter environment, please rerun this cell to show the HTML representation or trust the notebook. <br />On GitHub, the HTML representation is unable to render, please try loading this page with nbviewer.org.</b></div><div class=\"sk-container\" hidden><div class=\"sk-item\"><div class=\"sk-estimator fitted sk-toggleable\"><input class=\"sk-toggleable__control sk-hidden--visually\" id=\"sk-estimator-id-3\" type=\"checkbox\" checked><label for=\"sk-estimator-id-3\" class=\"sk-toggleable__label fitted sk-toggleable__label-arrow fitted\">&nbsp;&nbsp;Lasso<a class=\"sk-estimator-doc-link fitted\" rel=\"noreferrer\" target=\"_blank\" href=\"https://scikit-learn.org/1.5/modules/generated/sklearn.linear_model.Lasso.html\">?<span>Documentation for Lasso</span></a><span class=\"sk-estimator-doc-link fitted\">i<span>Fitted</span></span></label><div class=\"sk-toggleable__content fitted\"><pre>Lasso(alpha=0.1)</pre></div> </div></div></div></div>"
      ],
      "text/plain": [
       "Lasso(alpha=0.1)"
      ]
     },
     "execution_count": 108,
     "metadata": {},
     "output_type": "execute_result"
    }
   ],
   "source": [
    "lasso.fit(X_train, y_train)"
   ]
  },
  {
   "cell_type": "code",
   "execution_count": 109,
   "id": "bcfb240e-f6e0-4c5d-a4c7-cf94ab82b13d",
   "metadata": {},
   "outputs": [
    {
     "name": "stdout",
     "output_type": "stream",
     "text": [
      "Selected features: Index(['Open', 'High', 'Low', 'Close', 'Volume'], dtype='object')\n"
     ]
    }
   ],
   "source": [
    "coefficients = lasso.coef_\n",
    "selected_features = X.columns[coefficients != 0]\n",
    "print(f\"Selected features: {selected_features}\")"
   ]
  },
  {
   "cell_type": "code",
   "execution_count": 110,
   "id": "afd77b41-f842-46d2-b18a-213d3d8d6ce3",
   "metadata": {},
   "outputs": [
    {
     "name": "stdout",
     "output_type": "stream",
     "text": [
      "R2: 0.9950891865250769\n",
      "Mean Squared Error: 1530828.0553350975\n"
     ]
    }
   ],
   "source": [
    "y_pred = lasso.predict(X_test)\n",
    "mse = mean_squared_error(y_test, y_pred)\n",
    "r2 = r2_score(y_test, y_pred)\n",
    "print(f\"R2: {r2}\")\n",
    "print(f\"Mean Squared Error: {mse}\")"
   ]
  },
  {
   "cell_type": "code",
   "execution_count": 111,
   "id": "9838c930-b3e8-4ce4-8143-c36607adc875",
   "metadata": {},
   "outputs": [
    {
     "name": "stdout",
     "output_type": "stream",
     "text": [
      "The lower the MSE, and the higher the R-squared, the better the feature selection method and the resulting model.\n"
     ]
    }
   ],
   "source": [
    "#Compare the results of different feature selection methods and choose the most relevant features for further modelling.\n",
    "print('The lower the MSE, and the higher the R-squared, the better the feature selection method and the resulting model.')"
   ]
  },
  {
   "cell_type": "code",
   "execution_count": 112,
   "id": "e9f506cd-3bee-4037-b1b0-712d9980f5d2",
   "metadata": {},
   "outputs": [],
   "source": [
    "#Implement Random Forest, Regression, and KNN models for Bitcoin price prediction\n",
    "from sklearn.ensemble import RandomForestRegressor\n",
    "from sklearn.linear_model import LinearRegression\n",
    "from sklearn.neighbors import KNeighborsRegressor"
   ]
  },
  {
   "cell_type": "code",
   "execution_count": 113,
   "id": "71309512-2475-4579-b288-2b47c2547f4b",
   "metadata": {},
   "outputs": [],
   "source": [
    "high_relevance_columns = ['Open','High','Low','Close','Volume','Future_Close']\n",
    "preview = df[high_relevance_columns]\n",
    "X = preview.drop('Future_Close', axis=1)  \n",
    "y = preview['Future_Close'] "
   ]
  },
  {
   "cell_type": "code",
   "execution_count": 114,
   "id": "e7b99c5b-16eb-49cf-bfc7-034fd93d1f31",
   "metadata": {},
   "outputs": [],
   "source": [
    "X_train, X_test, y_train, y_test = train_test_split(X, y, test_size=0.2, random_state=42)\n"
   ]
  },
  {
   "cell_type": "code",
   "execution_count": 115,
   "id": "2b1a56ca-27a3-4ff3-8faa-7adbe6e70a45",
   "metadata": {},
   "outputs": [
    {
     "name": "stdout",
     "output_type": "stream",
     "text": [
      "Random Forest Performance:\n",
      "Mean Squared Error (MSE): 1903738.2199296707\n",
      "R-squared: 0.9938929109179997\n"
     ]
    }
   ],
   "source": [
    "# Random Forest Model\n",
    "rf_model = RandomForestRegressor(n_estimators=100, random_state=42)\n",
    "rf_model.fit(X_train, y_train)\n",
    "rf_predictions = rf_model.predict(X_test)\n",
    "rf_mse = mean_squared_error(y_test, rf_predictions)\n",
    "rf_r2 = r2_score(y_test, rf_predictions)\n",
    "print(\"Random Forest Performance:\")\n",
    "print(\"Mean Squared Error (MSE):\", rf_mse)\n",
    "print(\"R-squared:\", rf_r2)"
   ]
  },
  {
   "cell_type": "code",
   "execution_count": 116,
   "id": "493a8088-bcb4-44a7-a509-11d8219271d5",
   "metadata": {},
   "outputs": [
    {
     "name": "stdout",
     "output_type": "stream",
     "text": [
      "Linear Regression Performance:\n",
      "Mean Squared Error (MSE): 1525909.0250748675\n",
      "R-squared: 0.9951049665076825\n"
     ]
    }
   ],
   "source": [
    "#Linear Regression Model\n",
    "lr_model = LinearRegression()\n",
    "lr_model.fit(X_train, y_train)\n",
    "lr_predictions = lr_model.predict(X_test)\n",
    "lr_mse = mean_squared_error(y_test, lr_predictions)\n",
    "lr_r2 = r2_score(y_test, lr_predictions)\n",
    "print(\"Linear Regression Performance:\")\n",
    "print(\"Mean Squared Error (MSE):\", lr_mse)\n",
    "print(\"R-squared:\", lr_r2)"
   ]
  },
  {
   "cell_type": "code",
   "execution_count": 117,
   "id": "3abbe6c1-05be-442e-8084-1af6369ff997",
   "metadata": {},
   "outputs": [
    {
     "name": "stdout",
     "output_type": "stream",
     "text": [
      "KNN Regressor Performance:\n",
      "Mean Squared Error (MSE): 62216171.7072483\n",
      "R-squared: 0.8004138914796648\n"
     ]
    }
   ],
   "source": [
    "# KNN Regressor Model\n",
    "knn_model = KNeighborsRegressor(n_neighbors=5)\n",
    "knn_model.fit(X_train, y_train)\n",
    "knn_predictions = knn_model.predict(X_test)\n",
    "knn_mse = mean_squared_error(y_test, knn_predictions)\n",
    "knn_r2 = r2_score(y_test, knn_predictions)\n",
    "print(\"KNN Regressor Performance:\")\n",
    "print(\"Mean Squared Error (MSE):\", knn_mse)\n",
    "print(\"R-squared:\", knn_r2)"
   ]
  },
  {
   "cell_type": "code",
   "execution_count": 118,
   "id": "4af8737f-a7c9-469a-a552-5133ebe30403",
   "metadata": {},
   "outputs": [
    {
     "data": {
      "text/plain": [
       "np.float64(1379.760203778059)"
      ]
     },
     "execution_count": 118,
     "metadata": {},
     "output_type": "execute_result"
    }
   ],
   "source": [
    "#Evaluate the performance of each model on the testing set using Root Mean Squared Error (RMSE)\n",
    "rf_rmse = rf_mse ** 0.5\n",
    "rf_rmse"
   ]
  },
  {
   "cell_type": "code",
   "execution_count": 119,
   "id": "2a2fe8e3-dab5-4276-a6bd-0a14e8d9c1a8",
   "metadata": {},
   "outputs": [
    {
     "data": {
      "text/plain": [
       "np.float64(1235.2769021862537)"
      ]
     },
     "execution_count": 119,
     "metadata": {},
     "output_type": "execute_result"
    }
   ],
   "source": [
    "lr_rmse = lr_mse ** 0.5\n",
    "lr_rmse"
   ]
  },
  {
   "cell_type": "code",
   "execution_count": 120,
   "id": "54caa001-8e89-4652-8b27-b7a6406fc9fb",
   "metadata": {},
   "outputs": [
    {
     "data": {
      "text/plain": [
       "np.float64(7887.722846756743)"
      ]
     },
     "execution_count": 120,
     "metadata": {},
     "output_type": "execute_result"
    }
   ],
   "source": [
    "knn_rmse = knn_mse ** 0.5\n",
    "knn_rmse"
   ]
  },
  {
   "cell_type": "code",
   "execution_count": 121,
   "id": "0a36474f-9d1f-4ec4-9248-61cdf2521904",
   "metadata": {},
   "outputs": [
    {
     "name": "stdout",
     "output_type": "stream",
     "text": [
      "Model Comparison:\n",
      "Random Forest: RMSE = 1379.76\n",
      "Linear Regression: RMSE = 1235.28\n",
      "KNN Regressor: RMSE = 7887.72\n",
      "\n",
      "The best model is: Linear Regression with RMSE = 1235.28\n"
     ]
    }
   ],
   "source": [
    "rmse_results = {\"Random Forest\": rf_rmse, \"Linear Regression\": lr_rmse,\"KNN Regressor\": knn_rmse}\n",
    "# Print the model with the lowest RMSE\n",
    "best_model = min(rmse_results, key=rmse_results.get)\n",
    "print(\"Model Comparison:\")\n",
    "for model, rmse in rmse_results.items():\n",
    "    print(f\"{model}: RMSE = {rmse:.2f}\")\n",
    "print(f\"\\nThe best model is: {best_model} with RMSE = {rmse_results[best_model]:.2f}\")"
   ]
  },
  {
   "cell_type": "code",
   "execution_count": 122,
   "id": "5308805d-a8d1-44f2-a541-cea319d6317d",
   "metadata": {},
   "outputs": [
    {
     "name": "stdout",
     "output_type": "stream",
     "text": [
      "The model with the lowest RMSE is chosen as the best model for optimal price prediction. Which is Linear regression\n"
     ]
    }
   ],
   "source": [
    "print('The model with the lowest RMSE is chosen as the best model for optimal price prediction. Which is Linear regression')"
   ]
  },
  {
   "cell_type": "code",
   "execution_count": 123,
   "id": "10374d57-eaca-43ae-8dcf-4002ddae1f4d",
   "metadata": {},
   "outputs": [
    {
     "data": {
      "image/png": "[encoded data removed]",
      "text/plain": [
       "<Figure size 1000x400 with 1 Axes>"
      ]
     },
     "metadata": {},
     "output_type": "display_data"
    }
   ],
   "source": [
    "# Scatter plot of linear regression\n",
    "plt.figure(figsize=(10, 4))\n",
    "plt.scatter(y_test, lr_predictions, alpha=0.6, color=\"blue\", label=\"Predictions\")\n",
    "plt.plot([y_test.min(), y_test.max()], [y_test.min(), y_test.max()], color=\"red\", linewidth=2, label=\"Perfect Fit\")\n",
    "plt.title(\"Linear Regression: Actual vs Predicted Values\")\n",
    "plt.xlabel(\"Actual Values\")\n",
    "plt.ylabel(\"Predicted Values\")\n",
    "plt.legend()\n",
    "plt.grid(True)\n",
    "plt.show()"
   ]
  },
  {
   "cell_type": "code",
   "execution_count": 124,
   "id": "4216ce9f-9054-4e8a-aef0-0406d94dd116",
   "metadata": {},
   "outputs": [
    {
     "data": {
      "image/png": "[encoded data removed]",
      "text/plain": [
       "<Figure size 1000x300 with 1 Axes>"
      ]
     },
     "metadata": {},
     "output_type": "display_data"
    }
   ],
   "source": [
    "# Random Forest Visualization\n",
    "plt.figure(figsize=(10, 3))\n",
    "plt.scatter(y_test, rf_predictions, alpha=0.6, color=\"blue\", label=\"Predictions\")\n",
    "plt.plot([y_test.min(), y_test.max()], [y_test.min(), y_test.max()], color=\"red\", linewidth=2, label=\"Perfect Fit\")\n",
    "plt.title(\"Random Forest: Actual vs Predicted Values\")\n",
    "plt.xlabel(\"Actual Values\")\n",
    "plt.ylabel(\"Predicted Values\")\n",
    "plt.legend()\n",
    "plt.grid(True)\n",
    "plt.show()"
   ]
  },
  {
   "cell_type": "code",
   "execution_count": 128,
   "id": "33929cf9-4b02-410d-8ed5-ff062ae5c6f8",
   "metadata": {},
   "outputs": [
    {
     "data": {
      "image/png": "[encoded data removed]",
      "text/plain": [
       "<Figure size 1000x300 with 1 Axes>"
      ]
     },
     "metadata": {},
     "output_type": "display_data"
    }
   ],
   "source": [
    "# KNN Visualization\n",
    "plt.figure(figsize=(10, 3))\n",
    "plt.scatter(y_test, knn_predictions, alpha=0.6, color=\"green\", label=\"Predictions\")\n",
    "plt.plot([y_test.min(), y_test.max()], [y_test.min(), y_test.max()], color=\"red\", linewidth=2, label=\"Perfect Fit\")\n",
    "plt.title(\"KNN: Actual vs Predicted Values\")\n",
    "plt.xlabel(\"Actual Values\")\n",
    "plt.ylabel(\"Predicted Values\")\n",
    "plt.legend()\n",
    "plt.grid(True)\n",
    "plt.show()"
   ]
  },
  {
   "cell_type": "code",
   "execution_count": 126,
   "id": "278cbe15-2a3a-4751-9a1a-12fce09e27a2",
   "metadata": {},
   "outputs": [
    {
     "name": "stdout",
     "output_type": "stream",
     "text": [
      "From the above graphs linear regression has a tighter clustering along the diagonal line, which indicates a better-performing model\n"
     ]
    }
   ],
   "source": [
    "print('From the above graphs linear regression has a tighter clustering along the diagonal line, which indicates a better-performing model')"
   ]
  }
 ],
 "metadata": {
  "kernelspec": {
   "display_name": "Python 3 (ipykernel)",
   "language": "python",
   "name": "python3"
  },
  "language_info": {
   "codemirror_mode": {
    "name": "ipython",
    "version": 3
   },
   "file_extension": ".py",
   "mimetype": "text/x-python",
   "name": "python",
   "nbconvert_exporter": "python",
   "pygments_lexer": "ipython3",
   "version": "3.12.6"
  }
 },
 "nbformat": 4,
 "nbformat_minor": 5
}
