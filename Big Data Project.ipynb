{
 "cells": [
  {
   "cell_type": "code",
   "execution_count": 1,
   "id": "e8e0de9d-7e99-4aef-8fb9-6a5b1fc4d0ae",
   "metadata": {},
   "outputs": [
    {
     "name": "stderr",
     "output_type": "stream",
     "text": [
      "WARNING: Using incubator modules: jdk.incubator.vector\n",
      "Using Spark's default log4j profile: org/apache/spark/log4j2-defaults.properties\n",
      "Setting default log level to \"WARN\".\n",
      "To adjust logging level use sc.setLogLevel(newLevel). For SparkR, use setLogLevel(newLevel).\n",
      "25/05/25 09:13:34 WARN NativeCodeLoader: Unable to load native-hadoop library for your platform... using builtin-java classes where applicable\n"
     ]
    }
   ],
   "source": [
    "#Victory Okezie Q1097004. Analysing Healthcare Big Data To build an end-to-end Big Data pipeline using Apache Spark and Hive, for predicting bone age from healthcare data using machine learning.\n",
    "from pyspark.sql import SparkSession\n",
    "\n",
    "# Start Spark with Hive support\n",
    "spark = SparkSession.builder \\\n",
    "    .appName(\"BoneAgePrediction\") \\\n",
    "    .enableHiveSupport() \\\n",
    "    .getOrCreate()\n"
   ]
  },
  {
   "cell_type": "code",
   "execution_count": 2,
   "id": "306ab745-bd20-445b-a2f6-a09ac85e66e8",
   "metadata": {},
   "outputs": [
    {
     "name": "stderr",
     "output_type": "stream",
     "text": [
      "25/05/25 09:13:41 WARN ObjectStore: Version information not found in metastore. hive.metastore.schema.verification is not enabled so recording the schema version 2.3.0\n",
      "25/05/25 09:13:41 WARN ObjectStore: setMetaStoreSchemaVersion called but recording version is disabled: version = 2.3.0, comment = Set by MetaStore jovyan@172.19.0.4\n"
     ]
    },
    {
     "name": "stdout",
     "output_type": "stream",
     "text": [
      "+----------------+\n",
      "|current_schema()|\n",
      "+----------------+\n",
      "|      boneage_db|\n",
      "+----------------+\n",
      "\n"
     ]
    }
   ],
   "source": [
    "#I oragnised the database\n",
    "spark.sql(\"CREATE DATABASE IF NOT EXISTS boneage_db\")\n",
    "spark.sql(\"USE boneage_db\")\n",
    "\n",
    "# Check current database\n",
    "spark.sql(\"SELECT current_database()\").show()\n"
   ]
  },
  {
   "cell_type": "code",
   "execution_count": 3,
   "id": "901f0bcc-a6f6-4a07-8f8a-7c79922117a3",
   "metadata": {},
   "outputs": [
    {
     "name": "stdout",
     "output_type": "stream",
     "text": [
      "+----+-------+-----+\n",
      "|  id|boneage| male|\n",
      "+----+-------+-----+\n",
      "|1377|    180|false|\n",
      "|1378|     12|false|\n",
      "|1379|     94|false|\n",
      "|1380|    120| true|\n",
      "|1381|     82|false|\n",
      "+----+-------+-----+\n",
      "only showing top 5 rows\n",
      "root\n",
      " |-- id: integer (nullable = true)\n",
      " |-- boneage: integer (nullable = true)\n",
      " |-- male: boolean (nullable = true)\n",
      "\n"
     ]
    }
   ],
   "source": [
    "# Loading the training data\n",
    "train_df = spark.read.csv(\"/home/jovyan/work/boneage-training-dataset.csv\", header=True, inferSchema=True)\n",
    "\n",
    "# Load test data\n",
    "test_df = spark.read.csv(\"/home/jovyan/work/boneage-test-dataset.csv\", header=True, inferSchema=True)\n",
    "\n",
    "# Preview\n",
    "train_df.show(5)\n",
    "train_df.printSchema()\n"
   ]
  },
  {
   "cell_type": "code",
   "execution_count": 4,
   "id": "cf817ebd-3184-4c74-8ec7-68e4fc470084",
   "metadata": {},
   "outputs": [
    {
     "name": "stdout",
     "output_type": "stream",
     "text": [
      "+----+-----+--------+-------+\n",
      "|  id| male|male_int|boneage|\n",
      "+----+-----+--------+-------+\n",
      "|1377|false|       0|    180|\n",
      "|1378|false|       0|     12|\n",
      "|1379|false|       0|     94|\n",
      "|1380| true|       1|    120|\n",
      "|1381|false|       0|     82|\n",
      "+----+-----+--------+-------+\n",
      "only showing top 5 rows\n"
     ]
    }
   ],
   "source": [
    "from pyspark.sql.functions import when, col\n",
    "#Time For cleaning\n",
    "# Drop rows with nulls\n",
    "train_df = train_df.dropna()\n",
    "\n",
    "# Convert 'male' to integer (true → 1, false → 0)\n",
    "train_df = train_df.withColumn(\"male_int\", when(col(\"male\") == \"true\", 1).otherwise(0))\n",
    "\n",
    "# Check cleaned data\n",
    "train_df.select(\"id\", \"male\", \"male_int\", \"boneage\").show(5)\n"
   ]
  },
  {
   "cell_type": "code",
   "execution_count": 7,
   "id": "099e1680-a7a9-46af-819e-b78b94d4b83f",
   "metadata": {},
   "outputs": [],
   "source": [
    "#for the feature engineering , i imported vector assembler this is good for machine learning\n",
    "from pyspark.ml.feature import VectorAssembler\n",
    "\n",
    "# i prepare features for ML\n",
    "assembler = VectorAssembler(inputCols=[\"male_int\"], outputCol=\"features\")\n",
    "final_train_df = assembler.transform(train_df).select(\"features\", \"boneage\")\n"
   ]
  },
  {
   "cell_type": "code",
   "execution_count": 9,
   "id": "ea7f6832-def9-47a3-bf12-055970357899",
   "metadata": {},
   "outputs": [
    {
     "name": "stderr",
     "output_type": "stream",
     "text": [
      "25/05/25 09:16:28 WARN Instrumentation: [4f3c7a16] regParam is zero, which might cause numerical instability and overfitting.\n"
     ]
    },
    {
     "name": "stdout",
     "output_type": "stream",
     "text": [
      "Coefficients: [17.423437974357043]\n",
      "Intercept: 117.88023537556246\n"
     ]
    }
   ],
   "source": [
    "# i choose linear regression\n",
    "from pyspark.ml.regression import LinearRegression\n",
    "\n",
    "lr = LinearRegression(featuresCol=\"features\", labelCol=\"boneage\")\n",
    "\n",
    "# Train the model\n",
    "model = lr.fit(final_train_df)\n",
    "\n",
    "print(\"Coefficients:\", model.coefficients)\n",
    "print(\"Intercept:\", model.intercept)\n"
   ]
  },
  {
   "cell_type": "code",
   "execution_count": 10,
   "id": "7bdd0007-c1f8-475c-b097-4746bef596ce",
   "metadata": {},
   "outputs": [
    {
     "name": "stdout",
     "output_type": "stream",
     "text": [
      "+------------------+-------+\n",
      "|        prediction|boneage|\n",
      "+------------------+-------+\n",
      "|117.88023537556246|    180|\n",
      "|117.88023537556246|     12|\n",
      "|117.88023537556246|     94|\n",
      "| 135.3036733499195|    120|\n",
      "|117.88023537556246|     82|\n",
      "+------------------+-------+\n",
      "only showing top 5 rows\n",
      "RMSE: 40.25495624041058\n"
     ]
    }
   ],
   "source": [
    "from pyspark.ml.evaluation import RegressionEvaluator\n",
    "\n",
    "predictions = model.transform(final_train_df)\n",
    "\n",
    "predictions.select(\"prediction\", \"boneage\").show(5)\n",
    "\n",
    "# Evaluate using RMSE\n",
    "evaluator = RegressionEvaluator(labelCol=\"boneage\", predictionCol=\"prediction\", metricName=\"rmse\")\n",
    "rmse = evaluator.evaluate(predictions)\n",
    "\n",
    "print(\"RMSE:\", rmse)\n"
   ]
  },
  {
   "cell_type": "code",
   "execution_count": 11,
   "id": "201ba055-5349-4644-a7bc-0c6eea74bd1a",
   "metadata": {},
   "outputs": [],
   "source": [
    "# Rename columns to match training set\n",
    "test_df = test_df.withColumnRenamed(\"Sex\", \"male\") \\\n",
    "                 .withColumnRenamed(\"Case ID\", \"id\")\n"
   ]
  },
  {
   "cell_type": "code",
   "execution_count": 12,
   "id": "cea5162d-2074-402e-b581-3a736c88a71a",
   "metadata": {},
   "outputs": [
    {
     "name": "stdout",
     "output_type": "stream",
     "text": [
      "+----+------------------+\n",
      "|  id|        prediction|\n",
      "+----+------------------+\n",
      "|4360|117.88023537556246|\n",
      "|4361|117.88023537556246|\n",
      "|4362|117.88023537556246|\n",
      "|4363|117.88023537556246|\n",
      "|4364|117.88023537556246|\n",
      "|4365|117.88023537556246|\n",
      "|4366|117.88023537556246|\n",
      "|4367|117.88023537556246|\n",
      "|4368|117.88023537556246|\n",
      "|4369|117.88023537556246|\n",
      "+----+------------------+\n",
      "only showing top 10 rows\n"
     ]
    }
   ],
   "source": [
    "# Clean test data\n",
    "test_df = test_df.dropna()\n",
    "\n",
    "# Convert male to integer (true → 1, false → 0)\n",
    "test_df = test_df.withColumn(\"male_int\", when(col(\"male\") == \"true\", 1).otherwise(0))\n",
    "\n",
    "# Assemble features\n",
    "final_test_df = assembler.transform(test_df)\n",
    "\n",
    "# Predict\n",
    "test_predictions = model.transform(final_test_df)\n",
    "test_predictions.select(\"id\", \"prediction\").show(10)\n"
   ]
  },
  {
   "cell_type": "code",
   "execution_count": 13,
   "id": "854a49b2-eec1-454f-bd8d-df58795868c1",
   "metadata": {},
   "outputs": [
    {
     "data": {
      "text/plain": [
       "DataFrame[]"
      ]
     },
     "execution_count": 13,
     "metadata": {},
     "output_type": "execute_result"
    }
   ],
   "source": [
    "# I Re-select the Hive database (in case my kernel restarted)\n",
    "spark.sql(\"CREATE DATABASE IF NOT EXISTS boneage_db\")\n",
    "spark.sql(\"USE boneage_db\")\n"
   ]
  },
  {
   "cell_type": "code",
   "execution_count": 14,
   "id": "0d2b6c63-ec5c-4a7f-a42f-4f3c75ab3464",
   "metadata": {},
   "outputs": [
    {
     "name": "stderr",
     "output_type": "stream",
     "text": [
      "25/05/25 09:17:32 WARN SessionState: METASTORE_FILTER_HOOK will be ignored, since hive.security.authorization.manager is set to instance of HiveAuthorizerFactory.\n",
      "25/05/25 09:17:32 WARN HiveConf: HiveConf of name hive.internal.ss.authz.settings.applied.marker does not exist\n"
     ]
    }
   ],
   "source": [
    "# Save cleaned training data into Hive table\n",
    "train_df.write.mode(\"overwrite\").saveAsTable(\"boneage_train\")\n"
   ]
  },
  {
   "cell_type": "code",
   "execution_count": 15,
   "id": "6b5a5c06-bd81-44c0-bf77-a24fb4374d79",
   "metadata": {},
   "outputs": [
    {
     "name": "stdout",
     "output_type": "stream",
     "text": [
      "+----------+-------------------+-----------+\n",
      "| namespace|          tableName|isTemporary|\n",
      "+----------+-------------------+-----------+\n",
      "|boneage_db|boneage_predictions|      false|\n",
      "|boneage_db|      boneage_train|      false|\n",
      "+----------+-------------------+-----------+\n",
      "\n"
     ]
    }
   ],
   "source": [
    "# List all tables in current Hive database\n",
    "spark.sql(\"SHOW TABLES\").show()\n"
   ]
  },
  {
   "cell_type": "code",
   "execution_count": 16,
   "id": "280cfc18-7f06-4610-8488-9a745a766cb5",
   "metadata": {},
   "outputs": [
    {
     "name": "stdout",
     "output_type": "stream",
     "text": [
      "+----+-------+-----+--------+\n",
      "|  id|boneage| male|male_int|\n",
      "+----+-------+-----+--------+\n",
      "|1377|    180|false|       0|\n",
      "|1378|     12|false|       0|\n",
      "|1379|     94|false|       0|\n",
      "|1380|    120| true|       1|\n",
      "|1381|     82|false|       0|\n",
      "+----+-------+-----+--------+\n",
      "\n"
     ]
    }
   ],
   "source": [
    "#rows from the Hive table\n",
    "spark.sql(\"SELECT * FROM boneage_train LIMIT 5\").show()\n"
   ]
  },
  {
   "cell_type": "code",
   "execution_count": 17,
   "id": "62223258-689c-44f3-a76b-185046883ae1",
   "metadata": {},
   "outputs": [],
   "source": [
    "\n",
    "spark.sql(\"USE boneage_db\")\n",
    "\n",
    "# Save prediction output to Hive table\n",
    "test_predictions.select(\"id\", \"prediction\") \\\n",
    "    .write.mode(\"overwrite\").saveAsTable(\"boneage_predictions\")\n"
   ]
  },
  {
   "cell_type": "code",
   "execution_count": 18,
   "id": "eb6fee7a-4cfd-42c7-b7b0-268a85928aff",
   "metadata": {},
   "outputs": [
    {
     "name": "stdout",
     "output_type": "stream",
     "text": [
      "+----------+-------------------+-----------+\n",
      "| namespace|          tableName|isTemporary|\n",
      "+----------+-------------------+-----------+\n",
      "|boneage_db|boneage_predictions|      false|\n",
      "|boneage_db|      boneage_train|      false|\n",
      "+----------+-------------------+-----------+\n",
      "\n",
      "+----+------------------+\n",
      "|  id|        prediction|\n",
      "+----+------------------+\n",
      "|4360|117.88023537556246|\n",
      "|4361|117.88023537556246|\n",
      "|4362|117.88023537556246|\n",
      "|4363|117.88023537556246|\n",
      "|4364|117.88023537556246|\n",
      "+----+------------------+\n",
      "\n"
     ]
    }
   ],
   "source": [
    "# List tables\n",
    "spark.sql(\"SHOW TABLES\").show()\n",
    "\n",
    "# Check predictions\n",
    "spark.sql(\"SELECT * FROM boneage_predictions LIMIT 5\").show()\n"
   ]
  },
  {
   "cell_type": "code",
   "execution_count": 19,
   "id": "03711cd8-c244-4f3d-831a-572cc22f1b59",
   "metadata": {},
   "outputs": [
    {
     "data": {
      "text/html": [
       "<div>\n",
       "<style scoped>\n",
       "    .dataframe tbody tr th:only-of-type {\n",
       "        vertical-align: middle;\n",
       "    }\n",
       "\n",
       "    .dataframe tbody tr th {\n",
       "        vertical-align: top;\n",
       "    }\n",
       "\n",
       "    .dataframe thead th {\n",
       "        text-align: right;\n",
       "    }\n",
       "</style>\n",
       "<table border=\"1\" class=\"dataframe\">\n",
       "  <thead>\n",
       "    <tr style=\"text-align: right;\">\n",
       "      <th></th>\n",
       "      <th>boneage</th>\n",
       "      <th>prediction</th>\n",
       "    </tr>\n",
       "  </thead>\n",
       "  <tbody>\n",
       "    <tr>\n",
       "      <th>0</th>\n",
       "      <td>180</td>\n",
       "      <td>117.880235</td>\n",
       "    </tr>\n",
       "    <tr>\n",
       "      <th>1</th>\n",
       "      <td>12</td>\n",
       "      <td>117.880235</td>\n",
       "    </tr>\n",
       "    <tr>\n",
       "      <th>2</th>\n",
       "      <td>94</td>\n",
       "      <td>117.880235</td>\n",
       "    </tr>\n",
       "    <tr>\n",
       "      <th>3</th>\n",
       "      <td>120</td>\n",
       "      <td>135.303673</td>\n",
       "    </tr>\n",
       "    <tr>\n",
       "      <th>4</th>\n",
       "      <td>82</td>\n",
       "      <td>117.880235</td>\n",
       "    </tr>\n",
       "  </tbody>\n",
       "</table>\n",
       "</div>"
      ],
      "text/plain": [
       "   boneage  prediction\n",
       "0      180  117.880235\n",
       "1       12  117.880235\n",
       "2       94  117.880235\n",
       "3      120  135.303673\n",
       "4       82  117.880235"
      ]
     },
     "execution_count": 19,
     "metadata": {},
     "output_type": "execute_result"
    }
   ],
   "source": [
    "# Collect predictions to Pandas\n",
    "pandas_df = predictions.select(\"boneage\", \"prediction\").toPandas()\n",
    "pandas_df.head()\n"
   ]
  },
  {
   "cell_type": "code",
   "execution_count": 21,
   "id": "1a535607-4c8c-4a6f-9d01-9f1369622611",
   "metadata": {},
   "outputs": [],
   "source": [
    "#time for visualiztion to see our prediction\n",
    "import matplotlib.pyplot as plt\n",
    "import seaborn as sns\n",
    "\n",
    "# Optional: better style\n",
    "sns.set(style=\"whitegrid\")\n"
   ]
  },
  {
   "cell_type": "code",
   "execution_count": 22,
   "id": "51f56b46-2cb2-497c-b6fe-b10e629c86b9",
   "metadata": {},
   "outputs": [
    {
     "data": {
      "image/png": "[encoded data removed]",
      "text/plain": [
       "<Figure size 1000x600 with 1 Axes>"
      ]
     },
     "metadata": {},
     "output_type": "display_data"
    }
   ],
   "source": [
    "plt.figure(figsize=(10, 6))\n",
    "sns.scatterplot(data=pandas_df, x=\"boneage\", y=\"prediction\", color=\"blue\", label=\"Predicted vs Actual\")\n",
    "\n",
    "# (perfect prediction line)\n",
    "plt.plot([pandas_df.boneage.min(), pandas_df.boneage.max()],\n",
    "         [pandas_df.boneage.min(), pandas_df.boneage.max()],\n",
    "         color='red', linestyle='--', label='Perfect Prediction')\n",
    "\n",
    "plt.title(\"Bone Age: Predicted vs Actual (Training Set)\")\n",
    "plt.xlabel(\"Actual Bone Age\")\n",
    "plt.ylabel(\"Predicted Bone Age\")\n",
    "plt.legend()\n",
    "plt.tight_layout()\n",
    "plt.show()\n"
   ]
  },
  {
   "cell_type": "code",
   "execution_count": 23,
   "id": "e89c1179-d81c-479d-b7f6-bdc7fdc689ce",
   "metadata": {},
   "outputs": [
    {
     "data": {
      "image/png": "[encoded data removed]",
      "text/plain": [
       "<Figure size 800x500 with 1 Axes>"
      ]
     },
     "metadata": {},
     "output_type": "display_data"
    }
   ],
   "source": [
    "\n",
    "pandas_df[\"error\"] = pandas_df[\"boneage\"] - pandas_df[\"prediction\"]\n",
    "\n",
    "plt.figure(figsize=(8, 5))\n",
    "sns.histplot(pandas_df[\"error\"], kde=True, color=\"purple\")\n",
    "plt.title(\"Prediction Error Distribution\")\n",
    "plt.xlabel(\"Boneage Error (Actual - Predicted)\")\n",
    "plt.ylabel(\"Frequency\")\n",
    "plt.tight_layout()\n",
    "plt.show()\n"
   ]
  },
  {
   "cell_type": "code",
   "execution_count": 24,
   "id": "12c2c1aa-6887-4bde-bd50-3d1073c2ff3e",
   "metadata": {},
   "outputs": [],
   "source": [
    "predictions = model.transform(final_train_df)\n"
   ]
  },
  {
   "cell_type": "code",
   "execution_count": 25,
   "id": "d736ab96-d60e-4547-b4c0-24c9884b39dc",
   "metadata": {},
   "outputs": [
    {
     "name": "stdout",
     "output_type": "stream",
     "text": [
      " Linear Regression Evaluation Metrics\n",
      " RMSE (Root Mean Squared Error): 40.25\n",
      " MAE  (Mean Absolute Error):     32.29\n",
      " R²   (R-squared):               0.0444\n"
     ]
    }
   ],
   "source": [
    "from pyspark.ml.evaluation import RegressionEvaluator\n",
    "\n",
    "# Root Mean Squared Error\n",
    "rmse_evaluator = RegressionEvaluator(\n",
    "    labelCol=\"boneage\", predictionCol=\"prediction\", metricName=\"rmse\"\n",
    ")\n",
    "rmse = rmse_evaluator.evaluate(predictions)\n",
    "\n",
    "# Mean Absolute Error\n",
    "mae_evaluator = RegressionEvaluator(\n",
    "    labelCol=\"boneage\", predictionCol=\"prediction\", metricName=\"mae\"\n",
    ")\n",
    "mae = mae_evaluator.evaluate(predictions)\n",
    "\n",
    "# R² Score\n",
    "r2_evaluator = RegressionEvaluator(\n",
    "    labelCol=\"boneage\", predictionCol=\"prediction\", metricName=\"r2\"\n",
    ")\n",
    "r2 = r2_evaluator.evaluate(predictions)\n",
    "\n",
    "# Show all metrics\n",
    "print(\" Linear Regression Evaluation Metrics\")\n",
    "print(f\" RMSE (Root Mean Squared Error): {rmse:.2f}\")\n",
    "print(f\" MAE  (Mean Absolute Error):     {mae:.2f}\")\n",
    "print(f\" R²   (R-squared):               {r2:.4f}\")\n"
   ]
  },
  {
   "cell_type": "code",
   "execution_count": 29,
   "id": "3d30e534-5ded-452e-a881-00d606308dc8",
   "metadata": {},
   "outputs": [],
   "source": [
    "#stop the Spark session\n",
    "spark.stop()\n",
    "\n",
    "#'The detailed explanation of the result of the prediction and the model can be found in my essay' #Future refrence victoryokezie2003@gmail.com\n"
   ]
  },
  {
   "cell_type": "code",
   "execution_count": null,
   "id": "7ae61351-9de2-4787-9a1a-13c1285a9c2f",
   "metadata": {},
   "outputs": [],
   "source": []
  }
 ],
 "metadata": {
  "kernelspec": {
   "display_name": "Python 3 (ipykernel)",
   "language": "python",
   "name": "python3"
  },
  "language_info": {
   "codemirror_mode": {
    "name": "ipython",
    "version": 3
   },
   "file_extension": ".py",
   "mimetype": "text/x-python",
   "name": "python",
   "nbconvert_exporter": "python",
   "pygments_lexer": "ipython3",
   "version": "3.11.6"
  }
 },
 "nbformat": 4,
 "nbformat_minor": 5
}
